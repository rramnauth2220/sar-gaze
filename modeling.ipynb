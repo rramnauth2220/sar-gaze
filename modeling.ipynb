{
 "cells": [
  {
   "cell_type": "code",
   "execution_count": 4,
   "metadata": {},
   "outputs": [],
   "source": [
    "from datetime import datetime\n",
    "import pandas as pd\n",
    "import matplotlib.pyplot as plt\n",
    "from scipy import stats\n",
    "import numpy as np\n",
    "import re\n",
    "import os\n",
    "import math"
   ]
  },
  {
   "cell_type": "code",
   "execution_count": 2,
   "metadata": {},
   "outputs": [],
   "source": [
    "child_w1_df = pd.read_csv('1_EXP05_Full/week_1/child.csv').iloc[: , 1:]\n",
    "child_w4_df = pd.read_csv('1_EXP05_Full/week_4/child.csv').iloc[: , 1:]"
   ]
  },
  {
   "cell_type": "markdown",
   "metadata": {},
   "source": [
    "## Markov Chain"
   ]
  },
  {
   "cell_type": "code",
   "execution_count": 4,
   "metadata": {},
   "outputs": [],
   "source": [
    "# outside = outside pre-defined boxes\n",
    "# nodetection = openCV cannot find eyes\n",
    "# screen, robot, parent\n",
    "\n",
    "def transition_matrix(transitions, order=-1):\n",
    "    df = pd.DataFrame(transitions)\n",
    "    \n",
    "    # create a new column with data shifted one space\n",
    "    df['shift'] = df[0].shift(order)\n",
    "\n",
    "    # add a count column (for group by function)\n",
    "    df['count'] = 1\n",
    "\n",
    "    # groupby and then unstack, fill the zeros\n",
    "    trans_mat = df.groupby([0, 'shift']).count().unstack().fillna(0)\n",
    "\n",
    "    # normalise by occurences and save values to get transition matrix\n",
    "    trans_mat = trans_mat.div(trans_mat.sum(axis=1), axis=0).values\n",
    "    labels = np.unique(transitions)\n",
    "    \n",
    "    return trans_mat, labels"
   ]
  },
  {
   "cell_type": "code",
   "execution_count": 5,
   "metadata": {},
   "outputs": [],
   "source": [
    "transitions_w1 = np.asarray(child_w1_df[child_w1_df['object'] != 'nodetection']['object'])\n",
    "transitions_w4 = np.asarray(child_w4_df[child_w4_df['object'] != 'nodetection']['object'])\n",
    "\n",
    "trans_mat_w1, labels_w1 = transition_matrix(transitions_w1, order=-1)\n",
    "trans_mat_w4, labels_w4 = transition_matrix(transitions_w4, order=-1)"
   ]
  },
  {
   "cell_type": "code",
   "execution_count": 6,
   "metadata": {},
   "outputs": [
    {
     "name": "stdout",
     "output_type": "stream",
     "text": [
      "[[0.33606557 0.00409836 0.04918033 0.61065574]\n",
      " [0.66666667 0.33333333 0.         0.        ]\n",
      " [0.2027027  0.         0.18918919 0.60810811]\n",
      " [0.34688995 0.00239234 0.11483254 0.53588517]] ['outside' 'parent' 'robot' 'screen']\n",
      "[[0.2        0.00656934 0.06642336 0.7270073 ]\n",
      " [0.15384615 0.17948718 0.38461538 0.28205128]\n",
      " [0.15445026 0.02225131 0.19895288 0.62434555]\n",
      " [0.33586469 0.00207111 0.17466344 0.48740076]] ['outside' 'parent' 'robot' 'screen']\n"
     ]
    }
   ],
   "source": [
    "# x-axis = next state\n",
    "# y-axis = current state\n",
    "\n",
    "print(trans_mat_w1, labels_w1)\n",
    "print(trans_mat_w4, labels_w4)"
   ]
  },
  {
   "cell_type": "code",
   "execution_count": 7,
   "metadata": {},
   "outputs": [
    {
     "name": "stdout",
     "output_type": "stream",
     "text": [
      "\n",
      "KL(week 1 || week 4): \n",
      "outside 0.05119579032370833\n",
      "parent 1.1836753512630664\n",
      "robot 0.02948639608143425\n",
      "screen 0.01420883668398295\n",
      "\n",
      "KL(week 4 || week 1): \n",
      "outside 0.04605493955574122\n",
      "parent 6.614315999567413\n",
      "robot 0.15606386867094638\n",
      "screen 0.01588168023953932\n"
     ]
    }
   ],
   "source": [
    "def KL(P,Q):\n",
    "     epsilon = 0.00001\n",
    "     P = P+epsilon\n",
    "     Q = Q+epsilon\n",
    "\n",
    "     divergence = np.sum(P*np.log(P/Q))\n",
    "     return divergence\n",
    "\n",
    "print('\\nKL(week 1 || week 4): ')\n",
    "for i in range(0, len(trans_mat_w1)):\n",
    "    print(labels_w1[i], KL(trans_mat_w1[i], trans_mat_w4[i]))\n",
    "\n",
    "print('\\nKL(week 4 || week 1): ')\n",
    "for i in range(0, len(trans_mat_w1)):\n",
    "    print(labels_w4[i], KL(trans_mat_w4[i], trans_mat_w1[i]))"
   ]
  },
  {
   "cell_type": "markdown",
   "metadata": {},
   "source": [
    "## ANOVA on Gaze"
   ]
  },
  {
   "cell_type": "code",
   "execution_count": 3,
   "metadata": {},
   "outputs": [],
   "source": [
    "import seaborn as sns\n",
    "sns.set_theme(style=\"whitegrid\")\n",
    "sns.set(rc = {'figure.figsize':(15,8)})"
   ]
  },
  {
   "cell_type": "markdown",
   "metadata": {},
   "source": [
    "### Data Processing"
   ]
  },
  {
   "cell_type": "code",
   "execution_count": 4,
   "metadata": {},
   "outputs": [],
   "source": [
    "PID = '1_EXP05_Full/'"
   ]
  },
  {
   "cell_type": "code",
   "execution_count": 5,
   "metadata": {},
   "outputs": [],
   "source": [
    "# read data\n",
    "df_c_w1 = pd.read_csv(PID + 'week_1/' + 'child.csv')\n",
    "df_c_w2 = pd.read_csv(PID + 'week_2/' + 'child.csv')\n",
    "df_c_w3 = pd.read_csv(PID + 'week_3/' + 'child.csv')\n",
    "df_c_w4 = pd.read_csv(PID + 'week_4/' + 'child.csv')"
   ]
  },
  {
   "cell_type": "code",
   "execution_count": 6,
   "metadata": {},
   "outputs": [],
   "source": [
    "# remove rows where the duration is 0\n",
    "df_c_w1 = df_c_w1[df_c_w1['duration'] != 0]\n",
    "df_c_w2 = df_c_w2[df_c_w2['duration'] != 0]\n",
    "df_c_w3 = df_c_w3[df_c_w3['duration'] != 0]\n",
    "df_c_w4 = df_c_w4[df_c_w4['duration'] != 0]"
   ]
  },
  {
   "cell_type": "code",
   "execution_count": 7,
   "metadata": {},
   "outputs": [],
   "source": [
    "# remove outliers\n",
    "df_c_w1 = df_c_w1[(np.abs(stats.zscore(df_c_w1['duration'])) < 3)].reset_index()\n",
    "df_c_w2 = df_c_w2[(np.abs(stats.zscore(df_c_w2['duration'])) < 3)].reset_index()\n",
    "df_c_w3 = df_c_w3[(np.abs(stats.zscore(df_c_w3['duration'])) < 3)].reset_index()\n",
    "df_c_w4 = df_c_w4[(np.abs(stats.zscore(df_c_w4['duration'])) < 3)].reset_index()"
   ]
  },
  {
   "cell_type": "code",
   "execution_count": 11,
   "metadata": {},
   "outputs": [
    {
     "name": "stdout",
     "output_type": "stream",
     "text": [
      "[ 7 10 11 14 16 17 18 20 21 22 23 25 27 28  2  3  4  5  6  7  8 29 30 31]\n"
     ]
    }
   ],
   "source": [
    "# determine unique days in dataset\n",
    "_, unique_days_w1 = get_unique_days(df_c_w1['start'])\n",
    "_, unique_days_w2 = get_unique_days(df_c_w2['start'])\n",
    "_, unique_days_w3 = get_unique_days(df_c_w3['start'])\n",
    "_, unique_days_w4 = get_unique_days(df_c_w4['start'])\n",
    "\n",
    "unique_days = np.concatenate((unique_days_w1, unique_days_w2, unique_days_w3, unique_days_w4), axis = 0)\n",
    "print(unique_days)"
   ]
  },
  {
   "cell_type": "code",
   "execution_count": 12,
   "metadata": {},
   "outputs": [],
   "source": [
    "# set day (of study) identifier\n",
    "df_c_w1['day'] = df_c_w1['start'].apply(lambda x: adjust_day(unique_days, unix_to_datetime(x).day))\n",
    "df_c_w2['day'] = df_c_w2['start'].apply(lambda x: adjust_day(unique_days, unix_to_datetime(x).day, blind=len(unique_days_w1)))\n",
    "df_c_w3['day'] = df_c_w3['start'].apply(lambda x: adjust_day(unique_days, unix_to_datetime(x).day, blind=len(unique_days_w1)+len(unique_days_w2)))\n",
    "df_c_w4['day'] = df_c_w4['start'].apply(lambda x: adjust_day(unique_days, unix_to_datetime(x).day, blind=len(unique_days_w1)+len(unique_days_w2)+len(unique_days_w3)))"
   ]
  },
  {
   "cell_type": "code",
   "execution_count": 13,
   "metadata": {},
   "outputs": [],
   "source": [
    "# set week identifier\n",
    "df_c_w1['week'] = 1\n",
    "df_c_w2['week'] = 2\n",
    "df_c_w3['week'] = 3\n",
    "df_c_w4['week'] = 4"
   ]
  },
  {
   "cell_type": "code",
   "execution_count": 14,
   "metadata": {},
   "outputs": [],
   "source": [
    "# apply data transform\n",
    "df_c_w1['log_duration'] = df_c_w1['duration'].apply(lambda x: math.log(x))\n",
    "df_c_w2['log_duration'] = df_c_w2['duration'].apply(lambda x: math.log(x))\n",
    "df_c_w3['log_duration'] = df_c_w3['duration'].apply(lambda x: math.log(x))\n",
    "df_c_w4['log_duration'] = df_c_w4['duration'].apply(lambda x: math.log(x))"
   ]
  },
  {
   "cell_type": "code",
   "execution_count": 17,
   "metadata": {},
   "outputs": [],
   "source": [
    "# remove index\n",
    "df_c_w1 = df_c_w1.iloc[:, 1:]\n",
    "df_c_w2 = df_c_w2.iloc[:, 1:]\n",
    "df_c_w3 = df_c_w3.iloc[:, 1:]\n",
    "df_c_w4 = df_c_w4.iloc[:, 1:]"
   ]
  },
  {
   "cell_type": "code",
   "execution_count": 1,
   "metadata": {},
   "outputs": [],
   "source": []
  },
  {
   "cell_type": "code",
   "execution_count": 18,
   "metadata": {},
   "outputs": [
    {
     "data": {
      "text/html": [
       "<div>\n",
       "<style scoped>\n",
       "    .dataframe tbody tr th:only-of-type {\n",
       "        vertical-align: middle;\n",
       "    }\n",
       "\n",
       "    .dataframe tbody tr th {\n",
       "        vertical-align: top;\n",
       "    }\n",
       "\n",
       "    .dataframe thead th {\n",
       "        text-align: right;\n",
       "    }\n",
       "</style>\n",
       "<table border=\"1\" class=\"dataframe\">\n",
       "  <thead>\n",
       "    <tr style=\"text-align: right;\">\n",
       "      <th></th>\n",
       "      <th>object</th>\n",
       "      <th>duration</th>\n",
       "      <th>start</th>\n",
       "      <th>day</th>\n",
       "      <th>week</th>\n",
       "      <th>log_duration</th>\n",
       "    </tr>\n",
       "  </thead>\n",
       "  <tbody>\n",
       "    <tr>\n",
       "      <th>0</th>\n",
       "      <td>nodetection</td>\n",
       "      <td>14.193398</td>\n",
       "      <td>1.499458e+09</td>\n",
       "      <td>0</td>\n",
       "      <td>1</td>\n",
       "      <td>2.652777</td>\n",
       "    </tr>\n",
       "    <tr>\n",
       "      <th>1</th>\n",
       "      <td>outside</td>\n",
       "      <td>22.588879</td>\n",
       "      <td>1.499458e+09</td>\n",
       "      <td>0</td>\n",
       "      <td>1</td>\n",
       "      <td>3.117458</td>\n",
       "    </tr>\n",
       "    <tr>\n",
       "      <th>2</th>\n",
       "      <td>nodetection</td>\n",
       "      <td>0.599435</td>\n",
       "      <td>1.499458e+09</td>\n",
       "      <td>0</td>\n",
       "      <td>1</td>\n",
       "      <td>-0.511768</td>\n",
       "    </tr>\n",
       "    <tr>\n",
       "      <th>3</th>\n",
       "      <td>outside</td>\n",
       "      <td>0.099960</td>\n",
       "      <td>1.499458e+09</td>\n",
       "      <td>0</td>\n",
       "      <td>1</td>\n",
       "      <td>-2.302987</td>\n",
       "    </tr>\n",
       "    <tr>\n",
       "      <th>4</th>\n",
       "      <td>nodetection</td>\n",
       "      <td>0.399282</td>\n",
       "      <td>1.499458e+09</td>\n",
       "      <td>0</td>\n",
       "      <td>1</td>\n",
       "      <td>-0.918088</td>\n",
       "    </tr>\n",
       "    <tr>\n",
       "      <th>...</th>\n",
       "      <td>...</td>\n",
       "      <td>...</td>\n",
       "      <td>...</td>\n",
       "      <td>...</td>\n",
       "      <td>...</td>\n",
       "      <td>...</td>\n",
       "    </tr>\n",
       "    <tr>\n",
       "      <th>1241</th>\n",
       "      <td>outside</td>\n",
       "      <td>0.900717</td>\n",
       "      <td>1.500052e+09</td>\n",
       "      <td>3</td>\n",
       "      <td>1</td>\n",
       "      <td>-0.104564</td>\n",
       "    </tr>\n",
       "    <tr>\n",
       "      <th>1242</th>\n",
       "      <td>nodetection</td>\n",
       "      <td>0.999582</td>\n",
       "      <td>1.500052e+09</td>\n",
       "      <td>3</td>\n",
       "      <td>1</td>\n",
       "      <td>-0.000418</td>\n",
       "    </tr>\n",
       "    <tr>\n",
       "      <th>1243</th>\n",
       "      <td>screen</td>\n",
       "      <td>2.700183</td>\n",
       "      <td>1.500052e+09</td>\n",
       "      <td>3</td>\n",
       "      <td>1</td>\n",
       "      <td>0.993319</td>\n",
       "    </tr>\n",
       "    <tr>\n",
       "      <th>1244</th>\n",
       "      <td>nodetection</td>\n",
       "      <td>5.200912</td>\n",
       "      <td>1.500052e+09</td>\n",
       "      <td>3</td>\n",
       "      <td>1</td>\n",
       "      <td>1.648834</td>\n",
       "    </tr>\n",
       "    <tr>\n",
       "      <th>1245</th>\n",
       "      <td>outside</td>\n",
       "      <td>0.199892</td>\n",
       "      <td>1.500052e+09</td>\n",
       "      <td>3</td>\n",
       "      <td>1</td>\n",
       "      <td>-1.609977</td>\n",
       "    </tr>\n",
       "  </tbody>\n",
       "</table>\n",
       "<p>1246 rows × 6 columns</p>\n",
       "</div>"
      ],
      "text/plain": [
       "           object   duration         start  day  week  log_duration\n",
       "0     nodetection  14.193398  1.499458e+09    0     1      2.652777\n",
       "1         outside  22.588879  1.499458e+09    0     1      3.117458\n",
       "2     nodetection   0.599435  1.499458e+09    0     1     -0.511768\n",
       "3         outside   0.099960  1.499458e+09    0     1     -2.302987\n",
       "4     nodetection   0.399282  1.499458e+09    0     1     -0.918088\n",
       "...           ...        ...           ...  ...   ...           ...\n",
       "1241      outside   0.900717  1.500052e+09    3     1     -0.104564\n",
       "1242  nodetection   0.999582  1.500052e+09    3     1     -0.000418\n",
       "1243       screen   2.700183  1.500052e+09    3     1      0.993319\n",
       "1244  nodetection   5.200912  1.500052e+09    3     1      1.648834\n",
       "1245      outside   0.199892  1.500052e+09    3     1     -1.609977\n",
       "\n",
       "[1246 rows x 6 columns]"
      ]
     },
     "execution_count": 18,
     "metadata": {},
     "output_type": "execute_result"
    }
   ],
   "source": [
    "# check table formatting\n",
    "df_c_w1"
   ]
  },
  {
   "cell_type": "code",
   "execution_count": 19,
   "metadata": {},
   "outputs": [
    {
     "data": {
      "text/html": [
       "<div>\n",
       "<style scoped>\n",
       "    .dataframe tbody tr th:only-of-type {\n",
       "        vertical-align: middle;\n",
       "    }\n",
       "\n",
       "    .dataframe tbody tr th {\n",
       "        vertical-align: top;\n",
       "    }\n",
       "\n",
       "    .dataframe thead th {\n",
       "        text-align: right;\n",
       "    }\n",
       "</style>\n",
       "<table border=\"1\" class=\"dataframe\">\n",
       "  <thead>\n",
       "    <tr style=\"text-align: right;\">\n",
       "      <th></th>\n",
       "      <th>object</th>\n",
       "      <th>duration</th>\n",
       "      <th>start</th>\n",
       "      <th>day</th>\n",
       "      <th>week</th>\n",
       "      <th>log_duration</th>\n",
       "    </tr>\n",
       "  </thead>\n",
       "  <tbody>\n",
       "    <tr>\n",
       "      <th>0</th>\n",
       "      <td>nodetection</td>\n",
       "      <td>14.193398</td>\n",
       "      <td>1.499458e+09</td>\n",
       "      <td>0</td>\n",
       "      <td>1</td>\n",
       "      <td>2.652777</td>\n",
       "    </tr>\n",
       "    <tr>\n",
       "      <th>1</th>\n",
       "      <td>outside</td>\n",
       "      <td>22.588879</td>\n",
       "      <td>1.499458e+09</td>\n",
       "      <td>0</td>\n",
       "      <td>1</td>\n",
       "      <td>3.117458</td>\n",
       "    </tr>\n",
       "    <tr>\n",
       "      <th>2</th>\n",
       "      <td>nodetection</td>\n",
       "      <td>0.599435</td>\n",
       "      <td>1.499458e+09</td>\n",
       "      <td>0</td>\n",
       "      <td>1</td>\n",
       "      <td>-0.511768</td>\n",
       "    </tr>\n",
       "    <tr>\n",
       "      <th>3</th>\n",
       "      <td>outside</td>\n",
       "      <td>0.099960</td>\n",
       "      <td>1.499458e+09</td>\n",
       "      <td>0</td>\n",
       "      <td>1</td>\n",
       "      <td>-2.302987</td>\n",
       "    </tr>\n",
       "    <tr>\n",
       "      <th>4</th>\n",
       "      <td>nodetection</td>\n",
       "      <td>0.399282</td>\n",
       "      <td>1.499458e+09</td>\n",
       "      <td>0</td>\n",
       "      <td>1</td>\n",
       "      <td>-0.918088</td>\n",
       "    </tr>\n",
       "    <tr>\n",
       "      <th>...</th>\n",
       "      <td>...</td>\n",
       "      <td>...</td>\n",
       "      <td>...</td>\n",
       "      <td>...</td>\n",
       "      <td>...</td>\n",
       "      <td>...</td>\n",
       "    </tr>\n",
       "    <tr>\n",
       "      <th>6028</th>\n",
       "      <td>outside</td>\n",
       "      <td>3.499960</td>\n",
       "      <td>1.502152e+09</td>\n",
       "      <td>20</td>\n",
       "      <td>4</td>\n",
       "      <td>1.252751</td>\n",
       "    </tr>\n",
       "    <tr>\n",
       "      <th>6029</th>\n",
       "      <td>screen</td>\n",
       "      <td>0.300027</td>\n",
       "      <td>1.502152e+09</td>\n",
       "      <td>20</td>\n",
       "      <td>4</td>\n",
       "      <td>-1.203882</td>\n",
       "    </tr>\n",
       "    <tr>\n",
       "      <th>6030</th>\n",
       "      <td>outside</td>\n",
       "      <td>0.800036</td>\n",
       "      <td>1.502152e+09</td>\n",
       "      <td>20</td>\n",
       "      <td>4</td>\n",
       "      <td>-0.223099</td>\n",
       "    </tr>\n",
       "    <tr>\n",
       "      <th>6031</th>\n",
       "      <td>screen</td>\n",
       "      <td>2.500126</td>\n",
       "      <td>1.502152e+09</td>\n",
       "      <td>20</td>\n",
       "      <td>4</td>\n",
       "      <td>0.916341</td>\n",
       "    </tr>\n",
       "    <tr>\n",
       "      <th>6032</th>\n",
       "      <td>outside</td>\n",
       "      <td>1.000215</td>\n",
       "      <td>1.502152e+09</td>\n",
       "      <td>20</td>\n",
       "      <td>4</td>\n",
       "      <td>0.000215</td>\n",
       "    </tr>\n",
       "  </tbody>\n",
       "</table>\n",
       "<p>12611 rows × 6 columns</p>\n",
       "</div>"
      ],
      "text/plain": [
       "           object   duration         start  day  week  log_duration\n",
       "0     nodetection  14.193398  1.499458e+09    0     1      2.652777\n",
       "1         outside  22.588879  1.499458e+09    0     1      3.117458\n",
       "2     nodetection   0.599435  1.499458e+09    0     1     -0.511768\n",
       "3         outside   0.099960  1.499458e+09    0     1     -2.302987\n",
       "4     nodetection   0.399282  1.499458e+09    0     1     -0.918088\n",
       "...           ...        ...           ...  ...   ...           ...\n",
       "6028      outside   3.499960  1.502152e+09   20     4      1.252751\n",
       "6029       screen   0.300027  1.502152e+09   20     4     -1.203882\n",
       "6030      outside   0.800036  1.502152e+09   20     4     -0.223099\n",
       "6031       screen   2.500126  1.502152e+09   20     4      0.916341\n",
       "6032      outside   1.000215  1.502152e+09   20     4      0.000215\n",
       "\n",
       "[12611 rows x 6 columns]"
      ]
     },
     "execution_count": 19,
     "metadata": {},
     "output_type": "execute_result"
    }
   ],
   "source": [
    "# combine all week dataframes\n",
    "frames = [df_c_w1, df_c_w2, df_c_w3, df_c_w4]\n",
    "df_c = pd.concat(frames)\n",
    "df_c"
   ]
  },
  {
   "cell_type": "code",
   "execution_count": 6,
   "metadata": {},
   "outputs": [],
   "source": [
    "# all participants\n",
    "PIDS = ['1_EXP05/', '2_EXP01/']\n",
    "    #, '3_EXP02/', '4_EXP06/', '5_EXP07/',\n",
    "    #'6_EXP04/', '7_EXP03/', '8_EXP11/', '9_EXP12/', '11_EXP13/',\n",
    "    #'12_EXP08/', '14_EXP14/'"
   ]
  },
  {
   "cell_type": "code",
   "execution_count": 35,
   "metadata": {},
   "outputs": [
    {
     "name": "stdout",
     "output_type": "stream",
     "text": [
      "processing 1_EXP05/\n",
      "processing 2_EXP01/\n"
     ]
    }
   ],
   "source": [
    "frames_df = []\n",
    "\n",
    "for p in PIDS:\n",
    "    print('processing', p)\n",
    "    \n",
    "    # read data\n",
    "    df_c_w1 = pd.read_csv(p + 'week_1/' + 'child.csv')\n",
    "    df_c_w2 = pd.read_csv(p + 'week_2/' + 'child.csv')\n",
    "    df_c_w3 = pd.read_csv(p + 'week_3/' + 'child.csv')\n",
    "    df_c_w4 = pd.read_csv(p + 'week_4/' + 'child.csv')\n",
    "    \n",
    "    # remove rows where the duration is 0\n",
    "    df_c_w1 = df_c_w1[df_c_w1['duration'] != 0]\n",
    "    df_c_w2 = df_c_w2[df_c_w2['duration'] != 0]\n",
    "    df_c_w3 = df_c_w3[df_c_w3['duration'] != 0]\n",
    "    df_c_w4 = df_c_w4[df_c_w4['duration'] != 0]\n",
    "    \n",
    "    # remove outliers\n",
    "    df_c_w1 = df_c_w1[(np.abs(stats.zscore(df_c_w1['duration'])) < 3)].reset_index()\n",
    "    df_c_w2 = df_c_w2[(np.abs(stats.zscore(df_c_w2['duration'])) < 3)].reset_index()\n",
    "    df_c_w3 = df_c_w3[(np.abs(stats.zscore(df_c_w3['duration'])) < 3)].reset_index()\n",
    "    df_c_w4 = df_c_w4[(np.abs(stats.zscore(df_c_w4['duration'])) < 3)].reset_index()\n",
    "\n",
    "    # determine unique days in dataset\n",
    "    _, unique_days_w1 = get_unique_days(df_c_w1['start'])\n",
    "    _, unique_days_w2 = get_unique_days(df_c_w2['start'])\n",
    "    _, unique_days_w3 = get_unique_days(df_c_w3['start'])\n",
    "    _, unique_days_w4 = get_unique_days(df_c_w4['start'])\n",
    "\n",
    "    unique_days = np.concatenate((unique_days_w1, unique_days_w2, unique_days_w3, unique_days_w4), axis = 0)\n",
    "    \n",
    "    # set day (of study) identifier\n",
    "    df_c_w1['day'] = df_c_w1['start'].apply(lambda x: adjust_day(unique_days, unix_to_datetime(x).day))\n",
    "    df_c_w2['day'] = df_c_w2['start'].apply(lambda x: adjust_day(unique_days, unix_to_datetime(x).day, blind=len(unique_days_w1)))\n",
    "    df_c_w3['day'] = df_c_w3['start'].apply(lambda x: adjust_day(unique_days, unix_to_datetime(x).day, blind=len(unique_days_w1)+len(unique_days_w2)))\n",
    "    df_c_w4['day'] = df_c_w4['start'].apply(lambda x: adjust_day(unique_days, unix_to_datetime(x).day, blind=len(unique_days_w1)+len(unique_days_w2)+len(unique_days_w3)))\n",
    "\n",
    "    # set week identifier\n",
    "    df_c_w1['week'] = 1\n",
    "    df_c_w2['week'] = 2\n",
    "    df_c_w3['week'] = 3\n",
    "    df_c_w4['week'] = 4\n",
    "    \n",
    "    # apply data transform\n",
    "    df_c_w1['log_duration'] = df_c_w1['duration'].apply(lambda x: math.log(x))\n",
    "    df_c_w2['log_duration'] = df_c_w2['duration'].apply(lambda x: math.log(x))\n",
    "    df_c_w3['log_duration'] = df_c_w3['duration'].apply(lambda x: math.log(x))\n",
    "    df_c_w4['log_duration'] = df_c_w4['duration'].apply(lambda x: math.log(x))\n",
    "    \n",
    "    # combine all week dataframes\n",
    "    frames = [df_c_w1, df_c_w2, df_c_w3, df_c_w4]\n",
    "    df_c_p = pd.concat(frames)\n",
    "    df_c_p['PID'] = p\n",
    "    \n",
    "    # remove index\n",
    "    df_c_p = df_c_p.iloc[:, 2:]\n",
    "    \n",
    "    frames_df.append(df_c_p)\n",
    "    \n",
    "df_c = pd.concat(frames_df, ignore_index=True)"
   ]
  },
  {
   "cell_type": "code",
   "execution_count": 36,
   "metadata": {},
   "outputs": [
    {
     "data": {
      "text/html": [
       "<div>\n",
       "<style scoped>\n",
       "    .dataframe tbody tr th:only-of-type {\n",
       "        vertical-align: middle;\n",
       "    }\n",
       "\n",
       "    .dataframe tbody tr th {\n",
       "        vertical-align: top;\n",
       "    }\n",
       "\n",
       "    .dataframe thead th {\n",
       "        text-align: right;\n",
       "    }\n",
       "</style>\n",
       "<table border=\"1\" class=\"dataframe\">\n",
       "  <thead>\n",
       "    <tr style=\"text-align: right;\">\n",
       "      <th></th>\n",
       "      <th>object</th>\n",
       "      <th>duration</th>\n",
       "      <th>start</th>\n",
       "      <th>day</th>\n",
       "      <th>week</th>\n",
       "      <th>log_duration</th>\n",
       "      <th>PID</th>\n",
       "    </tr>\n",
       "  </thead>\n",
       "  <tbody>\n",
       "    <tr>\n",
       "      <th>0</th>\n",
       "      <td>nodetection</td>\n",
       "      <td>14.193398</td>\n",
       "      <td>1.499458e+09</td>\n",
       "      <td>0</td>\n",
       "      <td>1</td>\n",
       "      <td>2.652777</td>\n",
       "      <td>1_EXP05/</td>\n",
       "    </tr>\n",
       "    <tr>\n",
       "      <th>1</th>\n",
       "      <td>outside</td>\n",
       "      <td>22.588879</td>\n",
       "      <td>1.499458e+09</td>\n",
       "      <td>0</td>\n",
       "      <td>1</td>\n",
       "      <td>3.117458</td>\n",
       "      <td>1_EXP05/</td>\n",
       "    </tr>\n",
       "    <tr>\n",
       "      <th>2</th>\n",
       "      <td>nodetection</td>\n",
       "      <td>0.599435</td>\n",
       "      <td>1.499458e+09</td>\n",
       "      <td>0</td>\n",
       "      <td>1</td>\n",
       "      <td>-0.511768</td>\n",
       "      <td>1_EXP05/</td>\n",
       "    </tr>\n",
       "    <tr>\n",
       "      <th>3</th>\n",
       "      <td>outside</td>\n",
       "      <td>0.099960</td>\n",
       "      <td>1.499458e+09</td>\n",
       "      <td>0</td>\n",
       "      <td>1</td>\n",
       "      <td>-2.302987</td>\n",
       "      <td>1_EXP05/</td>\n",
       "    </tr>\n",
       "    <tr>\n",
       "      <th>4</th>\n",
       "      <td>nodetection</td>\n",
       "      <td>0.399282</td>\n",
       "      <td>1.499458e+09</td>\n",
       "      <td>0</td>\n",
       "      <td>1</td>\n",
       "      <td>-0.918088</td>\n",
       "      <td>1_EXP05/</td>\n",
       "    </tr>\n",
       "    <tr>\n",
       "      <th>...</th>\n",
       "      <td>...</td>\n",
       "      <td>...</td>\n",
       "      <td>...</td>\n",
       "      <td>...</td>\n",
       "      <td>...</td>\n",
       "      <td>...</td>\n",
       "      <td>...</td>\n",
       "    </tr>\n",
       "    <tr>\n",
       "      <th>11885</th>\n",
       "      <td>outside</td>\n",
       "      <td>0.099465</td>\n",
       "      <td>1.502215e+09</td>\n",
       "      <td>6</td>\n",
       "      <td>4</td>\n",
       "      <td>-2.307951</td>\n",
       "      <td>2_EXP01/</td>\n",
       "    </tr>\n",
       "    <tr>\n",
       "      <th>11886</th>\n",
       "      <td>screen</td>\n",
       "      <td>5.099890</td>\n",
       "      <td>1.502215e+09</td>\n",
       "      <td>6</td>\n",
       "      <td>4</td>\n",
       "      <td>1.629219</td>\n",
       "      <td>2_EXP01/</td>\n",
       "    </tr>\n",
       "    <tr>\n",
       "      <th>11887</th>\n",
       "      <td>nodetection</td>\n",
       "      <td>0.499496</td>\n",
       "      <td>1.502215e+09</td>\n",
       "      <td>6</td>\n",
       "      <td>4</td>\n",
       "      <td>-0.694155</td>\n",
       "      <td>2_EXP01/</td>\n",
       "    </tr>\n",
       "    <tr>\n",
       "      <th>11888</th>\n",
       "      <td>screen</td>\n",
       "      <td>7.999662</td>\n",
       "      <td>1.502215e+09</td>\n",
       "      <td>6</td>\n",
       "      <td>4</td>\n",
       "      <td>2.079399</td>\n",
       "      <td>2_EXP01/</td>\n",
       "    </tr>\n",
       "    <tr>\n",
       "      <th>11889</th>\n",
       "      <td>outside</td>\n",
       "      <td>0.400606</td>\n",
       "      <td>1.502215e+09</td>\n",
       "      <td>6</td>\n",
       "      <td>4</td>\n",
       "      <td>-0.914776</td>\n",
       "      <td>2_EXP01/</td>\n",
       "    </tr>\n",
       "  </tbody>\n",
       "</table>\n",
       "<p>11890 rows × 7 columns</p>\n",
       "</div>"
      ],
      "text/plain": [
       "            object   duration         start  day  week  log_duration       PID\n",
       "0      nodetection  14.193398  1.499458e+09    0     1      2.652777  1_EXP05/\n",
       "1          outside  22.588879  1.499458e+09    0     1      3.117458  1_EXP05/\n",
       "2      nodetection   0.599435  1.499458e+09    0     1     -0.511768  1_EXP05/\n",
       "3          outside   0.099960  1.499458e+09    0     1     -2.302987  1_EXP05/\n",
       "4      nodetection   0.399282  1.499458e+09    0     1     -0.918088  1_EXP05/\n",
       "...            ...        ...           ...  ...   ...           ...       ...\n",
       "11885      outside   0.099465  1.502215e+09    6     4     -2.307951  2_EXP01/\n",
       "11886       screen   5.099890  1.502215e+09    6     4      1.629219  2_EXP01/\n",
       "11887  nodetection   0.499496  1.502215e+09    6     4     -0.694155  2_EXP01/\n",
       "11888       screen   7.999662  1.502215e+09    6     4      2.079399  2_EXP01/\n",
       "11889      outside   0.400606  1.502215e+09    6     4     -0.914776  2_EXP01/\n",
       "\n",
       "[11890 rows x 7 columns]"
      ]
     },
     "execution_count": 36,
     "metadata": {},
     "output_type": "execute_result"
    }
   ],
   "source": [
    "df_c"
   ]
  },
  {
   "cell_type": "markdown",
   "metadata": {},
   "source": [
    "### Plots"
   ]
  },
  {
   "cell_type": "code",
   "execution_count": 21,
   "metadata": {},
   "outputs": [],
   "source": [
    "# which object are we looking at?\n",
    "obj = 'parent'"
   ]
  },
  {
   "cell_type": "code",
   "execution_count": 241,
   "metadata": {},
   "outputs": [
    {
     "data": {
      "image/png": "[encoded data removed]",
      "text/plain": [
       "<Figure size 1080x576 with 1 Axes>"
      ]
     },
     "metadata": {},
     "output_type": "display_data"
    }
   ],
   "source": [
    "# example daily analysis, one week\n",
    "ax = sns.violinplot(x=\"day\", y=\"log_duration\", data=df_c_w4[df_c_w4['object'] == obj], palette=\"pastel\")"
   ]
  },
  {
   "cell_type": "code",
   "execution_count": 243,
   "metadata": {},
   "outputs": [
    {
     "data": {
      "image/png": "[encoded data removed]",
      "text/plain": [
       "<Figure size 1080x576 with 1 Axes>"
      ]
     },
     "metadata": {},
     "output_type": "display_data"
    }
   ],
   "source": [
    "# example weekly analysis, entire study\n",
    "ax = sns.violinplot(x=\"week\", y=\"log_duration\", data=df_c[df_c['object'] == obj], palette=\"pastel\")"
   ]
  },
  {
   "cell_type": "markdown",
   "metadata": {},
   "source": [
    "### One-Way ANOVA"
   ]
  },
  {
   "cell_type": "code",
   "execution_count": 37,
   "metadata": {},
   "outputs": [],
   "source": [
    "df_c_summary = pd.DataFrame({\n",
    "    'Week 1': df_c[(df_c['week'] == 1) & (df_c['object'] == obj)]['duration'], # df_c_w1[df_c_w1['object'] == obj]['duration'], \n",
    "    'Week 2': df_c[(df_c['week'] == 2) & (df_c['object'] == obj)]['duration'], # df_c_w2[df_c_w2['object'] == obj]['duration'], \n",
    "    'Week 3': df_c[(df_c['week'] == 3) & (df_c['object'] == obj)]['duration'], # df_c_w3[df_c_w3['object'] == obj]['duration'], \n",
    "    'Week 4': df_c[(df_c['week'] == 4) & (df_c['object'] == obj)]['duration']  # df_c_w4[df_c_w4['object'] == obj]['duration']\n",
    "})"
   ]
  },
  {
   "cell_type": "code",
   "execution_count": 38,
   "metadata": {},
   "outputs": [
    {
     "data": {
      "text/html": [
       "<div>\n",
       "<style scoped>\n",
       "    .dataframe tbody tr th:only-of-type {\n",
       "        vertical-align: middle;\n",
       "    }\n",
       "\n",
       "    .dataframe tbody tr th {\n",
       "        vertical-align: top;\n",
       "    }\n",
       "\n",
       "    .dataframe thead th {\n",
       "        text-align: right;\n",
       "    }\n",
       "</style>\n",
       "<table border=\"1\" class=\"dataframe\">\n",
       "  <thead>\n",
       "    <tr style=\"text-align: right;\">\n",
       "      <th></th>\n",
       "      <th>Week 1</th>\n",
       "      <th>Week 2</th>\n",
       "      <th>Week 3</th>\n",
       "      <th>Week 4</th>\n",
       "    </tr>\n",
       "  </thead>\n",
       "  <tbody>\n",
       "    <tr>\n",
       "      <th>count</th>\n",
       "      <td>66.000000</td>\n",
       "      <td>220.000000</td>\n",
       "      <td>78.000000</td>\n",
       "      <td>89.000000</td>\n",
       "    </tr>\n",
       "    <tr>\n",
       "      <th>mean</th>\n",
       "      <td>0.998098</td>\n",
       "      <td>0.595055</td>\n",
       "      <td>0.512879</td>\n",
       "      <td>0.777541</td>\n",
       "    </tr>\n",
       "    <tr>\n",
       "      <th>std</th>\n",
       "      <td>1.319642</td>\n",
       "      <td>0.663780</td>\n",
       "      <td>0.620476</td>\n",
       "      <td>0.911990</td>\n",
       "    </tr>\n",
       "    <tr>\n",
       "      <th>min</th>\n",
       "      <td>0.099592</td>\n",
       "      <td>0.099516</td>\n",
       "      <td>0.099534</td>\n",
       "      <td>0.099789</td>\n",
       "    </tr>\n",
       "    <tr>\n",
       "      <th>25%</th>\n",
       "      <td>0.199574</td>\n",
       "      <td>0.100358</td>\n",
       "      <td>0.199897</td>\n",
       "      <td>0.199980</td>\n",
       "    </tr>\n",
       "    <tr>\n",
       "      <th>50%</th>\n",
       "      <td>0.349871</td>\n",
       "      <td>0.300526</td>\n",
       "      <td>0.299904</td>\n",
       "      <td>0.400100</td>\n",
       "    </tr>\n",
       "    <tr>\n",
       "      <th>75%</th>\n",
       "      <td>1.174327</td>\n",
       "      <td>0.799989</td>\n",
       "      <td>0.600013</td>\n",
       "      <td>0.900071</td>\n",
       "    </tr>\n",
       "    <tr>\n",
       "      <th>max</th>\n",
       "      <td>5.597485</td>\n",
       "      <td>3.699827</td>\n",
       "      <td>3.399907</td>\n",
       "      <td>4.199636</td>\n",
       "    </tr>\n",
       "  </tbody>\n",
       "</table>\n",
       "</div>"
      ],
      "text/plain": [
       "          Week 1      Week 2     Week 3     Week 4\n",
       "count  66.000000  220.000000  78.000000  89.000000\n",
       "mean    0.998098    0.595055   0.512879   0.777541\n",
       "std     1.319642    0.663780   0.620476   0.911990\n",
       "min     0.099592    0.099516   0.099534   0.099789\n",
       "25%     0.199574    0.100358   0.199897   0.199980\n",
       "50%     0.349871    0.300526   0.299904   0.400100\n",
       "75%     1.174327    0.799989   0.600013   0.900071\n",
       "max     5.597485    3.699827   3.399907   4.199636"
      ]
     },
     "execution_count": 38,
     "metadata": {},
     "output_type": "execute_result"
    }
   ],
   "source": [
    "df_c_summary.describe()"
   ]
  },
  {
   "cell_type": "code",
   "execution_count": 41,
   "metadata": {},
   "outputs": [
    {
     "name": "stdout",
     "output_type": "stream",
     "text": [
      "F-Statistic=2.357, p=0.071\n"
     ]
    }
   ],
   "source": [
    "# one-way ANOVA, check if model is significant\n",
    "F, p = stats.f_oneway(\n",
    "    df_c[(df_c['week'] == 1) & (df_c['object'] == obj)]['log_duration'], # df_c_w1[df_c_w1['object'] == obj]['duration'], \n",
    "    df_c[(df_c['week'] == 2) & (df_c['object'] == obj)]['log_duration'], # df_c_w2[df_c_w2['object'] == obj]['duration'], \n",
    "    df_c[(df_c['week'] == 3) & (df_c['object'] == obj)]['log_duration'], # df_c_w3[df_c_w3['object'] == obj]['duration'], \n",
    "    df_c[(df_c['week'] == 4) & (df_c['object'] == obj)]['log_duration']  # df_c_w4[df_c_w4['object'] == obj]['duration']\n",
    ")\n",
    "\n",
    "print('F-Statistic=%.3f, p=%.3f' % (F, p))\n",
    "\n",
    "# if we see that p-value is < 0.05. \n",
    "# we can reject the null hypothesis which states that there is no difference among the different density groups"
   ]
  },
  {
   "cell_type": "code",
   "execution_count": 45,
   "metadata": {},
   "outputs": [
    {
     "data": {
      "text/html": [
       "<table class=\"simpletable\">\n",
       "<caption>OLS Regression Results</caption>\n",
       "<tr>\n",
       "  <th>Dep. Variable:</th>      <td>log_duration</td>   <th>  R-squared:         </th> <td>   0.016</td>\n",
       "</tr>\n",
       "<tr>\n",
       "  <th>Model:</th>                   <td>OLS</td>       <th>  Adj. R-squared:    </th> <td>   0.009</td>\n",
       "</tr>\n",
       "<tr>\n",
       "  <th>Method:</th>             <td>Least Squares</td>  <th>  F-statistic:       </th> <td>   2.357</td>\n",
       "</tr>\n",
       "<tr>\n",
       "  <th>Date:</th>             <td>Fri, 18 Mar 2022</td> <th>  Prob (F-statistic):</th>  <td>0.0711</td> \n",
       "</tr>\n",
       "<tr>\n",
       "  <th>Time:</th>                 <td>16:09:44</td>     <th>  Log-Likelihood:    </th> <td> -669.98</td>\n",
       "</tr>\n",
       "<tr>\n",
       "  <th>No. Observations:</th>      <td>   453</td>      <th>  AIC:               </th> <td>   1348.</td>\n",
       "</tr>\n",
       "<tr>\n",
       "  <th>Df Residuals:</th>          <td>   449</td>      <th>  BIC:               </th> <td>   1364.</td>\n",
       "</tr>\n",
       "<tr>\n",
       "  <th>Df Model:</th>              <td>     3</td>      <th>                     </th>     <td> </td>   \n",
       "</tr>\n",
       "<tr>\n",
       "  <th>Covariance Type:</th>      <td>nonrobust</td>    <th>                     </th>     <td> </td>   \n",
       "</tr>\n",
       "</table>\n",
       "<table class=\"simpletable\">\n",
       "<tr>\n",
       "        <td></td>          <th>coef</th>     <th>std err</th>      <th>t</th>      <th>P>|t|</th>  <th>[0.025</th>    <th>0.975]</th>  \n",
       "</tr>\n",
       "<tr>\n",
       "  <th>Intercept</th>    <td>   -0.7691</td> <td>    0.131</td> <td>   -5.858</td> <td> 0.000</td> <td>   -1.027</td> <td>   -0.511</td>\n",
       "</tr>\n",
       "<tr>\n",
       "  <th>C(week)[T.2]</th> <td>   -0.2762</td> <td>    0.150</td> <td>   -1.845</td> <td> 0.066</td> <td>   -0.570</td> <td>    0.018</td>\n",
       "</tr>\n",
       "<tr>\n",
       "  <th>C(week)[T.3]</th> <td>   -0.3897</td> <td>    0.178</td> <td>   -2.184</td> <td> 0.029</td> <td>   -0.740</td> <td>   -0.039</td>\n",
       "</tr>\n",
       "<tr>\n",
       "  <th>C(week)[T.4]</th> <td>   -0.0731</td> <td>    0.173</td> <td>   -0.422</td> <td> 0.673</td> <td>   -0.414</td> <td>    0.267</td>\n",
       "</tr>\n",
       "</table>\n",
       "<table class=\"simpletable\">\n",
       "<tr>\n",
       "  <th>Omnibus:</th>       <td>74.921</td> <th>  Durbin-Watson:     </th> <td>   1.976</td>\n",
       "</tr>\n",
       "<tr>\n",
       "  <th>Prob(Omnibus):</th> <td> 0.000</td> <th>  Jarque-Bera (JB):  </th> <td>  24.394</td>\n",
       "</tr>\n",
       "<tr>\n",
       "  <th>Skew:</th>          <td> 0.319</td> <th>  Prob(JB):          </th> <td>5.05e-06</td>\n",
       "</tr>\n",
       "<tr>\n",
       "  <th>Kurtosis:</th>      <td> 2.058</td> <th>  Cond. No.          </th> <td>    6.43</td>\n",
       "</tr>\n",
       "</table><br/><br/>Notes:<br/>[1] Standard Errors assume that the covariance matrix of the errors is correctly specified."
      ],
      "text/plain": [
       "<class 'statsmodels.iolib.summary.Summary'>\n",
       "\"\"\"\n",
       "                            OLS Regression Results                            \n",
       "==============================================================================\n",
       "Dep. Variable:           log_duration   R-squared:                       0.016\n",
       "Model:                            OLS   Adj. R-squared:                  0.009\n",
       "Method:                 Least Squares   F-statistic:                     2.357\n",
       "Date:                Fri, 18 Mar 2022   Prob (F-statistic):             0.0711\n",
       "Time:                        16:09:44   Log-Likelihood:                -669.98\n",
       "No. Observations:                 453   AIC:                             1348.\n",
       "Df Residuals:                     449   BIC:                             1364.\n",
       "Df Model:                           3                                         \n",
       "Covariance Type:            nonrobust                                         \n",
       "================================================================================\n",
       "                   coef    std err          t      P>|t|      [0.025      0.975]\n",
       "--------------------------------------------------------------------------------\n",
       "Intercept       -0.7691      0.131     -5.858      0.000      -1.027      -0.511\n",
       "C(week)[T.2]    -0.2762      0.150     -1.845      0.066      -0.570       0.018\n",
       "C(week)[T.3]    -0.3897      0.178     -2.184      0.029      -0.740      -0.039\n",
       "C(week)[T.4]    -0.0731      0.173     -0.422      0.673      -0.414       0.267\n",
       "==============================================================================\n",
       "Omnibus:                       74.921   Durbin-Watson:                   1.976\n",
       "Prob(Omnibus):                  0.000   Jarque-Bera (JB):               24.394\n",
       "Skew:                           0.319   Prob(JB):                     5.05e-06\n",
       "Kurtosis:                       2.058   Cond. No.                         6.43\n",
       "==============================================================================\n",
       "\n",
       "Notes:\n",
       "[1] Standard Errors assume that the covariance matrix of the errors is correctly specified.\n",
       "\"\"\""
      ]
     },
     "execution_count": 45,
     "metadata": {},
     "output_type": "execute_result"
    }
   ],
   "source": [
    "from statsmodels.formula.api import ols\n",
    "\n",
    "# one-way ANOVA, regress against each input variable to check influence over the target variable\n",
    "model = ols('log_duration ~ C(week)', df_c[df_c['object'] == obj]).fit()\n",
    "model.summary()"
   ]
  },
  {
   "cell_type": "code",
   "execution_count": 47,
   "metadata": {},
   "outputs": [
    {
     "name": "stdout",
     "output_type": "stream",
     "text": [
      "Overall model F( 3, 449) =  2.357, p =  0.0711\n"
     ]
    }
   ],
   "source": [
    "# check if overall model is significant\n",
    "print(f\"Overall model F({model.df_model: .0f},{model.df_resid: .0f}) = {model.fvalue: .3f}, p = {model.f_pvalue: .4f}\")"
   ]
  },
  {
   "cell_type": "code",
   "execution_count": 46,
   "metadata": {},
   "outputs": [
    {
     "data": {
      "text/html": [
       "<div>\n",
       "<style scoped>\n",
       "    .dataframe tbody tr th:only-of-type {\n",
       "        vertical-align: middle;\n",
       "    }\n",
       "\n",
       "    .dataframe tbody tr th {\n",
       "        vertical-align: top;\n",
       "    }\n",
       "\n",
       "    .dataframe thead th {\n",
       "        text-align: right;\n",
       "    }\n",
       "</style>\n",
       "<table border=\"1\" class=\"dataframe\">\n",
       "  <thead>\n",
       "    <tr style=\"text-align: right;\">\n",
       "      <th></th>\n",
       "      <th>sum_sq</th>\n",
       "      <th>df</th>\n",
       "      <th>F</th>\n",
       "      <th>PR(&gt;F)</th>\n",
       "    </tr>\n",
       "  </thead>\n",
       "  <tbody>\n",
       "    <tr>\n",
       "      <th>C(week)</th>\n",
       "      <td>8.045773</td>\n",
       "      <td>3.0</td>\n",
       "      <td>2.357447</td>\n",
       "      <td>0.071105</td>\n",
       "    </tr>\n",
       "    <tr>\n",
       "      <th>Residual</th>\n",
       "      <td>510.800019</td>\n",
       "      <td>449.0</td>\n",
       "      <td>NaN</td>\n",
       "      <td>NaN</td>\n",
       "    </tr>\n",
       "  </tbody>\n",
       "</table>\n",
       "</div>"
      ],
      "text/plain": [
       "              sum_sq     df         F    PR(>F)\n",
       "C(week)     8.045773    3.0  2.357447  0.071105\n",
       "Residual  510.800019  449.0       NaN       NaN"
      ]
     },
     "execution_count": 46,
     "metadata": {},
     "output_type": "execute_result"
    }
   ],
   "source": [
    "import statsmodels.api as sm\n",
    "\n",
    "# create the ANOVA table\n",
    "res = sm.stats.anova_lm(model, typ= 2)\n",
    "res\n",
    "\n",
    "# from the output, we see that the p  >0.05. \n",
    "# Therefore, we cannot reject the null hypothesis. \n",
    "# There is no difference among the different weeks"
   ]
  },
  {
   "cell_type": "markdown",
   "metadata": {},
   "source": [
    "### Post Hoc"
   ]
  },
  {
   "cell_type": "code",
   "execution_count": 48,
   "metadata": {},
   "outputs": [
    {
     "name": "stdout",
     "output_type": "stream",
     "text": [
      "Multiple Comparison of Means - Tukey HSD, FWER=0.05 \n",
      "====================================================\n",
      "group1 group2 meandiff p-adj   lower   upper  reject\n",
      "----------------------------------------------------\n",
      "     1      2  -0.2256  0.001 -0.3213   -0.13   True\n",
      "     1      3  -0.5009  0.001 -0.5948  -0.407   True\n",
      "     1      4  -0.1524  0.001 -0.2465 -0.0584   True\n",
      "     2      3  -0.2753  0.001 -0.3558 -0.1948   True\n",
      "     2      4   0.0732 0.0913 -0.0075  0.1539  False\n",
      "     3      4   0.3485  0.001  0.2698  0.4271   True\n",
      "----------------------------------------------------\n"
     ]
    }
   ],
   "source": [
    "import statsmodels.stats.multicomp\n",
    "\n",
    "# tukey hsd test to examine where the group differences lie\n",
    "mc = statsmodels.stats.multicomp.MultiComparison(df_c['log_duration'], df_c['week'])\n",
    "mc_results = mc.tukeyhsd()\n",
    "print(mc_results)\n",
    "\n",
    "# where reject = True, there is a significant difference between the groups"
   ]
  },
  {
   "cell_type": "code",
   "execution_count": 49,
   "metadata": {},
   "outputs": [
    {
     "name": "stdout",
     "output_type": "stream",
     "text": [
      "0.9493828415870667 2.4909860632527092e-11\n"
     ]
    }
   ],
   "source": [
    "# normality assumption check using shapiro wilk test\n",
    "w, pvalue = stats.shapiro(model.resid)\n",
    "print(w, pvalue)\n",
    "\n",
    "# if the p-value >0.05\n",
    "# we can conclude that our data follows the gaussian distribution\n",
    "# else, it doesn't follow the assumptions of the ANOVA model"
   ]
  },
  {
   "cell_type": "code",
   "execution_count": 50,
   "metadata": {},
   "outputs": [
    {
     "data": {
      "image/png": "[encoded data removed]",
      "text/plain": [
       "<Figure size 432x288 with 1 Axes>"
      ]
     },
     "metadata": {
      "needs_background": "light"
     },
     "output_type": "display_data"
    }
   ],
   "source": [
    "# using the Normal Q-Q plot to test this assumption\n",
    "res = model.resid\n",
    "fig = sm.qqplot(res, line='s')\n",
    "plt.show()\n",
    "\n",
    "# if we see that all data points lie close to the 45-degree line\n",
    "# we can conclude it follows the normal distribution"
   ]
  },
  {
   "cell_type": "code",
   "execution_count": 51,
   "metadata": {},
   "outputs": [
    {
     "name": "stdout",
     "output_type": "stream",
     "text": [
      "Bartlett variance test: w=65.879, p=0.000\n",
      "Levene variance test: w=4.746, p=0.003\n"
     ]
    }
   ],
   "source": [
    "# homogeneity of variance assumption check\n",
    "\n",
    "# Bartlett variance test, Method 1\n",
    "wb, pb = stats.bartlett(\n",
    "    df_c_w1[df_c_w1['object'] == obj]['duration'], \n",
    "    df_c_w2[df_c_w2['object'] == obj]['duration'], \n",
    "    df_c_w3[df_c_w3['object'] == obj]['duration'], \n",
    "    df_c_w4[df_c_w4['object'] == obj]['duration']\n",
    ")\n",
    "print('Bartlett variance test: w=%.3f, p=%.3f' % (wb, pb))\n",
    "\n",
    "# Levene variance test, Method 2\n",
    "wl, pl = stats.levene(\n",
    "    df_c_w1[df_c_w1['object'] == obj]['duration'], \n",
    "    df_c_w2[df_c_w2['object'] == obj]['duration'], \n",
    "    df_c_w3[df_c_w3['object'] == obj]['duration'], \n",
    "    df_c_w4[df_c_w4['object'] == obj]['duration']\n",
    ")\n",
    "print('Levene variance test: w=%.3f, p=%.3f' % (wl, pl))\n",
    "\n",
    "# if we see p > 0.05 for all weeks\n",
    "# we can conclude that groups have equal variances"
   ]
  },
  {
   "cell_type": "markdown",
   "metadata": {},
   "source": [
    "### Two-Way ANOVA"
   ]
  },
  {
   "cell_type": "code",
   "execution_count": 52,
   "metadata": {},
   "outputs": [
    {
     "data": {
      "text/html": [
       "<table class=\"simpletable\">\n",
       "<caption>OLS Regression Results</caption>\n",
       "<tr>\n",
       "  <th>Dep. Variable:</th>      <td>log_duration</td>   <th>  R-squared:         </th> <td>   0.056</td> \n",
       "</tr>\n",
       "<tr>\n",
       "  <th>Model:</th>                   <td>OLS</td>       <th>  Adj. R-squared:    </th> <td>   0.056</td> \n",
       "</tr>\n",
       "<tr>\n",
       "  <th>Method:</th>             <td>Least Squares</td>  <th>  F-statistic:       </th> <td>   100.9</td> \n",
       "</tr>\n",
       "<tr>\n",
       "  <th>Date:</th>             <td>Fri, 18 Mar 2022</td> <th>  Prob (F-statistic):</th> <td>6.64e-144</td>\n",
       "</tr>\n",
       "<tr>\n",
       "  <th>Time:</th>                 <td>16:10:35</td>     <th>  Log-Likelihood:    </th> <td> -19494.</td> \n",
       "</tr>\n",
       "<tr>\n",
       "  <th>No. Observations:</th>      <td> 11890</td>      <th>  AIC:               </th> <td>3.900e+04</td>\n",
       "</tr>\n",
       "<tr>\n",
       "  <th>Df Residuals:</th>          <td> 11882</td>      <th>  BIC:               </th> <td>3.906e+04</td>\n",
       "</tr>\n",
       "<tr>\n",
       "  <th>Df Model:</th>              <td>     7</td>      <th>                     </th>     <td> </td>    \n",
       "</tr>\n",
       "<tr>\n",
       "  <th>Covariance Type:</th>      <td>nonrobust</td>    <th>                     </th>     <td> </td>    \n",
       "</tr>\n",
       "</table>\n",
       "<table class=\"simpletable\">\n",
       "<tr>\n",
       "            <td></td>              <th>coef</th>     <th>std err</th>      <th>t</th>      <th>P>|t|</th>  <th>[0.025</th>    <th>0.975]</th>  \n",
       "</tr>\n",
       "<tr>\n",
       "  <th>Intercept</th>            <td>   -0.2193</td> <td>    0.034</td> <td>   -6.430</td> <td> 0.000</td> <td>   -0.286</td> <td>   -0.152</td>\n",
       "</tr>\n",
       "<tr>\n",
       "  <th>C(week)[T.2]</th>         <td>   -0.2210</td> <td>    0.037</td> <td>   -6.017</td> <td> 0.000</td> <td>   -0.293</td> <td>   -0.149</td>\n",
       "</tr>\n",
       "<tr>\n",
       "  <th>C(week)[T.3]</th>         <td>   -0.5457</td> <td>    0.036</td> <td>  -15.179</td> <td> 0.000</td> <td>   -0.616</td> <td>   -0.475</td>\n",
       "</tr>\n",
       "<tr>\n",
       "  <th>C(week)[T.4]</th>         <td>   -0.1788</td> <td>    0.036</td> <td>   -4.962</td> <td> 0.000</td> <td>   -0.249</td> <td>   -0.108</td>\n",
       "</tr>\n",
       "<tr>\n",
       "  <th>C(object)[T.outside]</th> <td>   -0.3705</td> <td>    0.034</td> <td>  -10.810</td> <td> 0.000</td> <td>   -0.438</td> <td>   -0.303</td>\n",
       "</tr>\n",
       "<tr>\n",
       "  <th>C(object)[T.parent]</th>  <td>   -0.5290</td> <td>    0.063</td> <td>   -8.348</td> <td> 0.000</td> <td>   -0.653</td> <td>   -0.405</td>\n",
       "</tr>\n",
       "<tr>\n",
       "  <th>C(object)[T.robot]</th>   <td>   -0.3219</td> <td>    0.041</td> <td>   -7.930</td> <td> 0.000</td> <td>   -0.402</td> <td>   -0.242</td>\n",
       "</tr>\n",
       "<tr>\n",
       "  <th>C(object)[T.screen]</th>  <td>    0.1915</td> <td>    0.029</td> <td>    6.506</td> <td> 0.000</td> <td>    0.134</td> <td>    0.249</td>\n",
       "</tr>\n",
       "</table>\n",
       "<table class=\"simpletable\">\n",
       "<tr>\n",
       "  <th>Omnibus:</th>       <td>307.007</td> <th>  Durbin-Watson:     </th> <td>   1.943</td>\n",
       "</tr>\n",
       "<tr>\n",
       "  <th>Prob(Omnibus):</th> <td> 0.000</td>  <th>  Jarque-Bera (JB):  </th> <td> 330.983</td>\n",
       "</tr>\n",
       "<tr>\n",
       "  <th>Skew:</th>          <td> 0.409</td>  <th>  Prob(JB):          </th> <td>1.34e-72</td>\n",
       "</tr>\n",
       "<tr>\n",
       "  <th>Kurtosis:</th>      <td> 3.019</td>  <th>  Cond. No.          </th> <td>    7.25</td>\n",
       "</tr>\n",
       "</table><br/><br/>Notes:<br/>[1] Standard Errors assume that the covariance matrix of the errors is correctly specified."
      ],
      "text/plain": [
       "<class 'statsmodels.iolib.summary.Summary'>\n",
       "\"\"\"\n",
       "                            OLS Regression Results                            \n",
       "==============================================================================\n",
       "Dep. Variable:           log_duration   R-squared:                       0.056\n",
       "Model:                            OLS   Adj. R-squared:                  0.056\n",
       "Method:                 Least Squares   F-statistic:                     100.9\n",
       "Date:                Fri, 18 Mar 2022   Prob (F-statistic):          6.64e-144\n",
       "Time:                        16:10:35   Log-Likelihood:                -19494.\n",
       "No. Observations:               11890   AIC:                         3.900e+04\n",
       "Df Residuals:                   11882   BIC:                         3.906e+04\n",
       "Df Model:                           7                                         \n",
       "Covariance Type:            nonrobust                                         \n",
       "========================================================================================\n",
       "                           coef    std err          t      P>|t|      [0.025      0.975]\n",
       "----------------------------------------------------------------------------------------\n",
       "Intercept               -0.2193      0.034     -6.430      0.000      -0.286      -0.152\n",
       "C(week)[T.2]            -0.2210      0.037     -6.017      0.000      -0.293      -0.149\n",
       "C(week)[T.3]            -0.5457      0.036    -15.179      0.000      -0.616      -0.475\n",
       "C(week)[T.4]            -0.1788      0.036     -4.962      0.000      -0.249      -0.108\n",
       "C(object)[T.outside]    -0.3705      0.034    -10.810      0.000      -0.438      -0.303\n",
       "C(object)[T.parent]     -0.5290      0.063     -8.348      0.000      -0.653      -0.405\n",
       "C(object)[T.robot]      -0.3219      0.041     -7.930      0.000      -0.402      -0.242\n",
       "C(object)[T.screen]      0.1915      0.029      6.506      0.000       0.134       0.249\n",
       "==============================================================================\n",
       "Omnibus:                      307.007   Durbin-Watson:                   1.943\n",
       "Prob(Omnibus):                  0.000   Jarque-Bera (JB):              330.983\n",
       "Skew:                           0.409   Prob(JB):                     1.34e-72\n",
       "Kurtosis:                       3.019   Cond. No.                         7.25\n",
       "==============================================================================\n",
       "\n",
       "Notes:\n",
       "[1] Standard Errors assume that the covariance matrix of the errors is correctly specified.\n",
       "\"\"\""
      ]
     },
     "execution_count": 52,
     "metadata": {},
     "output_type": "execute_result"
    }
   ],
   "source": [
    "model2 = ols('log_duration ~ C(week)+ C(object)', df_c).fit()\n",
    "model2.summary()"
   ]
  },
  {
   "cell_type": "code",
   "execution_count": 53,
   "metadata": {},
   "outputs": [
    {
     "name": "stdout",
     "output_type": "stream",
     "text": [
      "Overall model F( 7.0, 11882.0) =  100.88686538870816, p =  6.638846855233485e-144\n"
     ]
    }
   ],
   "source": [
    "print(f\"Overall model F({model2.df_model: },{model2.df_resid: }) = {model2.fvalue: }, p = {model2.f_pvalue: }\")"
   ]
  },
  {
   "cell_type": "code",
   "execution_count": 54,
   "metadata": {},
   "outputs": [
    {
     "data": {
      "image/png": "[encoded data removed]",
      "text/plain": [
       "<Figure size 432x288 with 1 Axes>"
      ]
     },
     "metadata": {
      "needs_background": "light"
     },
     "output_type": "display_data"
    }
   ],
   "source": [
    "# create the ANOVA table\n",
    "res2 = sm.stats.anova_lm(model2, typ=2)\n",
    "res2\n",
    "\n",
    "# check the Normal distribution of residuals\n",
    "res = model2.resid\n",
    "fig = sm.qqplot(res, line='s')\n",
    "plt.show()\n",
    "\n",
    "# from the Q-Q plot, we can see that residuals are almost normally distributed\n",
    "# (although points at the extreme ends can be discounted)\n",
    "# hence we conclude that it satisfies the normality assumption of the ANOVA test"
   ]
  },
  {
   "cell_type": "code",
   "execution_count": 55,
   "metadata": {},
   "outputs": [
    {
     "data": {
      "text/html": [
       "<table class=\"simpletable\">\n",
       "<caption>OLS Regression Results</caption>\n",
       "<tr>\n",
       "  <th>Dep. Variable:</th>      <td>log_duration</td>   <th>  R-squared:         </th> <td>   0.081</td> \n",
       "</tr>\n",
       "<tr>\n",
       "  <th>Model:</th>                   <td>OLS</td>       <th>  Adj. R-squared:    </th> <td>   0.079</td> \n",
       "</tr>\n",
       "<tr>\n",
       "  <th>Method:</th>             <td>Least Squares</td>  <th>  F-statistic:       </th> <td>   54.71</td> \n",
       "</tr>\n",
       "<tr>\n",
       "  <th>Date:</th>             <td>Fri, 18 Mar 2022</td> <th>  Prob (F-statistic):</th> <td>2.12e-199</td>\n",
       "</tr>\n",
       "<tr>\n",
       "  <th>Time:</th>                 <td>16:10:49</td>     <th>  Log-Likelihood:    </th> <td> -19338.</td> \n",
       "</tr>\n",
       "<tr>\n",
       "  <th>No. Observations:</th>      <td> 11890</td>      <th>  AIC:               </th> <td>3.872e+04</td>\n",
       "</tr>\n",
       "<tr>\n",
       "  <th>Df Residuals:</th>          <td> 11870</td>      <th>  BIC:               </th> <td>3.886e+04</td>\n",
       "</tr>\n",
       "<tr>\n",
       "  <th>Df Model:</th>              <td>    19</td>      <th>                     </th>     <td> </td>    \n",
       "</tr>\n",
       "<tr>\n",
       "  <th>Covariance Type:</th>      <td>nonrobust</td>    <th>                     </th>     <td> </td>    \n",
       "</tr>\n",
       "</table>\n",
       "<table class=\"simpletable\">\n",
       "<tr>\n",
       "                  <td></td>                     <th>coef</th>     <th>std err</th>      <th>t</th>      <th>P>|t|</th>  <th>[0.025</th>    <th>0.975]</th>  \n",
       "</tr>\n",
       "<tr>\n",
       "  <th>Intercept</th>                         <td>    0.3343</td> <td>    0.050</td> <td>    6.644</td> <td> 0.000</td> <td>    0.236</td> <td>    0.433</td>\n",
       "</tr>\n",
       "<tr>\n",
       "  <th>C(week)[T.2]</th>                      <td>   -0.7823</td> <td>    0.071</td> <td>  -11.034</td> <td> 0.000</td> <td>   -0.921</td> <td>   -0.643</td>\n",
       "</tr>\n",
       "<tr>\n",
       "  <th>C(week)[T.3]</th>                      <td>   -1.3783</td> <td>    0.064</td> <td>  -21.428</td> <td> 0.000</td> <td>   -1.504</td> <td>   -1.252</td>\n",
       "</tr>\n",
       "<tr>\n",
       "  <th>C(week)[T.4]</th>                      <td>   -0.8111</td> <td>    0.066</td> <td>  -12.204</td> <td> 0.000</td> <td>   -0.941</td> <td>   -0.681</td>\n",
       "</tr>\n",
       "<tr>\n",
       "  <th>C(object)[T.outside]</th>              <td>   -0.9712</td> <td>    0.080</td> <td>  -12.138</td> <td> 0.000</td> <td>   -1.128</td> <td>   -0.814</td>\n",
       "</tr>\n",
       "<tr>\n",
       "  <th>C(object)[T.parent]</th>               <td>   -1.1034</td> <td>    0.160</td> <td>   -6.908</td> <td> 0.000</td> <td>   -1.417</td> <td>   -0.790</td>\n",
       "</tr>\n",
       "<tr>\n",
       "  <th>C(object)[T.robot]</th>                <td>   -0.9894</td> <td>    0.096</td> <td>  -10.340</td> <td> 0.000</td> <td>   -1.177</td> <td>   -0.802</td>\n",
       "</tr>\n",
       "<tr>\n",
       "  <th>C(object)[T.screen]</th>               <td>   -0.8608</td> <td>    0.072</td> <td>  -11.961</td> <td> 0.000</td> <td>   -1.002</td> <td>   -0.720</td>\n",
       "</tr>\n",
       "<tr>\n",
       "  <th>C(week)[T.2]:C(object)[T.outside]</th> <td>    0.6188</td> <td>    0.106</td> <td>    5.853</td> <td> 0.000</td> <td>    0.412</td> <td>    0.826</td>\n",
       "</tr>\n",
       "<tr>\n",
       "  <th>C(week)[T.3]:C(object)[T.outside]</th> <td>    0.9997</td> <td>    0.102</td> <td>    9.825</td> <td> 0.000</td> <td>    0.800</td> <td>    1.199</td>\n",
       "</tr>\n",
       "<tr>\n",
       "  <th>C(week)[T.4]:C(object)[T.outside]</th> <td>    0.5869</td> <td>    0.102</td> <td>    5.753</td> <td> 0.000</td> <td>    0.387</td> <td>    0.787</td>\n",
       "</tr>\n",
       "<tr>\n",
       "  <th>C(week)[T.2]:C(object)[T.parent]</th>  <td>    0.5061</td> <td>    0.187</td> <td>    2.709</td> <td> 0.007</td> <td>    0.140</td> <td>    0.872</td>\n",
       "</tr>\n",
       "<tr>\n",
       "  <th>C(week)[T.3]:C(object)[T.parent]</th>  <td>    0.9886</td> <td>    0.216</td> <td>    4.581</td> <td> 0.000</td> <td>    0.566</td> <td>    1.412</td>\n",
       "</tr>\n",
       "<tr>\n",
       "  <th>C(week)[T.4]:C(object)[T.parent]</th>  <td>    0.7379</td> <td>    0.211</td> <td>    3.500</td> <td> 0.000</td> <td>    0.325</td> <td>    1.151</td>\n",
       "</tr>\n",
       "<tr>\n",
       "  <th>C(week)[T.2]:C(object)[T.robot]</th>   <td>    0.5537</td> <td>    0.124</td> <td>    4.464</td> <td> 0.000</td> <td>    0.311</td> <td>    0.797</td>\n",
       "</tr>\n",
       "<tr>\n",
       "  <th>C(week)[T.3]:C(object)[T.robot]</th>   <td>    1.2038</td> <td>    0.123</td> <td>    9.782</td> <td> 0.000</td> <td>    0.963</td> <td>    1.445</td>\n",
       "</tr>\n",
       "<tr>\n",
       "  <th>C(week)[T.4]:C(object)[T.robot]</th>   <td>    0.7133</td> <td>    0.121</td> <td>    5.884</td> <td> 0.000</td> <td>    0.476</td> <td>    0.951</td>\n",
       "</tr>\n",
       "<tr>\n",
       "  <th>C(week)[T.2]:C(object)[T.screen]</th>  <td>    1.1118</td> <td>    0.094</td> <td>   11.781</td> <td> 0.000</td> <td>    0.927</td> <td>    1.297</td>\n",
       "</tr>\n",
       "<tr>\n",
       "  <th>C(week)[T.3]:C(object)[T.screen]</th>  <td>    1.3909</td> <td>    0.088</td> <td>   15.720</td> <td> 0.000</td> <td>    1.217</td> <td>    1.564</td>\n",
       "</tr>\n",
       "<tr>\n",
       "  <th>C(week)[T.4]:C(object)[T.screen]</th>  <td>    1.2271</td> <td>    0.090</td> <td>   13.601</td> <td> 0.000</td> <td>    1.050</td> <td>    1.404</td>\n",
       "</tr>\n",
       "</table>\n",
       "<table class=\"simpletable\">\n",
       "<tr>\n",
       "  <th>Omnibus:</th>       <td>294.759</td> <th>  Durbin-Watson:     </th> <td>   1.925</td>\n",
       "</tr>\n",
       "<tr>\n",
       "  <th>Prob(Omnibus):</th> <td> 0.000</td>  <th>  Jarque-Bera (JB):  </th> <td> 316.469</td>\n",
       "</tr>\n",
       "<tr>\n",
       "  <th>Skew:</th>          <td> 0.397</td>  <th>  Prob(JB):          </th> <td>1.90e-69</td>\n",
       "</tr>\n",
       "<tr>\n",
       "  <th>Kurtosis:</th>      <td> 3.099</td>  <th>  Cond. No.          </th> <td>    38.8</td>\n",
       "</tr>\n",
       "</table><br/><br/>Notes:<br/>[1] Standard Errors assume that the covariance matrix of the errors is correctly specified."
      ],
      "text/plain": [
       "<class 'statsmodels.iolib.summary.Summary'>\n",
       "\"\"\"\n",
       "                            OLS Regression Results                            \n",
       "==============================================================================\n",
       "Dep. Variable:           log_duration   R-squared:                       0.081\n",
       "Model:                            OLS   Adj. R-squared:                  0.079\n",
       "Method:                 Least Squares   F-statistic:                     54.71\n",
       "Date:                Fri, 18 Mar 2022   Prob (F-statistic):          2.12e-199\n",
       "Time:                        16:10:49   Log-Likelihood:                -19338.\n",
       "No. Observations:               11890   AIC:                         3.872e+04\n",
       "Df Residuals:                   11870   BIC:                         3.886e+04\n",
       "Df Model:                          19                                         \n",
       "Covariance Type:            nonrobust                                         \n",
       "=====================================================================================================\n",
       "                                        coef    std err          t      P>|t|      [0.025      0.975]\n",
       "-----------------------------------------------------------------------------------------------------\n",
       "Intercept                             0.3343      0.050      6.644      0.000       0.236       0.433\n",
       "C(week)[T.2]                         -0.7823      0.071    -11.034      0.000      -0.921      -0.643\n",
       "C(week)[T.3]                         -1.3783      0.064    -21.428      0.000      -1.504      -1.252\n",
       "C(week)[T.4]                         -0.8111      0.066    -12.204      0.000      -0.941      -0.681\n",
       "C(object)[T.outside]                 -0.9712      0.080    -12.138      0.000      -1.128      -0.814\n",
       "C(object)[T.parent]                  -1.1034      0.160     -6.908      0.000      -1.417      -0.790\n",
       "C(object)[T.robot]                   -0.9894      0.096    -10.340      0.000      -1.177      -0.802\n",
       "C(object)[T.screen]                  -0.8608      0.072    -11.961      0.000      -1.002      -0.720\n",
       "C(week)[T.2]:C(object)[T.outside]     0.6188      0.106      5.853      0.000       0.412       0.826\n",
       "C(week)[T.3]:C(object)[T.outside]     0.9997      0.102      9.825      0.000       0.800       1.199\n",
       "C(week)[T.4]:C(object)[T.outside]     0.5869      0.102      5.753      0.000       0.387       0.787\n",
       "C(week)[T.2]:C(object)[T.parent]      0.5061      0.187      2.709      0.007       0.140       0.872\n",
       "C(week)[T.3]:C(object)[T.parent]      0.9886      0.216      4.581      0.000       0.566       1.412\n",
       "C(week)[T.4]:C(object)[T.parent]      0.7379      0.211      3.500      0.000       0.325       1.151\n",
       "C(week)[T.2]:C(object)[T.robot]       0.5537      0.124      4.464      0.000       0.311       0.797\n",
       "C(week)[T.3]:C(object)[T.robot]       1.2038      0.123      9.782      0.000       0.963       1.445\n",
       "C(week)[T.4]:C(object)[T.robot]       0.7133      0.121      5.884      0.000       0.476       0.951\n",
       "C(week)[T.2]:C(object)[T.screen]      1.1118      0.094     11.781      0.000       0.927       1.297\n",
       "C(week)[T.3]:C(object)[T.screen]      1.3909      0.088     15.720      0.000       1.217       1.564\n",
       "C(week)[T.4]:C(object)[T.screen]      1.2271      0.090     13.601      0.000       1.050       1.404\n",
       "==============================================================================\n",
       "Omnibus:                      294.759   Durbin-Watson:                   1.925\n",
       "Prob(Omnibus):                  0.000   Jarque-Bera (JB):              316.469\n",
       "Skew:                           0.397   Prob(JB):                     1.90e-69\n",
       "Kurtosis:                       3.099   Cond. No.                         38.8\n",
       "==============================================================================\n",
       "\n",
       "Notes:\n",
       "[1] Standard Errors assume that the covariance matrix of the errors is correctly specified.\n",
       "\"\"\""
      ]
     },
     "execution_count": 55,
     "metadata": {},
     "output_type": "execute_result"
    }
   ],
   "source": [
    "# check the interaction of groups\n",
    "formula = 'log_duration ~ C(week) *C(object)'\n",
    "model = ols(formula, df_c).fit()\n",
    "model.summary()"
   ]
  },
  {
   "cell_type": "code",
   "execution_count": 238,
   "metadata": {},
   "outputs": [
    {
     "name": "stdout",
     "output_type": "stream",
     "text": [
      "                       sum_sq       df         F  PR(>F)\n",
      "C(week)              252.9234      3.0   49.2295     0.0\n",
      "C(object)            794.5607      4.0  115.9911     0.0\n",
      "C(week):C(object)    520.6585     12.0   25.3355     0.0\n",
      "Residual           21581.5233  12602.0       NaN     NaN\n"
     ]
    }
   ],
   "source": [
    "from statsmodels.stats.anova import anova_lm\n",
    "aov_table = anova_lm(model, typ=2)\n",
    "print(aov_table.round(4))"
   ]
  },
  {
   "cell_type": "code",
   "execution_count": 239,
   "metadata": {},
   "outputs": [
    {
     "name": "stdout",
     "output_type": "stream",
     "text": [
      "   Multiple Comparison of Means - Tukey HSD, FWER=0.05    \n",
      "==========================================================\n",
      "   group1    group2 meandiff p-adj   lower   upper  reject\n",
      "----------------------------------------------------------\n",
      "nodetection outside   -0.492  0.001 -0.5859 -0.3981   True\n",
      "nodetection  parent  -0.7971  0.001  -1.266 -0.3282   True\n",
      "nodetection   robot  -0.3633  0.001 -0.4844 -0.2421   True\n",
      "nodetection  screen   0.1136  0.001  0.0347  0.1925   True\n",
      "    outside  parent  -0.3051 0.3929 -0.7756  0.1653  False\n",
      "    outside   robot   0.1287 0.0449  0.0018  0.2556   True\n",
      "    outside  screen   0.6056  0.001  0.5182   0.693   True\n",
      "     parent   robot   0.4339 0.0943 -0.0428  0.9105  False\n",
      "     parent  screen   0.9107  0.001  0.4431  1.3784   True\n",
      "      robot  screen   0.4769  0.001  0.3606  0.5931   True\n",
      "----------------------------------------------------------\n"
     ]
    }
   ],
   "source": [
    "mc = statsmodels.stats.multicomp.MultiComparison(df_c['log_duration'], df_c['object'])\n",
    "mc_results = mc.tukeyhsd()\n",
    "print(mc_results)"
   ]
  },
  {
   "cell_type": "markdown",
   "metadata": {},
   "source": [
    "## ANOVA on Joint Attention"
   ]
  },
  {
   "cell_type": "code",
   "execution_count": 3,
   "metadata": {},
   "outputs": [],
   "source": [
    "from scipy import stats\n",
    "import statsmodels.api as sm"
   ]
  },
  {
   "cell_type": "code",
   "execution_count": 4,
   "metadata": {},
   "outputs": [],
   "source": [
    "PID = '1_EXP05_Full/'"
   ]
  },
  {
   "cell_type": "code",
   "execution_count": 5,
   "metadata": {},
   "outputs": [],
   "source": [
    "# read from existing files\n",
    "df_cr_w1 = pd.read_csv(PID + 'week_1/' + 'child-robot.csv')\n",
    "df_cp_w1 = pd.read_csv(PID + 'week_1/' + 'child-parent.csv')\n",
    "df_pr_w1 = pd.read_csv(PID + 'week_1/' + 'parent-robot.csv')\n",
    "\n",
    "df_cr_w2 = pd.read_csv(PID + 'week_2/' + 'child-robot.csv')\n",
    "df_cp_w2 = pd.read_csv(PID + 'week_2/' + 'child-parent.csv')\n",
    "df_pr_w2 = pd.read_csv(PID + 'week_2/' + 'parent-robot.csv')\n",
    "\n",
    "df_cr_w3 = pd.read_csv(PID + 'week_3/' + 'child-robot.csv')\n",
    "df_cp_w3 = pd.read_csv(PID + 'week_3/' + 'child-parent.csv')\n",
    "df_pr_w3 = pd.read_csv(PID + 'week_3/' + 'parent-robot.csv')\n",
    "\n",
    "df_cr_w4 = pd.read_csv(PID + 'week_4/' + 'child-robot.csv')\n",
    "df_cp_w4 = pd.read_csv(PID + 'week_4/' + 'child-parent.csv')\n",
    "df_pr_w4 = pd.read_csv(PID + 'week_4/' + 'parent-robot.csv')"
   ]
  },
  {
   "cell_type": "code",
   "execution_count": 6,
   "metadata": {},
   "outputs": [],
   "source": [
    "# remove outlier lags based on stable behavior throughout the week\n",
    "df_cr_w1 = df_cr_w1[(np.abs(stats.zscore(df_cr_w1['lag'])) < 3)].reset_index()\n",
    "df_cp_w1 = df_cp_w1[(np.abs(stats.zscore(df_cp_w1['lag'])) < 3)].reset_index()\n",
    "df_pr_w1 = df_pr_w1[(np.abs(stats.zscore(df_pr_w1['lag'])) < 3)].reset_index()\n",
    "\n",
    "df_cr_w2 = df_cr_w2[(np.abs(stats.zscore(df_cr_w2['lag'])) < 3)].reset_index()\n",
    "df_cp_w2 = df_cp_w2[(np.abs(stats.zscore(df_cp_w2['lag'])) < 3)].reset_index()\n",
    "df_pr_w2 = df_pr_w2[(np.abs(stats.zscore(df_pr_w2['lag'])) < 3)].reset_index()\n",
    "\n",
    "df_cr_w3 = df_cr_w3[(np.abs(stats.zscore(df_cr_w3['lag'])) < 3)].reset_index()\n",
    "df_cp_w3 = df_cp_w3[(np.abs(stats.zscore(df_cp_w3['lag'])) < 3)].reset_index()\n",
    "df_pr_w3 = df_pr_w3[(np.abs(stats.zscore(df_pr_w3['lag'])) < 3)].reset_index()\n",
    "\n",
    "df_cr_w4 = df_cr_w4[(np.abs(stats.zscore(df_cr_w4['lag'])) < 3)].reset_index()\n",
    "df_cp_w4 = df_cp_w4[(np.abs(stats.zscore(df_cp_w4['lag'])) < 3)].reset_index()\n",
    "df_pr_w4 = df_pr_w4[(np.abs(stats.zscore(df_pr_w4['lag'])) < 3)].reset_index()"
   ]
  },
  {
   "cell_type": "code",
   "execution_count": 5,
   "metadata": {},
   "outputs": [],
   "source": [
    "def unix_to_datetime(ts):\n",
    "    return datetime.utcfromtimestamp(ts)\n",
    "\n",
    "def get_unique_days(df_column):\n",
    "    realtime = df_column.apply(lambda x: unix_to_datetime(x))\n",
    "    days = np.array(realtime.apply(lambda x: x.day))\n",
    "    return days, np.unique(days)\n",
    "\n",
    "def get_day_into_study(days, prev_days = 0):\n",
    "    adj = list(range(0, len(days)))\n",
    "    res = [x + prev_days for x in adj]\n",
    "    return res\n",
    "\n",
    "def search(l, n):\n",
    "    for i in range(len(l)):\n",
    "        if l[i] == n:\n",
    "            return i\n",
    "    return -1\n",
    "\n",
    "def adjust_day(uniq, n, blind = 0):\n",
    "    haystack = uniq[blind:]\n",
    "    idx = search(haystack, n)\n",
    "    return idx + blind"
   ]
  },
  {
   "cell_type": "code",
   "execution_count": 8,
   "metadata": {},
   "outputs": [
    {
     "name": "stdout",
     "output_type": "stream",
     "text": [
      "[ 7 10 11 14 16 17 18 20 21 22 23 25 27 28  2  3  4  5  6  7  8 29 30 31]\n"
     ]
    }
   ],
   "source": [
    "_, unique_days_w1 = get_unique_days(df_cr_w1['start'])\n",
    "_, unique_days_w2 = get_unique_days(df_cr_w2['start'])\n",
    "_, unique_days_w3 = get_unique_days(df_cr_w3['start'])\n",
    "_, unique_days_w4 = get_unique_days(df_cr_w4['start'])\n",
    "\n",
    "unique_days = np.concatenate((unique_days_w1, unique_days_w2, unique_days_w3, unique_days_w4), axis = 0)\n",
    "print(unique_days)"
   ]
  },
  {
   "cell_type": "code",
   "execution_count": 9,
   "metadata": {},
   "outputs": [],
   "source": [
    "df_cr_w1['day_study'] = df_cr_w1['start'].apply(lambda x: adjust_day(unique_days, unix_to_datetime(x).day))\n",
    "df_cr_w2['day_study'] = df_cr_w2['start'].apply(lambda x: adjust_day(unique_days, unix_to_datetime(x).day, blind=len(unique_days_w1)))\n",
    "df_cr_w3['day_study'] = df_cr_w3['start'].apply(lambda x: adjust_day(unique_days, unix_to_datetime(x).day, blind=len(unique_days_w1)+len(unique_days_w2)))\n",
    "df_cr_w4['day_study'] = df_cr_w4['start'].apply(lambda x: adjust_day(unique_days, unix_to_datetime(x).day, blind=len(unique_days_w1)+len(unique_days_w2)+len(unique_days_w3)))"
   ]
  },
  {
   "cell_type": "code",
   "execution_count": 93,
   "metadata": {},
   "outputs": [],
   "source": [
    "# frames = [df_cr_w1, df_cr_w2, df_cr_w3, df_cr_w4]\n",
    "# df_cr = pd.concat(frames)\n",
    "# df_cr = df_cr.iloc[:, 1:]"
   ]
  },
  {
   "cell_type": "code",
   "execution_count": 94,
   "metadata": {},
   "outputs": [
    {
     "data": {
      "text/html": [
       "<div>\n",
       "<style scoped>\n",
       "    .dataframe tbody tr th:only-of-type {\n",
       "        vertical-align: middle;\n",
       "    }\n",
       "\n",
       "    .dataframe tbody tr th {\n",
       "        vertical-align: top;\n",
       "    }\n",
       "\n",
       "    .dataframe thead th {\n",
       "        text-align: right;\n",
       "    }\n",
       "</style>\n",
       "<table border=\"1\" class=\"dataframe\">\n",
       "  <thead>\n",
       "    <tr style=\"text-align: right;\">\n",
       "      <th></th>\n",
       "      <th>object</th>\n",
       "      <th>duration</th>\n",
       "      <th>start</th>\n",
       "      <th>initiator</th>\n",
       "      <th>lag</th>\n",
       "      <th>day_study</th>\n",
       "      <th>week_study</th>\n",
       "    </tr>\n",
       "  </thead>\n",
       "  <tbody>\n",
       "    <tr>\n",
       "      <th>0</th>\n",
       "      <td>contact</td>\n",
       "      <td>0.999396</td>\n",
       "      <td>1.499458e+09</td>\n",
       "      <td>robot</td>\n",
       "      <td>13.697562</td>\n",
       "      <td>0</td>\n",
       "      <td>1</td>\n",
       "    </tr>\n",
       "    <tr>\n",
       "      <th>1</th>\n",
       "      <td>contact</td>\n",
       "      <td>19.099964</td>\n",
       "      <td>1.499458e+09</td>\n",
       "      <td>robot</td>\n",
       "      <td>14.796889</td>\n",
       "      <td>0</td>\n",
       "      <td>1</td>\n",
       "    </tr>\n",
       "    <tr>\n",
       "      <th>2</th>\n",
       "      <td>contact</td>\n",
       "      <td>1.499971</td>\n",
       "      <td>1.499458e+09</td>\n",
       "      <td>robot</td>\n",
       "      <td>0.904794</td>\n",
       "      <td>0</td>\n",
       "      <td>1</td>\n",
       "    </tr>\n",
       "    <tr>\n",
       "      <th>3</th>\n",
       "      <td>contact</td>\n",
       "      <td>2.199933</td>\n",
       "      <td>1.499458e+09</td>\n",
       "      <td>robot</td>\n",
       "      <td>2.504795</td>\n",
       "      <td>0</td>\n",
       "      <td>1</td>\n",
       "    </tr>\n",
       "    <tr>\n",
       "      <th>4</th>\n",
       "      <td>contact</td>\n",
       "      <td>0.199958</td>\n",
       "      <td>1.499458e+09</td>\n",
       "      <td>robot</td>\n",
       "      <td>4.804777</td>\n",
       "      <td>0</td>\n",
       "      <td>1</td>\n",
       "    </tr>\n",
       "    <tr>\n",
       "      <th>...</th>\n",
       "      <td>...</td>\n",
       "      <td>...</td>\n",
       "      <td>...</td>\n",
       "      <td>...</td>\n",
       "      <td>...</td>\n",
       "      <td>...</td>\n",
       "      <td>...</td>\n",
       "    </tr>\n",
       "    <tr>\n",
       "      <th>6358</th>\n",
       "      <td>contact</td>\n",
       "      <td>0.000000</td>\n",
       "      <td>1.502151e+09</td>\n",
       "      <td>robot</td>\n",
       "      <td>10.845541</td>\n",
       "      <td>20</td>\n",
       "      <td>4</td>\n",
       "    </tr>\n",
       "    <tr>\n",
       "      <th>6359</th>\n",
       "      <td>contact</td>\n",
       "      <td>0.199831</td>\n",
       "      <td>1.502151e+09</td>\n",
       "      <td>robot</td>\n",
       "      <td>10.945595</td>\n",
       "      <td>20</td>\n",
       "      <td>4</td>\n",
       "    </tr>\n",
       "    <tr>\n",
       "      <th>6360</th>\n",
       "      <td>contact</td>\n",
       "      <td>0.200178</td>\n",
       "      <td>1.502151e+09</td>\n",
       "      <td>robot</td>\n",
       "      <td>11.245524</td>\n",
       "      <td>20</td>\n",
       "      <td>4</td>\n",
       "    </tr>\n",
       "    <tr>\n",
       "      <th>6361</th>\n",
       "      <td>contact</td>\n",
       "      <td>4.099981</td>\n",
       "      <td>1.502151e+09</td>\n",
       "      <td>robot</td>\n",
       "      <td>11.545519</td>\n",
       "      <td>20</td>\n",
       "      <td>4</td>\n",
       "    </tr>\n",
       "    <tr>\n",
       "      <th>6362</th>\n",
       "      <td>screen</td>\n",
       "      <td>1.499903</td>\n",
       "      <td>1.502151e+09</td>\n",
       "      <td>robot</td>\n",
       "      <td>1.645625</td>\n",
       "      <td>20</td>\n",
       "      <td>4</td>\n",
       "    </tr>\n",
       "  </tbody>\n",
       "</table>\n",
       "<p>13012 rows × 7 columns</p>\n",
       "</div>"
      ],
      "text/plain": [
       "       object   duration         start initiator        lag  day_study  \\\n",
       "0     contact   0.999396  1.499458e+09     robot  13.697562          0   \n",
       "1     contact  19.099964  1.499458e+09     robot  14.796889          0   \n",
       "2     contact   1.499971  1.499458e+09     robot   0.904794          0   \n",
       "3     contact   2.199933  1.499458e+09     robot   2.504795          0   \n",
       "4     contact   0.199958  1.499458e+09     robot   4.804777          0   \n",
       "...       ...        ...           ...       ...        ...        ...   \n",
       "6358  contact   0.000000  1.502151e+09     robot  10.845541         20   \n",
       "6359  contact   0.199831  1.502151e+09     robot  10.945595         20   \n",
       "6360  contact   0.200178  1.502151e+09     robot  11.245524         20   \n",
       "6361  contact   4.099981  1.502151e+09     robot  11.545519         20   \n",
       "6362   screen   1.499903  1.502151e+09     robot   1.645625         20   \n",
       "\n",
       "      week_study  \n",
       "0              1  \n",
       "1              1  \n",
       "2              1  \n",
       "3              1  \n",
       "4              1  \n",
       "...          ...  \n",
       "6358           4  \n",
       "6359           4  \n",
       "6360           4  \n",
       "6361           4  \n",
       "6362           4  \n",
       "\n",
       "[13012 rows x 7 columns]"
      ]
     },
     "execution_count": 94,
     "metadata": {},
     "output_type": "execute_result"
    }
   ],
   "source": [
    "df_cr"
   ]
  },
  {
   "cell_type": "code",
   "execution_count": null,
   "metadata": {},
   "outputs": [],
   "source": [
    "# across control and experimental\n",
    "resumption_lag_y = df_x['te_p_resumption'] - df_x['a_p_resumption']\n",
    "resumption_lag_x = df_x.drop(columns=['te_p_resumption', 'a_p_resumption'])"
   ]
  },
  {
   "cell_type": "code",
   "execution_count": null,
   "metadata": {},
   "outputs": [],
   "source": [
    "model = sm.OLS(resumption_lag_y, resumption_lag_x)\n",
    "results = model.fit()\n",
    "print(results.summary())"
   ]
  }
 ],
 "metadata": {
  "kernelspec": {
   "display_name": "Python 3",
   "language": "python",
   "name": "python3"
  },
  "language_info": {
   "codemirror_mode": {
    "name": "ipython",
    "version": 3
   },
   "file_extension": ".py",
   "mimetype": "text/x-python",
   "name": "python",
   "nbconvert_exporter": "python",
   "pygments_lexer": "ipython3",
   "version": "3.8.5"
  }
 },
 "nbformat": 4,
 "nbformat_minor": 4
}
