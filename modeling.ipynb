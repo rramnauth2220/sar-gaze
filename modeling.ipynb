{
 "cells": [
  {
   "cell_type": "code",
   "execution_count": 47,
   "metadata": {},
   "outputs": [],
   "source": [
    "import bagpy\n",
    "from bagpy import bagreader\n",
    "from datetime import datetime\n",
    "import pandas as pd\n",
    "import seaborn as sea\n",
    "import matplotlib.pyplot as plt\n",
    "from scipy import stats\n",
    "import numpy as np\n",
    "import seaborn as sns\n",
    "import logging\n",
    "import re\n",
    "import os\n",
    "import math"
   ]
  },
  {
   "cell_type": "code",
   "execution_count": 2,
   "metadata": {},
   "outputs": [
    {
     "ename": "FileNotFoundError",
     "evalue": "[Errno 2] No such file or directory: '1_EXP05_Full/week_4/child.csv'",
     "output_type": "error",
     "traceback": [
      "\u001b[1;31m---------------------------------------------------------------------------\u001b[0m",
      "\u001b[1;31mFileNotFoundError\u001b[0m                         Traceback (most recent call last)",
      "\u001b[1;32m<ipython-input-2-c9af048e1351>\u001b[0m in \u001b[0;36m<module>\u001b[1;34m\u001b[0m\n\u001b[0;32m      1\u001b[0m \u001b[0mchild_w1_df\u001b[0m \u001b[1;33m=\u001b[0m \u001b[0mpd\u001b[0m\u001b[1;33m.\u001b[0m\u001b[0mread_csv\u001b[0m\u001b[1;33m(\u001b[0m\u001b[1;34m'1_EXP05_Full/week_1/child.csv'\u001b[0m\u001b[1;33m)\u001b[0m\u001b[1;33m.\u001b[0m\u001b[0miloc\u001b[0m\u001b[1;33m[\u001b[0m\u001b[1;33m:\u001b[0m \u001b[1;33m,\u001b[0m \u001b[1;36m1\u001b[0m\u001b[1;33m:\u001b[0m\u001b[1;33m]\u001b[0m\u001b[1;33m\u001b[0m\u001b[1;33m\u001b[0m\u001b[0m\n\u001b[1;32m----> 2\u001b[1;33m \u001b[0mchild_w4_df\u001b[0m \u001b[1;33m=\u001b[0m \u001b[0mpd\u001b[0m\u001b[1;33m.\u001b[0m\u001b[0mread_csv\u001b[0m\u001b[1;33m(\u001b[0m\u001b[1;34m'1_EXP05_Full/week_4/child.csv'\u001b[0m\u001b[1;33m)\u001b[0m\u001b[1;33m.\u001b[0m\u001b[0miloc\u001b[0m\u001b[1;33m[\u001b[0m\u001b[1;33m:\u001b[0m \u001b[1;33m,\u001b[0m \u001b[1;36m1\u001b[0m\u001b[1;33m:\u001b[0m\u001b[1;33m]\u001b[0m\u001b[1;33m\u001b[0m\u001b[1;33m\u001b[0m\u001b[0m\n\u001b[0m",
      "\u001b[1;32mc:\\users\\rramn\\appdata\\local\\programs\\python\\python38\\lib\\site-packages\\pandas\\io\\parsers.py\u001b[0m in \u001b[0;36mread_csv\u001b[1;34m(filepath_or_buffer, sep, delimiter, header, names, index_col, usecols, squeeze, prefix, mangle_dupe_cols, dtype, engine, converters, true_values, false_values, skipinitialspace, skiprows, skipfooter, nrows, na_values, keep_default_na, na_filter, verbose, skip_blank_lines, parse_dates, infer_datetime_format, keep_date_col, date_parser, dayfirst, cache_dates, iterator, chunksize, compression, thousands, decimal, lineterminator, quotechar, quoting, doublequote, escapechar, comment, encoding, dialect, error_bad_lines, warn_bad_lines, delim_whitespace, low_memory, memory_map, float_precision)\u001b[0m\n\u001b[0;32m    686\u001b[0m     )\n\u001b[0;32m    687\u001b[0m \u001b[1;33m\u001b[0m\u001b[0m\n\u001b[1;32m--> 688\u001b[1;33m     \u001b[1;32mreturn\u001b[0m \u001b[0m_read\u001b[0m\u001b[1;33m(\u001b[0m\u001b[0mfilepath_or_buffer\u001b[0m\u001b[1;33m,\u001b[0m \u001b[0mkwds\u001b[0m\u001b[1;33m)\u001b[0m\u001b[1;33m\u001b[0m\u001b[1;33m\u001b[0m\u001b[0m\n\u001b[0m\u001b[0;32m    689\u001b[0m \u001b[1;33m\u001b[0m\u001b[0m\n\u001b[0;32m    690\u001b[0m \u001b[1;33m\u001b[0m\u001b[0m\n",
      "\u001b[1;32mc:\\users\\rramn\\appdata\\local\\programs\\python\\python38\\lib\\site-packages\\pandas\\io\\parsers.py\u001b[0m in \u001b[0;36m_read\u001b[1;34m(filepath_or_buffer, kwds)\u001b[0m\n\u001b[0;32m    452\u001b[0m \u001b[1;33m\u001b[0m\u001b[0m\n\u001b[0;32m    453\u001b[0m     \u001b[1;31m# Create the parser.\u001b[0m\u001b[1;33m\u001b[0m\u001b[1;33m\u001b[0m\u001b[1;33m\u001b[0m\u001b[0m\n\u001b[1;32m--> 454\u001b[1;33m     \u001b[0mparser\u001b[0m \u001b[1;33m=\u001b[0m \u001b[0mTextFileReader\u001b[0m\u001b[1;33m(\u001b[0m\u001b[0mfp_or_buf\u001b[0m\u001b[1;33m,\u001b[0m \u001b[1;33m**\u001b[0m\u001b[0mkwds\u001b[0m\u001b[1;33m)\u001b[0m\u001b[1;33m\u001b[0m\u001b[1;33m\u001b[0m\u001b[0m\n\u001b[0m\u001b[0;32m    455\u001b[0m \u001b[1;33m\u001b[0m\u001b[0m\n\u001b[0;32m    456\u001b[0m     \u001b[1;32mif\u001b[0m \u001b[0mchunksize\u001b[0m \u001b[1;32mor\u001b[0m \u001b[0miterator\u001b[0m\u001b[1;33m:\u001b[0m\u001b[1;33m\u001b[0m\u001b[1;33m\u001b[0m\u001b[0m\n",
      "\u001b[1;32mc:\\users\\rramn\\appdata\\local\\programs\\python\\python38\\lib\\site-packages\\pandas\\io\\parsers.py\u001b[0m in \u001b[0;36m__init__\u001b[1;34m(self, f, engine, **kwds)\u001b[0m\n\u001b[0;32m    946\u001b[0m             \u001b[0mself\u001b[0m\u001b[1;33m.\u001b[0m\u001b[0moptions\u001b[0m\u001b[1;33m[\u001b[0m\u001b[1;34m\"has_index_names\"\u001b[0m\u001b[1;33m]\u001b[0m \u001b[1;33m=\u001b[0m \u001b[0mkwds\u001b[0m\u001b[1;33m[\u001b[0m\u001b[1;34m\"has_index_names\"\u001b[0m\u001b[1;33m]\u001b[0m\u001b[1;33m\u001b[0m\u001b[1;33m\u001b[0m\u001b[0m\n\u001b[0;32m    947\u001b[0m \u001b[1;33m\u001b[0m\u001b[0m\n\u001b[1;32m--> 948\u001b[1;33m         \u001b[0mself\u001b[0m\u001b[1;33m.\u001b[0m\u001b[0m_make_engine\u001b[0m\u001b[1;33m(\u001b[0m\u001b[0mself\u001b[0m\u001b[1;33m.\u001b[0m\u001b[0mengine\u001b[0m\u001b[1;33m)\u001b[0m\u001b[1;33m\u001b[0m\u001b[1;33m\u001b[0m\u001b[0m\n\u001b[0m\u001b[0;32m    949\u001b[0m \u001b[1;33m\u001b[0m\u001b[0m\n\u001b[0;32m    950\u001b[0m     \u001b[1;32mdef\u001b[0m \u001b[0mclose\u001b[0m\u001b[1;33m(\u001b[0m\u001b[0mself\u001b[0m\u001b[1;33m)\u001b[0m\u001b[1;33m:\u001b[0m\u001b[1;33m\u001b[0m\u001b[1;33m\u001b[0m\u001b[0m\n",
      "\u001b[1;32mc:\\users\\rramn\\appdata\\local\\programs\\python\\python38\\lib\\site-packages\\pandas\\io\\parsers.py\u001b[0m in \u001b[0;36m_make_engine\u001b[1;34m(self, engine)\u001b[0m\n\u001b[0;32m   1178\u001b[0m     \u001b[1;32mdef\u001b[0m \u001b[0m_make_engine\u001b[0m\u001b[1;33m(\u001b[0m\u001b[0mself\u001b[0m\u001b[1;33m,\u001b[0m \u001b[0mengine\u001b[0m\u001b[1;33m=\u001b[0m\u001b[1;34m\"c\"\u001b[0m\u001b[1;33m)\u001b[0m\u001b[1;33m:\u001b[0m\u001b[1;33m\u001b[0m\u001b[1;33m\u001b[0m\u001b[0m\n\u001b[0;32m   1179\u001b[0m         \u001b[1;32mif\u001b[0m \u001b[0mengine\u001b[0m \u001b[1;33m==\u001b[0m \u001b[1;34m\"c\"\u001b[0m\u001b[1;33m:\u001b[0m\u001b[1;33m\u001b[0m\u001b[1;33m\u001b[0m\u001b[0m\n\u001b[1;32m-> 1180\u001b[1;33m             \u001b[0mself\u001b[0m\u001b[1;33m.\u001b[0m\u001b[0m_engine\u001b[0m \u001b[1;33m=\u001b[0m \u001b[0mCParserWrapper\u001b[0m\u001b[1;33m(\u001b[0m\u001b[0mself\u001b[0m\u001b[1;33m.\u001b[0m\u001b[0mf\u001b[0m\u001b[1;33m,\u001b[0m \u001b[1;33m**\u001b[0m\u001b[0mself\u001b[0m\u001b[1;33m.\u001b[0m\u001b[0moptions\u001b[0m\u001b[1;33m)\u001b[0m\u001b[1;33m\u001b[0m\u001b[1;33m\u001b[0m\u001b[0m\n\u001b[0m\u001b[0;32m   1181\u001b[0m         \u001b[1;32melse\u001b[0m\u001b[1;33m:\u001b[0m\u001b[1;33m\u001b[0m\u001b[1;33m\u001b[0m\u001b[0m\n\u001b[0;32m   1182\u001b[0m             \u001b[1;32mif\u001b[0m \u001b[0mengine\u001b[0m \u001b[1;33m==\u001b[0m \u001b[1;34m\"python\"\u001b[0m\u001b[1;33m:\u001b[0m\u001b[1;33m\u001b[0m\u001b[1;33m\u001b[0m\u001b[0m\n",
      "\u001b[1;32mc:\\users\\rramn\\appdata\\local\\programs\\python\\python38\\lib\\site-packages\\pandas\\io\\parsers.py\u001b[0m in \u001b[0;36m__init__\u001b[1;34m(self, src, **kwds)\u001b[0m\n\u001b[0;32m   2008\u001b[0m         \u001b[0mkwds\u001b[0m\u001b[1;33m[\u001b[0m\u001b[1;34m\"usecols\"\u001b[0m\u001b[1;33m]\u001b[0m \u001b[1;33m=\u001b[0m \u001b[0mself\u001b[0m\u001b[1;33m.\u001b[0m\u001b[0musecols\u001b[0m\u001b[1;33m\u001b[0m\u001b[1;33m\u001b[0m\u001b[0m\n\u001b[0;32m   2009\u001b[0m \u001b[1;33m\u001b[0m\u001b[0m\n\u001b[1;32m-> 2010\u001b[1;33m         \u001b[0mself\u001b[0m\u001b[1;33m.\u001b[0m\u001b[0m_reader\u001b[0m \u001b[1;33m=\u001b[0m \u001b[0mparsers\u001b[0m\u001b[1;33m.\u001b[0m\u001b[0mTextReader\u001b[0m\u001b[1;33m(\u001b[0m\u001b[0msrc\u001b[0m\u001b[1;33m,\u001b[0m \u001b[1;33m**\u001b[0m\u001b[0mkwds\u001b[0m\u001b[1;33m)\u001b[0m\u001b[1;33m\u001b[0m\u001b[1;33m\u001b[0m\u001b[0m\n\u001b[0m\u001b[0;32m   2011\u001b[0m         \u001b[0mself\u001b[0m\u001b[1;33m.\u001b[0m\u001b[0munnamed_cols\u001b[0m \u001b[1;33m=\u001b[0m \u001b[0mself\u001b[0m\u001b[1;33m.\u001b[0m\u001b[0m_reader\u001b[0m\u001b[1;33m.\u001b[0m\u001b[0munnamed_cols\u001b[0m\u001b[1;33m\u001b[0m\u001b[1;33m\u001b[0m\u001b[0m\n\u001b[0;32m   2012\u001b[0m \u001b[1;33m\u001b[0m\u001b[0m\n",
      "\u001b[1;32mpandas\\_libs\\parsers.pyx\u001b[0m in \u001b[0;36mpandas._libs.parsers.TextReader.__cinit__\u001b[1;34m()\u001b[0m\n",
      "\u001b[1;32mpandas\\_libs\\parsers.pyx\u001b[0m in \u001b[0;36mpandas._libs.parsers.TextReader._setup_parser_source\u001b[1;34m()\u001b[0m\n",
      "\u001b[1;31mFileNotFoundError\u001b[0m: [Errno 2] No such file or directory: '1_EXP05_Full/week_4/child.csv'"
     ]
    }
   ],
   "source": [
    "child_w1_df = pd.read_csv('1_EXP05_Full/week_1/child.csv').iloc[: , 1:]\n",
    "child_w4_df = pd.read_csv('1_EXP05_Full/week_4/child.csv').iloc[: , 1:]"
   ]
  },
  {
   "cell_type": "markdown",
   "metadata": {},
   "source": [
    "## Markov Chain"
   ]
  },
  {
   "cell_type": "code",
   "execution_count": 4,
   "metadata": {},
   "outputs": [],
   "source": [
    "# outside = outside pre-defined boxes\n",
    "# nodetection = openCV cannot find eyes\n",
    "# screen, robot, parent\n",
    "\n",
    "def transition_matrix(transitions, order=-1):\n",
    "    df = pd.DataFrame(transitions)\n",
    "    \n",
    "    # create a new column with data shifted one space\n",
    "    df['shift'] = df[0].shift(order)\n",
    "\n",
    "    # add a count column (for group by function)\n",
    "    df['count'] = 1\n",
    "\n",
    "    # groupby and then unstack, fill the zeros\n",
    "    trans_mat = df.groupby([0, 'shift']).count().unstack().fillna(0)\n",
    "\n",
    "    # normalise by occurences and save values to get transition matrix\n",
    "    trans_mat = trans_mat.div(trans_mat.sum(axis=1), axis=0).values\n",
    "    labels = np.unique(transitions)\n",
    "    \n",
    "    return trans_mat, labels"
   ]
  },
  {
   "cell_type": "code",
   "execution_count": 5,
   "metadata": {},
   "outputs": [],
   "source": [
    "transitions_w1 = np.asarray(child_w1_df[child_w1_df['object'] != 'nodetection']['object'])\n",
    "transitions_w4 = np.asarray(child_w4_df[child_w4_df['object'] != 'nodetection']['object'])\n",
    "\n",
    "trans_mat_w1, labels_w1 = transition_matrix(transitions_w1, order=-1)\n",
    "trans_mat_w4, labels_w4 = transition_matrix(transitions_w4, order=-1)"
   ]
  },
  {
   "cell_type": "code",
   "execution_count": 6,
   "metadata": {},
   "outputs": [
    {
     "name": "stdout",
     "output_type": "stream",
     "text": [
      "[[0.33606557 0.00409836 0.04918033 0.61065574]\n",
      " [0.66666667 0.33333333 0.         0.        ]\n",
      " [0.2027027  0.         0.18918919 0.60810811]\n",
      " [0.34688995 0.00239234 0.11483254 0.53588517]] ['outside' 'parent' 'robot' 'screen']\n",
      "[[0.2        0.00656934 0.06642336 0.7270073 ]\n",
      " [0.15384615 0.17948718 0.38461538 0.28205128]\n",
      " [0.15445026 0.02225131 0.19895288 0.62434555]\n",
      " [0.33586469 0.00207111 0.17466344 0.48740076]] ['outside' 'parent' 'robot' 'screen']\n"
     ]
    }
   ],
   "source": [
    "# x-axis = next state\n",
    "# y-axis = current state\n",
    "\n",
    "print(trans_mat_w1, labels_w1)\n",
    "print(trans_mat_w4, labels_w4)"
   ]
  },
  {
   "cell_type": "code",
   "execution_count": 7,
   "metadata": {},
   "outputs": [
    {
     "name": "stdout",
     "output_type": "stream",
     "text": [
      "\n",
      "KL(week 1 || week 4): \n",
      "outside 0.05119579032370833\n",
      "parent 1.1836753512630664\n",
      "robot 0.02948639608143425\n",
      "screen 0.01420883668398295\n",
      "\n",
      "KL(week 4 || week 1): \n",
      "outside 0.04605493955574122\n",
      "parent 6.614315999567413\n",
      "robot 0.15606386867094638\n",
      "screen 0.01588168023953932\n"
     ]
    }
   ],
   "source": [
    "def KL(P,Q):\n",
    "     epsilon = 0.00001\n",
    "     P = P+epsilon\n",
    "     Q = Q+epsilon\n",
    "\n",
    "     divergence = np.sum(P*np.log(P/Q))\n",
    "     return divergence\n",
    "\n",
    "print('\\nKL(week 1 || week 4): ')\n",
    "for i in range(0, len(trans_mat_w1)):\n",
    "    print(labels_w1[i], KL(trans_mat_w1[i], trans_mat_w4[i]))\n",
    "\n",
    "print('\\nKL(week 4 || week 1): ')\n",
    "for i in range(0, len(trans_mat_w1)):\n",
    "    print(labels_w4[i], KL(trans_mat_w4[i], trans_mat_w1[i]))"
   ]
  },
  {
   "cell_type": "markdown",
   "metadata": {},
   "source": [
    "## ANOVA on Gaze"
   ]
  },
  {
   "cell_type": "code",
   "execution_count": 181,
   "metadata": {},
   "outputs": [],
   "source": [
    "import seaborn as sns\n",
    "sns.set_theme(style=\"whitegrid\")\n",
    "sns.set(rc = {'figure.figsize':(15,8)})"
   ]
  },
  {
   "cell_type": "markdown",
   "metadata": {},
   "source": [
    "### Data Processing"
   ]
  },
  {
   "cell_type": "code",
   "execution_count": 182,
   "metadata": {},
   "outputs": [],
   "source": [
    "PID = '1_EXP05_Full/'"
   ]
  },
  {
   "cell_type": "code",
   "execution_count": 183,
   "metadata": {},
   "outputs": [],
   "source": [
    "# read data\n",
    "df_c_w1 = pd.read_csv(PID + 'week_1/' + 'child.csv')\n",
    "df_c_w2 = pd.read_csv(PID + 'week_2/' + 'child.csv')\n",
    "df_c_w3 = pd.read_csv(PID + 'week_3/' + 'child.csv')\n",
    "df_c_w4 = pd.read_csv(PID + 'week_4/' + 'child.csv')"
   ]
  },
  {
   "cell_type": "code",
   "execution_count": 184,
   "metadata": {},
   "outputs": [],
   "source": [
    "# remove rows where the duration is 0\n",
    "df_c_w1 = df_c_w1[df_c_w1['duration'] != 0]\n",
    "df_c_w2 = df_c_w2[df_c_w2['duration'] != 0]\n",
    "df_c_w3 = df_c_w3[df_c_w3['duration'] != 0]\n",
    "df_c_w4 = df_c_w4[df_c_w4['duration'] != 0]"
   ]
  },
  {
   "cell_type": "code",
   "execution_count": 177,
   "metadata": {},
   "outputs": [],
   "source": [
    "# remove outliers\n",
    "df_c_w1 = df_c_w1[(np.abs(stats.zscore(df_c_w1['duration'])) < 3)].reset_index()\n",
    "df_c_w2 = df_c_w2[(np.abs(stats.zscore(df_c_w2['duration'])) < 3)].reset_index()\n",
    "df_c_w3 = df_c_w3[(np.abs(stats.zscore(df_c_w3['duration'])) < 3)].reset_index()\n",
    "df_c_w4 = df_c_w4[(np.abs(stats.zscore(df_c_w4['duration'])) < 3)].reset_index()"
   ]
  },
  {
   "cell_type": "code",
   "execution_count": 185,
   "metadata": {},
   "outputs": [
    {
     "name": "stdout",
     "output_type": "stream",
     "text": [
      "[ 7 10 11 14 16 17 18 20 21 22 23 25 27 28  2  3  4  5  6  7  8 29 30 31]\n"
     ]
    }
   ],
   "source": [
    "# determine unique days in dataset\n",
    "_, unique_days_w1 = get_unique_days(df_c_w1['start'])\n",
    "_, unique_days_w2 = get_unique_days(df_c_w2['start'])\n",
    "_, unique_days_w3 = get_unique_days(df_c_w3['start'])\n",
    "_, unique_days_w4 = get_unique_days(df_c_w4['start'])\n",
    "\n",
    "unique_days = np.concatenate((unique_days_w1, unique_days_w2, unique_days_w3, unique_days_w4), axis = 0)\n",
    "print(unique_days)"
   ]
  },
  {
   "cell_type": "code",
   "execution_count": 186,
   "metadata": {},
   "outputs": [],
   "source": [
    "# set day (of study) identifier\n",
    "df_c_w1['day'] = df_c_w1['start'].apply(lambda x: adjust_day(unique_days, unix_to_datetime(x).day))\n",
    "df_c_w2['day'] = df_c_w2['start'].apply(lambda x: adjust_day(unique_days, unix_to_datetime(x).day, blind=len(unique_days_w1)))\n",
    "df_c_w3['day'] = df_c_w3['start'].apply(lambda x: adjust_day(unique_days, unix_to_datetime(x).day, blind=len(unique_days_w1)+len(unique_days_w2)))\n",
    "df_c_w4['day'] = df_c_w4['start'].apply(lambda x: adjust_day(unique_days, unix_to_datetime(x).day, blind=len(unique_days_w1)+len(unique_days_w2)+len(unique_days_w3)))"
   ]
  },
  {
   "cell_type": "code",
   "execution_count": 187,
   "metadata": {},
   "outputs": [],
   "source": [
    "# set week identifier\n",
    "df_c_w1['week'] = 1\n",
    "df_c_w2['week'] = 2\n",
    "df_c_w3['week'] = 3\n",
    "df_c_w4['week'] = 4"
   ]
  },
  {
   "cell_type": "code",
   "execution_count": 188,
   "metadata": {},
   "outputs": [],
   "source": [
    "# apply data transform\n",
    "df_c_w1['log_duration'] = df_c_w1['duration'].apply(lambda x: math.log(x))\n",
    "df_c_w2['log_duration'] = df_c_w2['duration'].apply(lambda x: math.log(x))\n",
    "df_c_w3['log_duration'] = df_c_w3['duration'].apply(lambda x: math.log(x))\n",
    "df_c_w4['log_duration'] = df_c_w4['duration'].apply(lambda x: math.log(x))"
   ]
  },
  {
   "cell_type": "code",
   "execution_count": 189,
   "metadata": {},
   "outputs": [],
   "source": [
    "# remove index\n",
    "df_c_w1 = df_c_w1.iloc[:, 1:]\n",
    "df_c_w2 = df_c_w2.iloc[:, 1:]\n",
    "df_c_w3 = df_c_w3.iloc[:, 1:]\n",
    "df_c_w4 = df_c_w4.iloc[:, 1:]"
   ]
  },
  {
   "cell_type": "code",
   "execution_count": 190,
   "metadata": {},
   "outputs": [
    {
     "data": {
      "text/html": [
       "<div>\n",
       "<style scoped>\n",
       "    .dataframe tbody tr th:only-of-type {\n",
       "        vertical-align: middle;\n",
       "    }\n",
       "\n",
       "    .dataframe tbody tr th {\n",
       "        vertical-align: top;\n",
       "    }\n",
       "\n",
       "    .dataframe thead th {\n",
       "        text-align: right;\n",
       "    }\n",
       "</style>\n",
       "<table border=\"1\" class=\"dataframe\">\n",
       "  <thead>\n",
       "    <tr style=\"text-align: right;\">\n",
       "      <th></th>\n",
       "      <th>object</th>\n",
       "      <th>duration</th>\n",
       "      <th>start</th>\n",
       "      <th>day</th>\n",
       "      <th>week</th>\n",
       "      <th>log_duration</th>\n",
       "    </tr>\n",
       "  </thead>\n",
       "  <tbody>\n",
       "    <tr>\n",
       "      <th>0</th>\n",
       "      <td>nodetection</td>\n",
       "      <td>14.193398</td>\n",
       "      <td>1.499458e+09</td>\n",
       "      <td>0</td>\n",
       "      <td>1</td>\n",
       "      <td>2.652777</td>\n",
       "    </tr>\n",
       "    <tr>\n",
       "      <th>1</th>\n",
       "      <td>outside</td>\n",
       "      <td>22.588879</td>\n",
       "      <td>1.499458e+09</td>\n",
       "      <td>0</td>\n",
       "      <td>1</td>\n",
       "      <td>3.117458</td>\n",
       "    </tr>\n",
       "    <tr>\n",
       "      <th>2</th>\n",
       "      <td>nodetection</td>\n",
       "      <td>0.599435</td>\n",
       "      <td>1.499458e+09</td>\n",
       "      <td>0</td>\n",
       "      <td>1</td>\n",
       "      <td>-0.511768</td>\n",
       "    </tr>\n",
       "    <tr>\n",
       "      <th>3</th>\n",
       "      <td>outside</td>\n",
       "      <td>0.099960</td>\n",
       "      <td>1.499458e+09</td>\n",
       "      <td>0</td>\n",
       "      <td>1</td>\n",
       "      <td>-2.302987</td>\n",
       "    </tr>\n",
       "    <tr>\n",
       "      <th>4</th>\n",
       "      <td>nodetection</td>\n",
       "      <td>0.399282</td>\n",
       "      <td>1.499458e+09</td>\n",
       "      <td>0</td>\n",
       "      <td>1</td>\n",
       "      <td>-0.918088</td>\n",
       "    </tr>\n",
       "    <tr>\n",
       "      <th>...</th>\n",
       "      <td>...</td>\n",
       "      <td>...</td>\n",
       "      <td>...</td>\n",
       "      <td>...</td>\n",
       "      <td>...</td>\n",
       "      <td>...</td>\n",
       "    </tr>\n",
       "    <tr>\n",
       "      <th>1252</th>\n",
       "      <td>outside</td>\n",
       "      <td>0.900717</td>\n",
       "      <td>1.500052e+09</td>\n",
       "      <td>3</td>\n",
       "      <td>1</td>\n",
       "      <td>-0.104564</td>\n",
       "    </tr>\n",
       "    <tr>\n",
       "      <th>1253</th>\n",
       "      <td>nodetection</td>\n",
       "      <td>0.999582</td>\n",
       "      <td>1.500052e+09</td>\n",
       "      <td>3</td>\n",
       "      <td>1</td>\n",
       "      <td>-0.000418</td>\n",
       "    </tr>\n",
       "    <tr>\n",
       "      <th>1254</th>\n",
       "      <td>screen</td>\n",
       "      <td>2.700183</td>\n",
       "      <td>1.500052e+09</td>\n",
       "      <td>3</td>\n",
       "      <td>1</td>\n",
       "      <td>0.993319</td>\n",
       "    </tr>\n",
       "    <tr>\n",
       "      <th>1255</th>\n",
       "      <td>nodetection</td>\n",
       "      <td>5.200912</td>\n",
       "      <td>1.500052e+09</td>\n",
       "      <td>3</td>\n",
       "      <td>1</td>\n",
       "      <td>1.648834</td>\n",
       "    </tr>\n",
       "    <tr>\n",
       "      <th>1256</th>\n",
       "      <td>outside</td>\n",
       "      <td>0.199892</td>\n",
       "      <td>1.500052e+09</td>\n",
       "      <td>3</td>\n",
       "      <td>1</td>\n",
       "      <td>-1.609977</td>\n",
       "    </tr>\n",
       "  </tbody>\n",
       "</table>\n",
       "<p>1248 rows × 6 columns</p>\n",
       "</div>"
      ],
      "text/plain": [
       "           object   duration         start  day  week  log_duration\n",
       "0     nodetection  14.193398  1.499458e+09    0     1      2.652777\n",
       "1         outside  22.588879  1.499458e+09    0     1      3.117458\n",
       "2     nodetection   0.599435  1.499458e+09    0     1     -0.511768\n",
       "3         outside   0.099960  1.499458e+09    0     1     -2.302987\n",
       "4     nodetection   0.399282  1.499458e+09    0     1     -0.918088\n",
       "...           ...        ...           ...  ...   ...           ...\n",
       "1252      outside   0.900717  1.500052e+09    3     1     -0.104564\n",
       "1253  nodetection   0.999582  1.500052e+09    3     1     -0.000418\n",
       "1254       screen   2.700183  1.500052e+09    3     1      0.993319\n",
       "1255  nodetection   5.200912  1.500052e+09    3     1      1.648834\n",
       "1256      outside   0.199892  1.500052e+09    3     1     -1.609977\n",
       "\n",
       "[1248 rows x 6 columns]"
      ]
     },
     "execution_count": 190,
     "metadata": {},
     "output_type": "execute_result"
    }
   ],
   "source": [
    "# check table formatting\n",
    "df_c_w1"
   ]
  },
  {
   "cell_type": "code",
   "execution_count": null,
   "metadata": {},
   "outputs": [],
   "source": [
    "# combine all week dataframes\n",
    "frames = [df_c_w1, df_c_w2, df_c_w3, df_c_w4]\n",
    "df_c = pd.concat(frames)\n",
    "df_c"
   ]
  },
  {
   "cell_type": "markdown",
   "metadata": {},
   "source": [
    "### Plots"
   ]
  },
  {
   "cell_type": "code",
   "execution_count": 204,
   "metadata": {},
   "outputs": [],
   "source": [
    "# which object are we looking at?\n",
    "obj = 'parent'"
   ]
  },
  {
   "cell_type": "code",
   "execution_count": 241,
   "metadata": {},
   "outputs": [
    {
     "data": {
      "image/png": "[encoded data removed]",
      "text/plain": [
       "<Figure size 1080x576 with 1 Axes>"
      ]
     },
     "metadata": {},
     "output_type": "display_data"
    }
   ],
   "source": [
    "# example daily analysis, one week\n",
    "ax = sns.violinplot(x=\"day\", y=\"log_duration\", data=df_c_w4[df_c_w4['object'] == obj], palette=\"pastel\")"
   ]
  },
  {
   "cell_type": "code",
   "execution_count": 243,
   "metadata": {},
   "outputs": [
    {
     "data": {
      "image/png": "[encoded data removed]",
      "text/plain": [
       "<Figure size 1080x576 with 1 Axes>"
      ]
     },
     "metadata": {},
     "output_type": "display_data"
    }
   ],
   "source": [
    "# example weekly analysis, entire study\n",
    "ax = sns.violinplot(x=\"week\", y=\"log_duration\", data=df_c[df_c['object'] == obj], palette=\"pastel\")"
   ]
  },
  {
   "cell_type": "markdown",
   "metadata": {},
   "source": [
    "### One-Way ANOVA"
   ]
  },
  {
   "cell_type": "code",
   "execution_count": 209,
   "metadata": {},
   "outputs": [],
   "source": [
    "df_c_summary = pd.DataFrame({\n",
    "    'Week 1': df_c_w1[df_c_w1['object'] == obj]['duration'], \n",
    "    'Week 2': df_c_w2[df_c_w2['object'] == obj]['duration'], \n",
    "    'Week 3': df_c_w3[df_c_w3['object'] == obj]['duration'], \n",
    "    'Week 4': df_c_w4[df_c_w4['object'] == obj]['duration']\n",
    "})"
   ]
  },
  {
   "cell_type": "code",
   "execution_count": 210,
   "metadata": {},
   "outputs": [
    {
     "data": {
      "text/html": [
       "<div>\n",
       "<style scoped>\n",
       "    .dataframe tbody tr th:only-of-type {\n",
       "        vertical-align: middle;\n",
       "    }\n",
       "\n",
       "    .dataframe tbody tr th {\n",
       "        vertical-align: top;\n",
       "    }\n",
       "\n",
       "    .dataframe thead th {\n",
       "        text-align: right;\n",
       "    }\n",
       "</style>\n",
       "<table border=\"1\" class=\"dataframe\">\n",
       "  <thead>\n",
       "    <tr style=\"text-align: right;\">\n",
       "      <th></th>\n",
       "      <th>Week 1</th>\n",
       "      <th>Week 2</th>\n",
       "      <th>Week 3</th>\n",
       "      <th>Week 4</th>\n",
       "    </tr>\n",
       "  </thead>\n",
       "  <tbody>\n",
       "    <tr>\n",
       "      <th>count</th>\n",
       "      <td>3.000000</td>\n",
       "      <td>17.000000</td>\n",
       "      <td>11.000000</td>\n",
       "      <td>30.000000</td>\n",
       "    </tr>\n",
       "    <tr>\n",
       "      <th>mean</th>\n",
       "      <td>1.900031</td>\n",
       "      <td>0.488267</td>\n",
       "      <td>0.345446</td>\n",
       "      <td>0.453369</td>\n",
       "    </tr>\n",
       "    <tr>\n",
       "      <th>std</th>\n",
       "      <td>1.153088</td>\n",
       "      <td>0.590408</td>\n",
       "      <td>0.175254</td>\n",
       "      <td>0.642602</td>\n",
       "    </tr>\n",
       "    <tr>\n",
       "      <th>min</th>\n",
       "      <td>0.700276</td>\n",
       "      <td>0.099984</td>\n",
       "      <td>0.099974</td>\n",
       "      <td>0.099860</td>\n",
       "    </tr>\n",
       "    <tr>\n",
       "      <th>25%</th>\n",
       "      <td>1.350066</td>\n",
       "      <td>0.100104</td>\n",
       "      <td>0.249988</td>\n",
       "      <td>0.100041</td>\n",
       "    </tr>\n",
       "    <tr>\n",
       "      <th>50%</th>\n",
       "      <td>1.999855</td>\n",
       "      <td>0.300083</td>\n",
       "      <td>0.399939</td>\n",
       "      <td>0.200379</td>\n",
       "    </tr>\n",
       "    <tr>\n",
       "      <th>75%</th>\n",
       "      <td>2.499909</td>\n",
       "      <td>0.600007</td>\n",
       "      <td>0.400044</td>\n",
       "      <td>0.475112</td>\n",
       "    </tr>\n",
       "    <tr>\n",
       "      <th>max</th>\n",
       "      <td>2.999963</td>\n",
       "      <td>2.499989</td>\n",
       "      <td>0.699807</td>\n",
       "      <td>3.200118</td>\n",
       "    </tr>\n",
       "  </tbody>\n",
       "</table>\n",
       "</div>"
      ],
      "text/plain": [
       "         Week 1     Week 2     Week 3     Week 4\n",
       "count  3.000000  17.000000  11.000000  30.000000\n",
       "mean   1.900031   0.488267   0.345446   0.453369\n",
       "std    1.153088   0.590408   0.175254   0.642602\n",
       "min    0.700276   0.099984   0.099974   0.099860\n",
       "25%    1.350066   0.100104   0.249988   0.100041\n",
       "50%    1.999855   0.300083   0.399939   0.200379\n",
       "75%    2.499909   0.600007   0.400044   0.475112\n",
       "max    2.999963   2.499989   0.699807   3.200118"
      ]
     },
     "execution_count": 210,
     "metadata": {},
     "output_type": "execute_result"
    }
   ],
   "source": [
    "df_c_summary.describe()"
   ]
  },
  {
   "cell_type": "code",
   "execution_count": 211,
   "metadata": {},
   "outputs": [
    {
     "name": "stdout",
     "output_type": "stream",
     "text": [
      "F-Statistic=5.739, p=0.002\n"
     ]
    }
   ],
   "source": [
    "# one-way ANOVA, check if model is significant\n",
    "F, p = stats.f_oneway(\n",
    "    df_c_w1[df_c_w1['object'] == obj]['duration'], \n",
    "    df_c_w2[df_c_w2['object'] == obj]['duration'], \n",
    "    df_c_w3[df_c_w3['object'] == obj]['duration'], \n",
    "    df_c_w4[df_c_w4['object'] == obj]['duration']\n",
    ")\n",
    "\n",
    "print('F-Statistic=%.3f, p=%.3f' % (F, p))\n",
    "\n",
    "# if we see that p-value is < 0.05. \n",
    "# we can reject the null hypothesis which states that there is no difference among the different density groups"
   ]
  },
  {
   "cell_type": "code",
   "execution_count": 212,
   "metadata": {},
   "outputs": [
    {
     "data": {
      "text/html": [
       "<table class=\"simpletable\">\n",
       "<caption>OLS Regression Results</caption>\n",
       "<tr>\n",
       "  <th>Dep. Variable:</th>      <td>log_duration</td>   <th>  R-squared:         </th> <td>   0.160</td>\n",
       "</tr>\n",
       "<tr>\n",
       "  <th>Model:</th>                   <td>OLS</td>       <th>  Adj. R-squared:    </th> <td>   0.115</td>\n",
       "</tr>\n",
       "<tr>\n",
       "  <th>Method:</th>             <td>Least Squares</td>  <th>  F-statistic:       </th> <td>   3.611</td>\n",
       "</tr>\n",
       "<tr>\n",
       "  <th>Date:</th>             <td>Wed, 16 Mar 2022</td> <th>  Prob (F-statistic):</th>  <td>0.0185</td> \n",
       "</tr>\n",
       "<tr>\n",
       "  <th>Time:</th>                 <td>19:34:54</td>     <th>  Log-Likelihood:    </th> <td> -79.022</td>\n",
       "</tr>\n",
       "<tr>\n",
       "  <th>No. Observations:</th>      <td>    61</td>      <th>  AIC:               </th> <td>   166.0</td>\n",
       "</tr>\n",
       "<tr>\n",
       "  <th>Df Residuals:</th>          <td>    57</td>      <th>  BIC:               </th> <td>   174.5</td>\n",
       "</tr>\n",
       "<tr>\n",
       "  <th>Df Model:</th>              <td>     3</td>      <th>                     </th>     <td> </td>   \n",
       "</tr>\n",
       "<tr>\n",
       "  <th>Covariance Type:</th>      <td>nonrobust</td>    <th>                     </th>     <td> </td>   \n",
       "</tr>\n",
       "</table>\n",
       "<table class=\"simpletable\">\n",
       "<tr>\n",
       "        <td></td>          <th>coef</th>     <th>std err</th>      <th>t</th>      <th>P>|t|</th>  <th>[0.025</th>    <th>0.975]</th>  \n",
       "</tr>\n",
       "<tr>\n",
       "  <th>Intercept</th>    <td>    0.4785</td> <td>    0.528</td> <td>    0.906</td> <td> 0.369</td> <td>   -0.579</td> <td>    1.536</td>\n",
       "</tr>\n",
       "<tr>\n",
       "  <th>C(week)[T.2]</th> <td>   -1.6715</td> <td>    0.573</td> <td>   -2.919</td> <td> 0.005</td> <td>   -2.818</td> <td>   -0.525</td>\n",
       "</tr>\n",
       "<tr>\n",
       "  <th>C(week)[T.3]</th> <td>   -1.6910</td> <td>    0.596</td> <td>   -2.839</td> <td> 0.006</td> <td>   -2.883</td> <td>   -0.498</td>\n",
       "</tr>\n",
       "<tr>\n",
       "  <th>C(week)[T.4]</th> <td>   -1.8210</td> <td>    0.554</td> <td>   -3.289</td> <td> 0.002</td> <td>   -2.930</td> <td>   -0.712</td>\n",
       "</tr>\n",
       "</table>\n",
       "<table class=\"simpletable\">\n",
       "<tr>\n",
       "  <th>Omnibus:</th>       <td> 3.958</td> <th>  Durbin-Watson:     </th> <td>   2.100</td>\n",
       "</tr>\n",
       "<tr>\n",
       "  <th>Prob(Omnibus):</th> <td> 0.138</td> <th>  Jarque-Bera (JB):  </th> <td>   3.653</td>\n",
       "</tr>\n",
       "<tr>\n",
       "  <th>Skew:</th>          <td> 0.598</td> <th>  Prob(JB):          </th> <td>   0.161</td>\n",
       "</tr>\n",
       "<tr>\n",
       "  <th>Kurtosis:</th>      <td> 2.908</td> <th>  Cond. No.          </th> <td>    10.7</td>\n",
       "</tr>\n",
       "</table><br/><br/>Notes:<br/>[1] Standard Errors assume that the covariance matrix of the errors is correctly specified."
      ],
      "text/plain": [
       "<class 'statsmodels.iolib.summary.Summary'>\n",
       "\"\"\"\n",
       "                            OLS Regression Results                            \n",
       "==============================================================================\n",
       "Dep. Variable:           log_duration   R-squared:                       0.160\n",
       "Model:                            OLS   Adj. R-squared:                  0.115\n",
       "Method:                 Least Squares   F-statistic:                     3.611\n",
       "Date:                Wed, 16 Mar 2022   Prob (F-statistic):             0.0185\n",
       "Time:                        19:34:54   Log-Likelihood:                -79.022\n",
       "No. Observations:                  61   AIC:                             166.0\n",
       "Df Residuals:                      57   BIC:                             174.5\n",
       "Df Model:                           3                                         \n",
       "Covariance Type:            nonrobust                                         \n",
       "================================================================================\n",
       "                   coef    std err          t      P>|t|      [0.025      0.975]\n",
       "--------------------------------------------------------------------------------\n",
       "Intercept        0.4785      0.528      0.906      0.369      -0.579       1.536\n",
       "C(week)[T.2]    -1.6715      0.573     -2.919      0.005      -2.818      -0.525\n",
       "C(week)[T.3]    -1.6910      0.596     -2.839      0.006      -2.883      -0.498\n",
       "C(week)[T.4]    -1.8210      0.554     -3.289      0.002      -2.930      -0.712\n",
       "==============================================================================\n",
       "Omnibus:                        3.958   Durbin-Watson:                   2.100\n",
       "Prob(Omnibus):                  0.138   Jarque-Bera (JB):                3.653\n",
       "Skew:                           0.598   Prob(JB):                        0.161\n",
       "Kurtosis:                       2.908   Cond. No.                         10.7\n",
       "==============================================================================\n",
       "\n",
       "Notes:\n",
       "[1] Standard Errors assume that the covariance matrix of the errors is correctly specified.\n",
       "\"\"\""
      ]
     },
     "execution_count": 212,
     "metadata": {},
     "output_type": "execute_result"
    }
   ],
   "source": [
    "# one-way ANOVA, regress against each input variable to check influence over the target variable\n",
    "model = ols('log_duration ~ C(week)', df_c[df_c['object'] == obj]).fit()\n",
    "model.summary()"
   ]
  },
  {
   "cell_type": "code",
   "execution_count": 213,
   "metadata": {},
   "outputs": [
    {
     "name": "stdout",
     "output_type": "stream",
     "text": [
      "Overall model F( 3, 57) =  3.611, p =  0.0185\n"
     ]
    }
   ],
   "source": [
    "# check if overall model is significant\n",
    "print(f\"Overall model F({model.df_model: .0f},{model.df_resid: .0f}) = {model.fvalue: .3f}, p = {model.f_pvalue: .4f}\")"
   ]
  },
  {
   "cell_type": "code",
   "execution_count": 214,
   "metadata": {},
   "outputs": [
    {
     "data": {
      "text/html": [
       "<div>\n",
       "<style scoped>\n",
       "    .dataframe tbody tr th:only-of-type {\n",
       "        vertical-align: middle;\n",
       "    }\n",
       "\n",
       "    .dataframe tbody tr th {\n",
       "        vertical-align: top;\n",
       "    }\n",
       "\n",
       "    .dataframe thead th {\n",
       "        text-align: right;\n",
       "    }\n",
       "</style>\n",
       "<table border=\"1\" class=\"dataframe\">\n",
       "  <thead>\n",
       "    <tr style=\"text-align: right;\">\n",
       "      <th></th>\n",
       "      <th>sum_sq</th>\n",
       "      <th>df</th>\n",
       "      <th>F</th>\n",
       "      <th>PR(&gt;F)</th>\n",
       "    </tr>\n",
       "  </thead>\n",
       "  <tbody>\n",
       "    <tr>\n",
       "      <th>C(week)</th>\n",
       "      <td>9.054992</td>\n",
       "      <td>3.0</td>\n",
       "      <td>3.610615</td>\n",
       "      <td>0.018549</td>\n",
       "    </tr>\n",
       "    <tr>\n",
       "      <th>Residual</th>\n",
       "      <td>47.649732</td>\n",
       "      <td>57.0</td>\n",
       "      <td>NaN</td>\n",
       "      <td>NaN</td>\n",
       "    </tr>\n",
       "  </tbody>\n",
       "</table>\n",
       "</div>"
      ],
      "text/plain": [
       "             sum_sq    df         F    PR(>F)\n",
       "C(week)    9.054992   3.0  3.610615  0.018549\n",
       "Residual  47.649732  57.0       NaN       NaN"
      ]
     },
     "execution_count": 214,
     "metadata": {},
     "output_type": "execute_result"
    }
   ],
   "source": [
    "# create the ANOVA table\n",
    "res = sm.stats.anova_lm(model, typ= 2)\n",
    "res\n",
    "\n",
    "# from the output, we see that the p  >0.05. \n",
    "# Therefore, we cannot reject the null hypothesis. \n",
    "# There is no difference among the different weeks"
   ]
  },
  {
   "cell_type": "markdown",
   "metadata": {},
   "source": [
    "### Post Hoc"
   ]
  },
  {
   "cell_type": "code",
   "execution_count": 240,
   "metadata": {},
   "outputs": [
    {
     "name": "stdout",
     "output_type": "stream",
     "text": [
      "Multiple Comparison of Means - Tukey HSD, FWER=0.05 \n",
      "====================================================\n",
      "group1 group2 meandiff p-adj   lower   upper  reject\n",
      "----------------------------------------------------\n",
      "     1      2  -0.2059  0.001 -0.3259 -0.0859   True\n",
      "     1      3  -0.2604  0.001  -0.378 -0.1429   True\n",
      "     1      4  -0.4296  0.001 -0.5372  -0.322   True\n",
      "     2      3  -0.0545 0.4539 -0.1495  0.0404  False\n",
      "     2      4  -0.2237  0.001 -0.3061 -0.1414   True\n",
      "     3      4  -0.1692  0.001 -0.2479 -0.0904   True\n",
      "----------------------------------------------------\n"
     ]
    }
   ],
   "source": [
    "# tukey hsd test to examine where the group differences lie\n",
    "mc = statsmodels.stats.multicomp.MultiComparison(df_c['log_duration'], df_c['week'])\n",
    "mc_results = mc.tukeyhsd()\n",
    "print(mc_results)\n",
    "\n",
    "# where reject = True, there is a significant difference between the groups"
   ]
  },
  {
   "cell_type": "code",
   "execution_count": 219,
   "metadata": {},
   "outputs": [
    {
     "name": "stdout",
     "output_type": "stream",
     "text": [
      "0.9263902902603149 0.0012629823759198189\n"
     ]
    }
   ],
   "source": [
    "# normality assumption check using shapiro wilk test\n",
    "w, pvalue = stats.shapiro(model.resid)\n",
    "print(w, pvalue)\n",
    "\n",
    "# if the p-value >0.05\n",
    "# we can conclude that our data follows the gaussian distribution\n",
    "# else, it doesn't follow the assumptions of the ANOVA model"
   ]
  },
  {
   "cell_type": "code",
   "execution_count": 221,
   "metadata": {},
   "outputs": [
    {
     "data": {
      "image/png": "[encoded data removed]",
      "text/plain": [
       "<Figure size 1080x576 with 1 Axes>"
      ]
     },
     "metadata": {},
     "output_type": "display_data"
    }
   ],
   "source": [
    "# using the Normal Q-Q plot to test this assumption\n",
    "res = model.resid\n",
    "fig = sm.qqplot(res, line='s')\n",
    "plt.show()\n",
    "\n",
    "# if we see that all data points lie close to the 45-degree line\n",
    "# we can conclude it follows the normal distribution"
   ]
  },
  {
   "cell_type": "code",
   "execution_count": 227,
   "metadata": {},
   "outputs": [
    {
     "name": "stdout",
     "output_type": "stream",
     "text": [
      "Bartlett variance test: w=17.234, p=0.001\n",
      "Levene variance test: w=1.207, p=0.316\n"
     ]
    }
   ],
   "source": [
    "# homogeneity of variance assumption check\n",
    "\n",
    "# Bartlett variance test, Method 1\n",
    "wb, pb = stats.bartlett(\n",
    "    df_c_w1[df_c_w1['object'] == obj]['duration'], \n",
    "    df_c_w2[df_c_w2['object'] == obj]['duration'], \n",
    "    df_c_w3[df_c_w3['object'] == obj]['duration'], \n",
    "    df_c_w4[df_c_w4['object'] == obj]['duration']\n",
    ")\n",
    "print('Bartlett variance test: w=%.3f, p=%.3f' % (wb, pb))\n",
    "\n",
    "# Levene variance test, Method 2\n",
    "wl, pl = stats.levene(\n",
    "    df_c_w1[df_c_w1['object'] == obj]['duration'], \n",
    "    df_c_w2[df_c_w2['object'] == obj]['duration'], \n",
    "    df_c_w3[df_c_w3['object'] == obj]['duration'], \n",
    "    df_c_w4[df_c_w4['object'] == obj]['duration']\n",
    ")\n",
    "print('Levene variance test: w=%.3f, p=%.3f' % (wl, pl))\n",
    "\n",
    "# if we see p > 0.05 for all weeks\n",
    "# we can conclude that groups have equal variances"
   ]
  },
  {
   "cell_type": "markdown",
   "metadata": {},
   "source": [
    "### Two-Way ANOVA"
   ]
  },
  {
   "cell_type": "code",
   "execution_count": 229,
   "metadata": {},
   "outputs": [
    {
     "data": {
      "text/html": [
       "<table class=\"simpletable\">\n",
       "<caption>OLS Regression Results</caption>\n",
       "<tr>\n",
       "  <th>Dep. Variable:</th>      <td>log_duration</td>   <th>  R-squared:         </th> <td>   0.045</td> \n",
       "</tr>\n",
       "<tr>\n",
       "  <th>Model:</th>                   <td>OLS</td>       <th>  Adj. R-squared:    </th> <td>   0.044</td> \n",
       "</tr>\n",
       "<tr>\n",
       "  <th>Method:</th>             <td>Least Squares</td>  <th>  F-statistic:       </th> <td>   84.35</td> \n",
       "</tr>\n",
       "<tr>\n",
       "  <th>Date:</th>             <td>Wed, 16 Mar 2022</td> <th>  Prob (F-statistic):</th> <td>2.02e-120</td>\n",
       "</tr>\n",
       "<tr>\n",
       "  <th>Time:</th>                 <td>19:51:39</td>     <th>  Log-Likelihood:    </th> <td> -21445.</td> \n",
       "</tr>\n",
       "<tr>\n",
       "  <th>No. Observations:</th>      <td> 12622</td>      <th>  AIC:               </th> <td>4.291e+04</td>\n",
       "</tr>\n",
       "<tr>\n",
       "  <th>Df Residuals:</th>          <td> 12614</td>      <th>  BIC:               </th> <td>4.297e+04</td>\n",
       "</tr>\n",
       "<tr>\n",
       "  <th>Df Model:</th>              <td>     7</td>      <th>                     </th>     <td> </td>    \n",
       "</tr>\n",
       "<tr>\n",
       "  <th>Covariance Type:</th>      <td>nonrobust</td>    <th>                     </th>     <td> </td>    \n",
       "</tr>\n",
       "</table>\n",
       "<table class=\"simpletable\">\n",
       "<tr>\n",
       "            <td></td>              <th>coef</th>     <th>std err</th>      <th>t</th>      <th>P>|t|</th>  <th>[0.025</th>    <th>0.975]</th>  \n",
       "</tr>\n",
       "<tr>\n",
       "  <th>Intercept</th>            <td>   -0.1081</td> <td>    0.041</td> <td>   -2.665</td> <td> 0.008</td> <td>   -0.188</td> <td>   -0.029</td>\n",
       "</tr>\n",
       "<tr>\n",
       "  <th>C(week)[T.2]</th>         <td>   -0.1785</td> <td>    0.046</td> <td>   -3.877</td> <td> 0.000</td> <td>   -0.269</td> <td>   -0.088</td>\n",
       "</tr>\n",
       "<tr>\n",
       "  <th>C(week)[T.3]</th>         <td>   -0.2517</td> <td>    0.045</td> <td>   -5.574</td> <td> 0.000</td> <td>   -0.340</td> <td>   -0.163</td>\n",
       "</tr>\n",
       "<tr>\n",
       "  <th>C(week)[T.4]</th>         <td>   -0.4281</td> <td>    0.041</td> <td>  -10.350</td> <td> 0.000</td> <td>   -0.509</td> <td>   -0.347</td>\n",
       "</tr>\n",
       "<tr>\n",
       "  <th>C(object)[T.outside]</th> <td>   -0.4860</td> <td>    0.034</td> <td>  -14.168</td> <td> 0.000</td> <td>   -0.553</td> <td>   -0.419</td>\n",
       "</tr>\n",
       "<tr>\n",
       "  <th>C(object)[T.parent]</th>  <td>   -0.7741</td> <td>    0.171</td> <td>   -4.528</td> <td> 0.000</td> <td>   -1.109</td> <td>   -0.439</td>\n",
       "</tr>\n",
       "<tr>\n",
       "  <th>C(object)[T.robot]</th>   <td>   -0.3294</td> <td>    0.044</td> <td>   -7.434</td> <td> 0.000</td> <td>   -0.416</td> <td>   -0.243</td>\n",
       "</tr>\n",
       "<tr>\n",
       "  <th>C(object)[T.screen]</th>  <td>    0.1364</td> <td>    0.029</td> <td>    4.725</td> <td> 0.000</td> <td>    0.080</td> <td>    0.193</td>\n",
       "</tr>\n",
       "</table>\n",
       "<table class=\"simpletable\">\n",
       "<tr>\n",
       "  <th>Omnibus:</th>       <td>2931.050</td> <th>  Durbin-Watson:     </th> <td>   1.929</td> \n",
       "</tr>\n",
       "<tr>\n",
       "  <th>Prob(Omnibus):</th>  <td> 0.000</td>  <th>  Jarque-Bera (JB):  </th> <td>16873.130</td>\n",
       "</tr>\n",
       "<tr>\n",
       "  <th>Skew:</th>           <td> 0.992</td>  <th>  Prob(JB):          </th> <td>    0.00</td> \n",
       "</tr>\n",
       "<tr>\n",
       "  <th>Kurtosis:</th>       <td> 8.305</td>  <th>  Cond. No.          </th> <td>    18.3</td> \n",
       "</tr>\n",
       "</table><br/><br/>Notes:<br/>[1] Standard Errors assume that the covariance matrix of the errors is correctly specified."
      ],
      "text/plain": [
       "<class 'statsmodels.iolib.summary.Summary'>\n",
       "\"\"\"\n",
       "                            OLS Regression Results                            \n",
       "==============================================================================\n",
       "Dep. Variable:           log_duration   R-squared:                       0.045\n",
       "Model:                            OLS   Adj. R-squared:                  0.044\n",
       "Method:                 Least Squares   F-statistic:                     84.35\n",
       "Date:                Wed, 16 Mar 2022   Prob (F-statistic):          2.02e-120\n",
       "Time:                        19:51:39   Log-Likelihood:                -21445.\n",
       "No. Observations:               12622   AIC:                         4.291e+04\n",
       "Df Residuals:                   12614   BIC:                         4.297e+04\n",
       "Df Model:                           7                                         \n",
       "Covariance Type:            nonrobust                                         \n",
       "========================================================================================\n",
       "                           coef    std err          t      P>|t|      [0.025      0.975]\n",
       "----------------------------------------------------------------------------------------\n",
       "Intercept               -0.1081      0.041     -2.665      0.008      -0.188      -0.029\n",
       "C(week)[T.2]            -0.1785      0.046     -3.877      0.000      -0.269      -0.088\n",
       "C(week)[T.3]            -0.2517      0.045     -5.574      0.000      -0.340      -0.163\n",
       "C(week)[T.4]            -0.4281      0.041    -10.350      0.000      -0.509      -0.347\n",
       "C(object)[T.outside]    -0.4860      0.034    -14.168      0.000      -0.553      -0.419\n",
       "C(object)[T.parent]     -0.7741      0.171     -4.528      0.000      -1.109      -0.439\n",
       "C(object)[T.robot]      -0.3294      0.044     -7.434      0.000      -0.416      -0.243\n",
       "C(object)[T.screen]      0.1364      0.029      4.725      0.000       0.080       0.193\n",
       "==============================================================================\n",
       "Omnibus:                     2931.050   Durbin-Watson:                   1.929\n",
       "Prob(Omnibus):                  0.000   Jarque-Bera (JB):            16873.130\n",
       "Skew:                           0.992   Prob(JB):                         0.00\n",
       "Kurtosis:                       8.305   Cond. No.                         18.3\n",
       "==============================================================================\n",
       "\n",
       "Notes:\n",
       "[1] Standard Errors assume that the covariance matrix of the errors is correctly specified.\n",
       "\"\"\""
      ]
     },
     "execution_count": 229,
     "metadata": {},
     "output_type": "execute_result"
    }
   ],
   "source": [
    "model2 = ols('log_duration ~ C(week)+ C(object)', df_c).fit()\n",
    "model2.summary()"
   ]
  },
  {
   "cell_type": "code",
   "execution_count": 230,
   "metadata": {},
   "outputs": [
    {
     "name": "stdout",
     "output_type": "stream",
     "text": [
      "Overall model F( 7.0, 12614.0) =  84.34829085661737, p =  2.0245205635809637e-120\n"
     ]
    }
   ],
   "source": [
    "print(f\"Overall model F({model2.df_model: },{model2.df_resid: }) = {model2.fvalue: }, p = {model2.f_pvalue: }\")"
   ]
  },
  {
   "cell_type": "code",
   "execution_count": 232,
   "metadata": {},
   "outputs": [
    {
     "data": {
      "image/png": "[encoded data removed]",
      "text/plain": [
       "<Figure size 1080x576 with 1 Axes>"
      ]
     },
     "metadata": {},
     "output_type": "display_data"
    }
   ],
   "source": [
    "# create the ANOVA table\n",
    "res2 = sm.stats.anova_lm(model2, typ=2)\n",
    "res2\n",
    "\n",
    "# check the Normal distribution of residuals\n",
    "res = model2.resid\n",
    "fig = sm.qqplot(res, line='s')\n",
    "plt.show()\n",
    "\n",
    "# from the Q-Q plot, we can see that residuals are almost normally distributed\n",
    "# (although points at the extreme ends can be discounted)\n",
    "# hence we conclude that it satisfies the normality assumption of the ANOVA test"
   ]
  },
  {
   "cell_type": "code",
   "execution_count": 234,
   "metadata": {},
   "outputs": [
    {
     "data": {
      "text/html": [
       "<table class=\"simpletable\">\n",
       "<caption>OLS Regression Results</caption>\n",
       "<tr>\n",
       "  <th>Dep. Variable:</th>      <td>log_duration</td>   <th>  R-squared:         </th> <td>   0.067</td> \n",
       "</tr>\n",
       "<tr>\n",
       "  <th>Model:</th>                   <td>OLS</td>       <th>  Adj. R-squared:    </th> <td>   0.066</td> \n",
       "</tr>\n",
       "<tr>\n",
       "  <th>Method:</th>             <td>Least Squares</td>  <th>  F-statistic:       </th> <td>   47.80</td> \n",
       "</tr>\n",
       "<tr>\n",
       "  <th>Date:</th>             <td>Wed, 16 Mar 2022</td> <th>  Prob (F-statistic):</th> <td>7.01e-174</td>\n",
       "</tr>\n",
       "<tr>\n",
       "  <th>Time:</th>                 <td>19:53:36</td>     <th>  Log-Likelihood:    </th> <td> -21295.</td> \n",
       "</tr>\n",
       "<tr>\n",
       "  <th>No. Observations:</th>      <td> 12622</td>      <th>  AIC:               </th> <td>4.263e+04</td>\n",
       "</tr>\n",
       "<tr>\n",
       "  <th>Df Residuals:</th>          <td> 12602</td>      <th>  BIC:               </th> <td>4.278e+04</td>\n",
       "</tr>\n",
       "<tr>\n",
       "  <th>Df Model:</th>              <td>    19</td>      <th>                     </th>     <td> </td>    \n",
       "</tr>\n",
       "<tr>\n",
       "  <th>Covariance Type:</th>      <td>nonrobust</td>    <th>                     </th>     <td> </td>    \n",
       "</tr>\n",
       "</table>\n",
       "<table class=\"simpletable\">\n",
       "<tr>\n",
       "                  <td></td>                     <th>coef</th>     <th>std err</th>      <th>t</th>      <th>P>|t|</th>  <th>[0.025</th>    <th>0.975]</th>  \n",
       "</tr>\n",
       "<tr>\n",
       "  <th>Intercept</th>                         <td>    0.4962</td> <td>    0.058</td> <td>    8.596</td> <td> 0.000</td> <td>    0.383</td> <td>    0.609</td>\n",
       "</tr>\n",
       "<tr>\n",
       "  <th>C(week)[T.2]</th>                      <td>   -0.6098</td> <td>    0.076</td> <td>   -7.972</td> <td> 0.000</td> <td>   -0.760</td> <td>   -0.460</td>\n",
       "</tr>\n",
       "<tr>\n",
       "  <th>C(week)[T.3]</th>                      <td>   -0.9813</td> <td>    0.075</td> <td>  -13.027</td> <td> 0.000</td> <td>   -1.129</td> <td>   -0.834</td>\n",
       "</tr>\n",
       "<tr>\n",
       "  <th>C(week)[T.4]</th>                      <td>   -1.2371</td> <td>    0.066</td> <td>  -18.705</td> <td> 0.000</td> <td>   -1.367</td> <td>   -1.107</td>\n",
       "</tr>\n",
       "<tr>\n",
       "  <th>C(object)[T.outside]</th>              <td>   -1.1827</td> <td>    0.102</td> <td>  -11.577</td> <td> 0.000</td> <td>   -1.383</td> <td>   -0.982</td>\n",
       "</tr>\n",
       "<tr>\n",
       "  <th>C(object)[T.parent]</th>               <td>   -0.0177</td> <td>    0.758</td> <td>   -0.023</td> <td> 0.981</td> <td>   -1.503</td> <td>    1.468</td>\n",
       "</tr>\n",
       "<tr>\n",
       "  <th>C(object)[T.robot]</th>                <td>   -1.3492</td> <td>    0.163</td> <td>   -8.292</td> <td> 0.000</td> <td>   -1.668</td> <td>   -1.030</td>\n",
       "</tr>\n",
       "<tr>\n",
       "  <th>C(object)[T.screen]</th>               <td>   -1.0966</td> <td>    0.086</td> <td>  -12.707</td> <td> 0.000</td> <td>   -1.266</td> <td>   -0.927</td>\n",
       "</tr>\n",
       "<tr>\n",
       "  <th>C(week)[T.2]:C(object)[T.outside]</th> <td>    0.4837</td> <td>    0.126</td> <td>    3.849</td> <td> 0.000</td> <td>    0.237</td> <td>    0.730</td>\n",
       "</tr>\n",
       "<tr>\n",
       "  <th>C(week)[T.3]:C(object)[T.outside]</th> <td>    0.7717</td> <td>    0.125</td> <td>    6.170</td> <td> 0.000</td> <td>    0.527</td> <td>    1.017</td>\n",
       "</tr>\n",
       "<tr>\n",
       "  <th>C(week)[T.4]:C(object)[T.outside]</th> <td>    0.9691</td> <td>    0.114</td> <td>    8.503</td> <td> 0.000</td> <td>    0.746</td> <td>    1.193</td>\n",
       "</tr>\n",
       "<tr>\n",
       "  <th>C(week)[T.2]:C(object)[T.parent]</th>  <td>   -1.0617</td> <td>    0.823</td> <td>   -1.290</td> <td> 0.197</td> <td>   -2.675</td> <td>    0.552</td>\n",
       "</tr>\n",
       "<tr>\n",
       "  <th>C(week)[T.3]:C(object)[T.parent]</th>  <td>   -0.7096</td> <td>    0.856</td> <td>   -0.829</td> <td> 0.407</td> <td>   -2.387</td> <td>    0.968</td>\n",
       "</tr>\n",
       "<tr>\n",
       "  <th>C(week)[T.4]:C(object)[T.parent]</th>  <td>   -0.5839</td> <td>    0.795</td> <td>   -0.734</td> <td> 0.463</td> <td>   -2.143</td> <td>    0.975</td>\n",
       "</tr>\n",
       "<tr>\n",
       "  <th>C(week)[T.2]:C(object)[T.robot]</th>   <td>    0.7234</td> <td>    0.192</td> <td>    3.761</td> <td> 0.000</td> <td>    0.346</td> <td>    1.100</td>\n",
       "</tr>\n",
       "<tr>\n",
       "  <th>C(week)[T.3]:C(object)[T.robot]</th>   <td>    1.1867</td> <td>    0.187</td> <td>    6.341</td> <td> 0.000</td> <td>    0.820</td> <td>    1.553</td>\n",
       "</tr>\n",
       "<tr>\n",
       "  <th>C(week)[T.4]:C(object)[T.robot]</th>   <td>    1.2965</td> <td>    0.174</td> <td>    7.460</td> <td> 0.000</td> <td>    0.956</td> <td>    1.637</td>\n",
       "</tr>\n",
       "<tr>\n",
       "  <th>C(week)[T.2]:C(object)[T.screen]</th>  <td>    0.9941</td> <td>    0.108</td> <td>    9.187</td> <td> 0.000</td> <td>    0.782</td> <td>    1.206</td>\n",
       "</tr>\n",
       "<tr>\n",
       "  <th>C(week)[T.3]:C(object)[T.screen]</th>  <td>    1.4495</td> <td>    0.106</td> <td>   13.702</td> <td> 0.000</td> <td>    1.242</td> <td>    1.657</td>\n",
       "</tr>\n",
       "<tr>\n",
       "  <th>C(week)[T.4]:C(object)[T.screen]</th>  <td>    1.5208</td> <td>    0.096</td> <td>   15.898</td> <td> 0.000</td> <td>    1.333</td> <td>    1.708</td>\n",
       "</tr>\n",
       "</table>\n",
       "<table class=\"simpletable\">\n",
       "<tr>\n",
       "  <th>Omnibus:</th>       <td>3011.823</td> <th>  Durbin-Watson:     </th> <td>   1.908</td> \n",
       "</tr>\n",
       "<tr>\n",
       "  <th>Prob(Omnibus):</th>  <td> 0.000</td>  <th>  Jarque-Bera (JB):  </th> <td>18330.981</td>\n",
       "</tr>\n",
       "<tr>\n",
       "  <th>Skew:</th>           <td> 1.006</td>  <th>  Prob(JB):          </th> <td>    0.00</td> \n",
       "</tr>\n",
       "<tr>\n",
       "  <th>Kurtosis:</th>       <td> 8.550</td>  <th>  Cond. No.          </th> <td>    172.</td> \n",
       "</tr>\n",
       "</table><br/><br/>Notes:<br/>[1] Standard Errors assume that the covariance matrix of the errors is correctly specified."
      ],
      "text/plain": [
       "<class 'statsmodels.iolib.summary.Summary'>\n",
       "\"\"\"\n",
       "                            OLS Regression Results                            \n",
       "==============================================================================\n",
       "Dep. Variable:           log_duration   R-squared:                       0.067\n",
       "Model:                            OLS   Adj. R-squared:                  0.066\n",
       "Method:                 Least Squares   F-statistic:                     47.80\n",
       "Date:                Wed, 16 Mar 2022   Prob (F-statistic):          7.01e-174\n",
       "Time:                        19:53:36   Log-Likelihood:                -21295.\n",
       "No. Observations:               12622   AIC:                         4.263e+04\n",
       "Df Residuals:                   12602   BIC:                         4.278e+04\n",
       "Df Model:                          19                                         \n",
       "Covariance Type:            nonrobust                                         \n",
       "=====================================================================================================\n",
       "                                        coef    std err          t      P>|t|      [0.025      0.975]\n",
       "-----------------------------------------------------------------------------------------------------\n",
       "Intercept                             0.4962      0.058      8.596      0.000       0.383       0.609\n",
       "C(week)[T.2]                         -0.6098      0.076     -7.972      0.000      -0.760      -0.460\n",
       "C(week)[T.3]                         -0.9813      0.075    -13.027      0.000      -1.129      -0.834\n",
       "C(week)[T.4]                         -1.2371      0.066    -18.705      0.000      -1.367      -1.107\n",
       "C(object)[T.outside]                 -1.1827      0.102    -11.577      0.000      -1.383      -0.982\n",
       "C(object)[T.parent]                  -0.0177      0.758     -0.023      0.981      -1.503       1.468\n",
       "C(object)[T.robot]                   -1.3492      0.163     -8.292      0.000      -1.668      -1.030\n",
       "C(object)[T.screen]                  -1.0966      0.086    -12.707      0.000      -1.266      -0.927\n",
       "C(week)[T.2]:C(object)[T.outside]     0.4837      0.126      3.849      0.000       0.237       0.730\n",
       "C(week)[T.3]:C(object)[T.outside]     0.7717      0.125      6.170      0.000       0.527       1.017\n",
       "C(week)[T.4]:C(object)[T.outside]     0.9691      0.114      8.503      0.000       0.746       1.193\n",
       "C(week)[T.2]:C(object)[T.parent]     -1.0617      0.823     -1.290      0.197      -2.675       0.552\n",
       "C(week)[T.3]:C(object)[T.parent]     -0.7096      0.856     -0.829      0.407      -2.387       0.968\n",
       "C(week)[T.4]:C(object)[T.parent]     -0.5839      0.795     -0.734      0.463      -2.143       0.975\n",
       "C(week)[T.2]:C(object)[T.robot]       0.7234      0.192      3.761      0.000       0.346       1.100\n",
       "C(week)[T.3]:C(object)[T.robot]       1.1867      0.187      6.341      0.000       0.820       1.553\n",
       "C(week)[T.4]:C(object)[T.robot]       1.2965      0.174      7.460      0.000       0.956       1.637\n",
       "C(week)[T.2]:C(object)[T.screen]      0.9941      0.108      9.187      0.000       0.782       1.206\n",
       "C(week)[T.3]:C(object)[T.screen]      1.4495      0.106     13.702      0.000       1.242       1.657\n",
       "C(week)[T.4]:C(object)[T.screen]      1.5208      0.096     15.898      0.000       1.333       1.708\n",
       "==============================================================================\n",
       "Omnibus:                     3011.823   Durbin-Watson:                   1.908\n",
       "Prob(Omnibus):                  0.000   Jarque-Bera (JB):            18330.981\n",
       "Skew:                           1.006   Prob(JB):                         0.00\n",
       "Kurtosis:                       8.550   Cond. No.                         172.\n",
       "==============================================================================\n",
       "\n",
       "Notes:\n",
       "[1] Standard Errors assume that the covariance matrix of the errors is correctly specified.\n",
       "\"\"\""
      ]
     },
     "execution_count": 234,
     "metadata": {},
     "output_type": "execute_result"
    }
   ],
   "source": [
    "# check the interaction of groups\n",
    "formula = 'log_duration ~ C(week) *C(object)'\n",
    "model = ols(formula, df_c).fit()\n",
    "model.summary()"
   ]
  },
  {
   "cell_type": "code",
   "execution_count": 238,
   "metadata": {},
   "outputs": [
    {
     "name": "stdout",
     "output_type": "stream",
     "text": [
      "                       sum_sq       df         F  PR(>F)\n",
      "C(week)              252.9234      3.0   49.2295     0.0\n",
      "C(object)            794.5607      4.0  115.9911     0.0\n",
      "C(week):C(object)    520.6585     12.0   25.3355     0.0\n",
      "Residual           21581.5233  12602.0       NaN     NaN\n"
     ]
    }
   ],
   "source": [
    "from statsmodels.stats.anova import anova_lm\n",
    "aov_table = anova_lm(model, typ=2)\n",
    "print(aov_table.round(4))"
   ]
  },
  {
   "cell_type": "code",
   "execution_count": 239,
   "metadata": {},
   "outputs": [
    {
     "name": "stdout",
     "output_type": "stream",
     "text": [
      "   Multiple Comparison of Means - Tukey HSD, FWER=0.05    \n",
      "==========================================================\n",
      "   group1    group2 meandiff p-adj   lower   upper  reject\n",
      "----------------------------------------------------------\n",
      "nodetection outside   -0.492  0.001 -0.5859 -0.3981   True\n",
      "nodetection  parent  -0.7971  0.001  -1.266 -0.3282   True\n",
      "nodetection   robot  -0.3633  0.001 -0.4844 -0.2421   True\n",
      "nodetection  screen   0.1136  0.001  0.0347  0.1925   True\n",
      "    outside  parent  -0.3051 0.3929 -0.7756  0.1653  False\n",
      "    outside   robot   0.1287 0.0449  0.0018  0.2556   True\n",
      "    outside  screen   0.6056  0.001  0.5182   0.693   True\n",
      "     parent   robot   0.4339 0.0943 -0.0428  0.9105  False\n",
      "     parent  screen   0.9107  0.001  0.4431  1.3784   True\n",
      "      robot  screen   0.4769  0.001  0.3606  0.5931   True\n",
      "----------------------------------------------------------\n"
     ]
    }
   ],
   "source": [
    "mc = statsmodels.stats.multicomp.MultiComparison(df_c['log_duration'], df_c['object'])\n",
    "mc_results = mc.tukeyhsd()\n",
    "print(mc_results)"
   ]
  },
  {
   "cell_type": "markdown",
   "metadata": {},
   "source": [
    "## ANOVA on Joint Attention"
   ]
  },
  {
   "cell_type": "code",
   "execution_count": 3,
   "metadata": {},
   "outputs": [],
   "source": [
    "from scipy import stats\n",
    "import statsmodels.api as sm"
   ]
  },
  {
   "cell_type": "code",
   "execution_count": 4,
   "metadata": {},
   "outputs": [],
   "source": [
    "PID = '1_EXP05_Full/'"
   ]
  },
  {
   "cell_type": "code",
   "execution_count": 5,
   "metadata": {},
   "outputs": [],
   "source": [
    "# read from existing files\n",
    "df_cr_w1 = pd.read_csv(PID + 'week_1/' + 'child-robot.csv')\n",
    "df_cp_w1 = pd.read_csv(PID + 'week_1/' + 'child-parent.csv')\n",
    "df_pr_w1 = pd.read_csv(PID + 'week_1/' + 'parent-robot.csv')\n",
    "\n",
    "df_cr_w2 = pd.read_csv(PID + 'week_2/' + 'child-robot.csv')\n",
    "df_cp_w2 = pd.read_csv(PID + 'week_2/' + 'child-parent.csv')\n",
    "df_pr_w2 = pd.read_csv(PID + 'week_2/' + 'parent-robot.csv')\n",
    "\n",
    "df_cr_w3 = pd.read_csv(PID + 'week_3/' + 'child-robot.csv')\n",
    "df_cp_w3 = pd.read_csv(PID + 'week_3/' + 'child-parent.csv')\n",
    "df_pr_w3 = pd.read_csv(PID + 'week_3/' + 'parent-robot.csv')\n",
    "\n",
    "df_cr_w4 = pd.read_csv(PID + 'week_4/' + 'child-robot.csv')\n",
    "df_cp_w4 = pd.read_csv(PID + 'week_4/' + 'child-parent.csv')\n",
    "df_pr_w4 = pd.read_csv(PID + 'week_4/' + 'parent-robot.csv')"
   ]
  },
  {
   "cell_type": "code",
   "execution_count": 6,
   "metadata": {},
   "outputs": [],
   "source": [
    "# remove outlier lags based on stable behavior throughout the week\n",
    "df_cr_w1 = df_cr_w1[(np.abs(stats.zscore(df_cr_w1['lag'])) < 3)].reset_index()\n",
    "df_cp_w1 = df_cp_w1[(np.abs(stats.zscore(df_cp_w1['lag'])) < 3)].reset_index()\n",
    "df_pr_w1 = df_pr_w1[(np.abs(stats.zscore(df_pr_w1['lag'])) < 3)].reset_index()\n",
    "\n",
    "df_cr_w2 = df_cr_w2[(np.abs(stats.zscore(df_cr_w2['lag'])) < 3)].reset_index()\n",
    "df_cp_w2 = df_cp_w2[(np.abs(stats.zscore(df_cp_w2['lag'])) < 3)].reset_index()\n",
    "df_pr_w2 = df_pr_w2[(np.abs(stats.zscore(df_pr_w2['lag'])) < 3)].reset_index()\n",
    "\n",
    "df_cr_w3 = df_cr_w3[(np.abs(stats.zscore(df_cr_w3['lag'])) < 3)].reset_index()\n",
    "df_cp_w3 = df_cp_w3[(np.abs(stats.zscore(df_cp_w3['lag'])) < 3)].reset_index()\n",
    "df_pr_w3 = df_pr_w3[(np.abs(stats.zscore(df_pr_w3['lag'])) < 3)].reset_index()\n",
    "\n",
    "df_cr_w4 = df_cr_w4[(np.abs(stats.zscore(df_cr_w4['lag'])) < 3)].reset_index()\n",
    "df_cp_w4 = df_cp_w4[(np.abs(stats.zscore(df_cp_w4['lag'])) < 3)].reset_index()\n",
    "df_pr_w4 = df_pr_w4[(np.abs(stats.zscore(df_pr_w4['lag'])) < 3)].reset_index()"
   ]
  },
  {
   "cell_type": "code",
   "execution_count": 7,
   "metadata": {},
   "outputs": [],
   "source": [
    "def unix_to_datetime(ts):\n",
    "    return datetime.utcfromtimestamp(ts)\n",
    "\n",
    "def get_unique_days(df_column):\n",
    "    realtime = df_column.apply(lambda x: unix_to_datetime(x))\n",
    "    days = np.array(realtime.apply(lambda x: x.day))\n",
    "    return days, np.unique(days)\n",
    "\n",
    "def get_day_into_study(days, prev_days = 0):\n",
    "    adj = list(range(0, len(days)))\n",
    "    res = [x + prev_days for x in adj]\n",
    "    return res\n",
    "\n",
    "def search(l, n):\n",
    "    for i in range(len(l)):\n",
    "        if l[i] == n:\n",
    "            return i\n",
    "    return -1\n",
    "\n",
    "def adjust_day(uniq, n, blind = 0):\n",
    "    haystack = uniq[blind:]\n",
    "    idx = search(haystack, n)\n",
    "    return idx + blind"
   ]
  },
  {
   "cell_type": "code",
   "execution_count": 8,
   "metadata": {},
   "outputs": [
    {
     "name": "stdout",
     "output_type": "stream",
     "text": [
      "[ 7 10 11 14 16 17 18 20 21 22 23 25 27 28  2  3  4  5  6  7  8 29 30 31]\n"
     ]
    }
   ],
   "source": [
    "_, unique_days_w1 = get_unique_days(df_cr_w1['start'])\n",
    "_, unique_days_w2 = get_unique_days(df_cr_w2['start'])\n",
    "_, unique_days_w3 = get_unique_days(df_cr_w3['start'])\n",
    "_, unique_days_w4 = get_unique_days(df_cr_w4['start'])\n",
    "\n",
    "unique_days = np.concatenate((unique_days_w1, unique_days_w2, unique_days_w3, unique_days_w4), axis = 0)\n",
    "print(unique_days)"
   ]
  },
  {
   "cell_type": "code",
   "execution_count": 9,
   "metadata": {},
   "outputs": [],
   "source": [
    "df_cr_w1['day_study'] = df_cr_w1['start'].apply(lambda x: adjust_day(unique_days, unix_to_datetime(x).day))\n",
    "df_cr_w2['day_study'] = df_cr_w2['start'].apply(lambda x: adjust_day(unique_days, unix_to_datetime(x).day, blind=len(unique_days_w1)))\n",
    "df_cr_w3['day_study'] = df_cr_w3['start'].apply(lambda x: adjust_day(unique_days, unix_to_datetime(x).day, blind=len(unique_days_w1)+len(unique_days_w2)))\n",
    "df_cr_w4['day_study'] = df_cr_w4['start'].apply(lambda x: adjust_day(unique_days, unix_to_datetime(x).day, blind=len(unique_days_w1)+len(unique_days_w2)+len(unique_days_w3)))"
   ]
  },
  {
   "cell_type": "code",
   "execution_count": 93,
   "metadata": {},
   "outputs": [],
   "source": [
    "# frames = [df_cr_w1, df_cr_w2, df_cr_w3, df_cr_w4]\n",
    "# df_cr = pd.concat(frames)\n",
    "# df_cr = df_cr.iloc[:, 1:]"
   ]
  },
  {
   "cell_type": "code",
   "execution_count": 94,
   "metadata": {},
   "outputs": [
    {
     "data": {
      "text/html": [
       "<div>\n",
       "<style scoped>\n",
       "    .dataframe tbody tr th:only-of-type {\n",
       "        vertical-align: middle;\n",
       "    }\n",
       "\n",
       "    .dataframe tbody tr th {\n",
       "        vertical-align: top;\n",
       "    }\n",
       "\n",
       "    .dataframe thead th {\n",
       "        text-align: right;\n",
       "    }\n",
       "</style>\n",
       "<table border=\"1\" class=\"dataframe\">\n",
       "  <thead>\n",
       "    <tr style=\"text-align: right;\">\n",
       "      <th></th>\n",
       "      <th>object</th>\n",
       "      <th>duration</th>\n",
       "      <th>start</th>\n",
       "      <th>initiator</th>\n",
       "      <th>lag</th>\n",
       "      <th>day_study</th>\n",
       "      <th>week_study</th>\n",
       "    </tr>\n",
       "  </thead>\n",
       "  <tbody>\n",
       "    <tr>\n",
       "      <th>0</th>\n",
       "      <td>contact</td>\n",
       "      <td>0.999396</td>\n",
       "      <td>1.499458e+09</td>\n",
       "      <td>robot</td>\n",
       "      <td>13.697562</td>\n",
       "      <td>0</td>\n",
       "      <td>1</td>\n",
       "    </tr>\n",
       "    <tr>\n",
       "      <th>1</th>\n",
       "      <td>contact</td>\n",
       "      <td>19.099964</td>\n",
       "      <td>1.499458e+09</td>\n",
       "      <td>robot</td>\n",
       "      <td>14.796889</td>\n",
       "      <td>0</td>\n",
       "      <td>1</td>\n",
       "    </tr>\n",
       "    <tr>\n",
       "      <th>2</th>\n",
       "      <td>contact</td>\n",
       "      <td>1.499971</td>\n",
       "      <td>1.499458e+09</td>\n",
       "      <td>robot</td>\n",
       "      <td>0.904794</td>\n",
       "      <td>0</td>\n",
       "      <td>1</td>\n",
       "    </tr>\n",
       "    <tr>\n",
       "      <th>3</th>\n",
       "      <td>contact</td>\n",
       "      <td>2.199933</td>\n",
       "      <td>1.499458e+09</td>\n",
       "      <td>robot</td>\n",
       "      <td>2.504795</td>\n",
       "      <td>0</td>\n",
       "      <td>1</td>\n",
       "    </tr>\n",
       "    <tr>\n",
       "      <th>4</th>\n",
       "      <td>contact</td>\n",
       "      <td>0.199958</td>\n",
       "      <td>1.499458e+09</td>\n",
       "      <td>robot</td>\n",
       "      <td>4.804777</td>\n",
       "      <td>0</td>\n",
       "      <td>1</td>\n",
       "    </tr>\n",
       "    <tr>\n",
       "      <th>...</th>\n",
       "      <td>...</td>\n",
       "      <td>...</td>\n",
       "      <td>...</td>\n",
       "      <td>...</td>\n",
       "      <td>...</td>\n",
       "      <td>...</td>\n",
       "      <td>...</td>\n",
       "    </tr>\n",
       "    <tr>\n",
       "      <th>6358</th>\n",
       "      <td>contact</td>\n",
       "      <td>0.000000</td>\n",
       "      <td>1.502151e+09</td>\n",
       "      <td>robot</td>\n",
       "      <td>10.845541</td>\n",
       "      <td>20</td>\n",
       "      <td>4</td>\n",
       "    </tr>\n",
       "    <tr>\n",
       "      <th>6359</th>\n",
       "      <td>contact</td>\n",
       "      <td>0.199831</td>\n",
       "      <td>1.502151e+09</td>\n",
       "      <td>robot</td>\n",
       "      <td>10.945595</td>\n",
       "      <td>20</td>\n",
       "      <td>4</td>\n",
       "    </tr>\n",
       "    <tr>\n",
       "      <th>6360</th>\n",
       "      <td>contact</td>\n",
       "      <td>0.200178</td>\n",
       "      <td>1.502151e+09</td>\n",
       "      <td>robot</td>\n",
       "      <td>11.245524</td>\n",
       "      <td>20</td>\n",
       "      <td>4</td>\n",
       "    </tr>\n",
       "    <tr>\n",
       "      <th>6361</th>\n",
       "      <td>contact</td>\n",
       "      <td>4.099981</td>\n",
       "      <td>1.502151e+09</td>\n",
       "      <td>robot</td>\n",
       "      <td>11.545519</td>\n",
       "      <td>20</td>\n",
       "      <td>4</td>\n",
       "    </tr>\n",
       "    <tr>\n",
       "      <th>6362</th>\n",
       "      <td>screen</td>\n",
       "      <td>1.499903</td>\n",
       "      <td>1.502151e+09</td>\n",
       "      <td>robot</td>\n",
       "      <td>1.645625</td>\n",
       "      <td>20</td>\n",
       "      <td>4</td>\n",
       "    </tr>\n",
       "  </tbody>\n",
       "</table>\n",
       "<p>13012 rows × 7 columns</p>\n",
       "</div>"
      ],
      "text/plain": [
       "       object   duration         start initiator        lag  day_study  \\\n",
       "0     contact   0.999396  1.499458e+09     robot  13.697562          0   \n",
       "1     contact  19.099964  1.499458e+09     robot  14.796889          0   \n",
       "2     contact   1.499971  1.499458e+09     robot   0.904794          0   \n",
       "3     contact   2.199933  1.499458e+09     robot   2.504795          0   \n",
       "4     contact   0.199958  1.499458e+09     robot   4.804777          0   \n",
       "...       ...        ...           ...       ...        ...        ...   \n",
       "6358  contact   0.000000  1.502151e+09     robot  10.845541         20   \n",
       "6359  contact   0.199831  1.502151e+09     robot  10.945595         20   \n",
       "6360  contact   0.200178  1.502151e+09     robot  11.245524         20   \n",
       "6361  contact   4.099981  1.502151e+09     robot  11.545519         20   \n",
       "6362   screen   1.499903  1.502151e+09     robot   1.645625         20   \n",
       "\n",
       "      week_study  \n",
       "0              1  \n",
       "1              1  \n",
       "2              1  \n",
       "3              1  \n",
       "4              1  \n",
       "...          ...  \n",
       "6358           4  \n",
       "6359           4  \n",
       "6360           4  \n",
       "6361           4  \n",
       "6362           4  \n",
       "\n",
       "[13012 rows x 7 columns]"
      ]
     },
     "execution_count": 94,
     "metadata": {},
     "output_type": "execute_result"
    }
   ],
   "source": [
    "df_cr"
   ]
  },
  {
   "cell_type": "code",
   "execution_count": null,
   "metadata": {},
   "outputs": [],
   "source": [
    "# across control and experimental\n",
    "resumption_lag_y = df_x['te_p_resumption'] - df_x['a_p_resumption']\n",
    "resumption_lag_x = df_x.drop(columns=['te_p_resumption', 'a_p_resumption'])"
   ]
  },
  {
   "cell_type": "code",
   "execution_count": null,
   "metadata": {},
   "outputs": [],
   "source": [
    "model = sm.OLS(resumption_lag_y, resumption_lag_x)\n",
    "results = model.fit()\n",
    "print(results.summary())"
   ]
  },
  {
   "cell_type": "markdown",
   "metadata": {},
   "source": [
    "## Fundamental Descriptors"
   ]
  },
  {
   "cell_type": "code",
   "execution_count": 96,
   "metadata": {},
   "outputs": [],
   "source": [
    "import scipy.stats.distributions as dist"
   ]
  },
  {
   "cell_type": "code",
   "execution_count": 95,
   "metadata": {},
   "outputs": [
    {
     "name": "stdout",
     "output_type": "stream",
     "text": [
      "nodetection    0.411297\n",
      "screen         0.332538\n",
      "outside        0.194909\n",
      "robot          0.058870\n",
      "parent         0.002387\n",
      "Name: object, dtype: float64 \n",
      "\n",
      "screen         0.379835\n",
      "nodetection    0.335125\n",
      "outside        0.179756\n",
      "robot          0.100170\n",
      "parent         0.005113\n",
      "Name: object, dtype: float64\n"
     ]
    }
   ],
   "source": [
    "# what does the child focus on more (in general)?\n",
    "print(child_w1_df['object'].value_counts()/len(child_w1_df['object']), '\\n')\n",
    "print(child_w4_df['object'].value_counts()/len(child_w4_df['object']))"
   ]
  }
 ],
 "metadata": {
  "kernelspec": {
   "display_name": "Python 3",
   "language": "python",
   "name": "python3"
  },
  "language_info": {
   "codemirror_mode": {
    "name": "ipython",
    "version": 3
   },
   "file_extension": ".py",
   "mimetype": "text/x-python",
   "name": "python",
   "nbconvert_exporter": "python",
   "pygments_lexer": "ipython3",
   "version": "3.8.5"
  }
 },
 "nbformat": 4,
 "nbformat_minor": 4
}
