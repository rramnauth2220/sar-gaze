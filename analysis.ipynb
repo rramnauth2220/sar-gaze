{
 "cells": [
  {
   "cell_type": "code",
   "execution_count": 1,
   "metadata": {},
   "outputs": [],
   "source": [
    "from datetime import datetime\n",
    "import pandas as pd\n",
    "import seaborn as sea\n",
    "import matplotlib.pyplot as plt\n",
    "from scipy import stats\n",
    "import numpy as np\n",
    "import seaborn as sns\n",
    "import re"
   ]
  },
  {
   "cell_type": "code",
   "execution_count": 2,
   "metadata": {},
   "outputs": [],
   "source": [
    "PID = '1_EXP05_Full/'"
   ]
  },
  {
   "cell_type": "code",
   "execution_count": 57,
   "metadata": {},
   "outputs": [],
   "source": [
    "# read from existing files\n",
    "df_cr_w1 = pd.read_csv(PID + 'week_1/' + 'child-robot.csv')\n",
    "df_cp_w1 = pd.read_csv(PID + 'week_1/' + 'child-parent.csv')\n",
    "df_pr_w1 = pd.read_csv(PID + 'week_1/' + 'parent-robot.csv')\n",
    "\n",
    "df_cr_w2 = pd.read_csv(PID + 'week_2/' + 'child-robot.csv')\n",
    "df_cp_w2 = pd.read_csv(PID + 'week_2/' + 'child-parent.csv')\n",
    "df_pr_w2 = pd.read_csv(PID + 'week_2/' + 'parent-robot.csv')\n",
    "\n",
    "df_cr_w3 = pd.read_csv(PID + 'week_3/' + 'child-robot.csv')\n",
    "df_cp_w3 = pd.read_csv(PID + 'week_3/' + 'child-parent.csv')\n",
    "df_pr_w3 = pd.read_csv(PID + 'week_3/' + 'parent-robot.csv')\n",
    "\n",
    "df_cr_w4 = pd.read_csv(PID + 'week_4/' + 'child-robot.csv')\n",
    "df_cp_w4 = pd.read_csv(PID + 'week_4/' + 'child-parent.csv')\n",
    "df_pr_w4 = pd.read_csv(PID + 'week_4/' + 'parent-robot.csv')"
   ]
  },
  {
   "cell_type": "code",
   "execution_count": 4,
   "metadata": {},
   "outputs": [],
   "source": [
    "plt.rcParams.update(plt.rcParamsDefault)\n",
    "sns.set_style('white')"
   ]
  },
  {
   "cell_type": "code",
   "execution_count": 44,
   "metadata": {},
   "outputs": [],
   "source": [
    "# remove outlier lags based on stable behavior throughout the week\n",
    "df_cr_w1 = df_cr_w1[(np.abs(stats.zscore(df_cr_w1['lag'])) < 3)].reset_index()\n",
    "df_cp_w1 = df_cp_w1[(np.abs(stats.zscore(df_cp_w1['lag'])) < 3)].reset_index()\n",
    "df_pr_w1 = df_pr_w1[(np.abs(stats.zscore(df_pr_w1['lag'])) < 3)].reset_index()\n",
    "\n",
    "df_cr_w2 = df_cr_w2[(np.abs(stats.zscore(df_cr_w2['lag'])) < 3)].reset_index()\n",
    "df_cp_w2 = df_cp_w2[(np.abs(stats.zscore(df_cp_w2['lag'])) < 3)].reset_index()\n",
    "df_pr_w2 = df_pr_w2[(np.abs(stats.zscore(df_pr_w2['lag'])) < 3)].reset_index()\n",
    "\n",
    "df_cr_w3 = df_cr_w3[(np.abs(stats.zscore(df_cr_w3['lag'])) < 3)].reset_index()\n",
    "df_cp_w3 = df_cp_w3[(np.abs(stats.zscore(df_cp_w3['lag'])) < 3)].reset_index()\n",
    "df_pr_w3 = df_pr_w3[(np.abs(stats.zscore(df_pr_w3['lag'])) < 3)].reset_index()\n",
    "\n",
    "df_cr_w4 = df_cr_w4[(np.abs(stats.zscore(df_cr_w4['lag'])) < 3)].reset_index()\n",
    "df_cp_w4 = df_cp_w4[(np.abs(stats.zscore(df_cp_w4['lag'])) < 3)].reset_index()\n",
    "df_pr_w4 = df_pr_w4[(np.abs(stats.zscore(df_pr_w4['lag'])) < 3)].reset_index()"
   ]
  },
  {
   "cell_type": "code",
   "execution_count": 45,
   "metadata": {},
   "outputs": [],
   "source": [
    "def unix_to_datetime(ts):\n",
    "    return datetime.utcfromtimestamp(ts)\n",
    "\n",
    "def get_unique_days(df_column):\n",
    "    realtime = df_column.apply(lambda x: unix_to_datetime(x))\n",
    "    days = np.array(realtime.apply(lambda x: x.day))\n",
    "    return days, np.unique(days)"
   ]
  },
  {
   "cell_type": "code",
   "execution_count": 46,
   "metadata": {},
   "outputs": [],
   "source": [
    "days_w1, unique_days_w1 = get_unique_days(df_cr_w1['start'])\n",
    "days_w2, unique_days_w2 = get_unique_days(df_cr_w2['start'])\n",
    "days_w3, unique_days_w3 = get_unique_days(df_cr_w3['start'])\n",
    "days_w4, unique_days_w4 = get_unique_days(df_cr_w4['start'])"
   ]
  },
  {
   "cell_type": "code",
   "execution_count": 47,
   "metadata": {},
   "outputs": [],
   "source": [
    "df_cr_w1.insert(0, 'day', df_cr_w1['start'].apply(lambda x: unix_to_datetime(x).day))\n",
    "df_cr_w2.insert(0, 'day', df_cr_w2['start'].apply(lambda x: unix_to_datetime(x).day))\n",
    "df_cr_w3.insert(0, 'day', df_cr_w3['start'].apply(lambda x: unix_to_datetime(x).day))\n",
    "df_cr_w4.insert(0, 'day', df_cr_w4['start'].apply(lambda x: unix_to_datetime(x).day))"
   ]
  },
  {
   "cell_type": "code",
   "execution_count": 48,
   "metadata": {},
   "outputs": [
    {
     "data": {
      "text/html": [
       "<div>\n",
       "<style scoped>\n",
       "    .dataframe tbody tr th:only-of-type {\n",
       "        vertical-align: middle;\n",
       "    }\n",
       "\n",
       "    .dataframe tbody tr th {\n",
       "        vertical-align: top;\n",
       "    }\n",
       "\n",
       "    .dataframe thead th {\n",
       "        text-align: right;\n",
       "    }\n",
       "</style>\n",
       "<table border=\"1\" class=\"dataframe\">\n",
       "  <thead>\n",
       "    <tr style=\"text-align: right;\">\n",
       "      <th></th>\n",
       "      <th>day</th>\n",
       "      <th>index</th>\n",
       "      <th>object</th>\n",
       "      <th>duration</th>\n",
       "      <th>start</th>\n",
       "      <th>initiator</th>\n",
       "      <th>lag</th>\n",
       "    </tr>\n",
       "  </thead>\n",
       "  <tbody>\n",
       "    <tr>\n",
       "      <th>894</th>\n",
       "      <td>14</td>\n",
       "      <td>919</td>\n",
       "      <td>contact</td>\n",
       "      <td>3.699973</td>\n",
       "      <td>1.500051e+09</td>\n",
       "      <td>robot</td>\n",
       "      <td>0.641798</td>\n",
       "    </tr>\n",
       "    <tr>\n",
       "      <th>895</th>\n",
       "      <td>14</td>\n",
       "      <td>920</td>\n",
       "      <td>contact</td>\n",
       "      <td>9.399909</td>\n",
       "      <td>1.500051e+09</td>\n",
       "      <td>robot</td>\n",
       "      <td>4.441726</td>\n",
       "    </tr>\n",
       "    <tr>\n",
       "      <th>896</th>\n",
       "      <td>14</td>\n",
       "      <td>921</td>\n",
       "      <td>screen</td>\n",
       "      <td>0.400106</td>\n",
       "      <td>1.500051e+09</td>\n",
       "      <td>robot</td>\n",
       "      <td>0.542044</td>\n",
       "    </tr>\n",
       "    <tr>\n",
       "      <th>897</th>\n",
       "      <td>14</td>\n",
       "      <td>922</td>\n",
       "      <td>screen</td>\n",
       "      <td>0.399849</td>\n",
       "      <td>1.500051e+09</td>\n",
       "      <td>robot</td>\n",
       "      <td>5.542161</td>\n",
       "    </tr>\n",
       "    <tr>\n",
       "      <th>898</th>\n",
       "      <td>14</td>\n",
       "      <td>923</td>\n",
       "      <td>screen</td>\n",
       "      <td>0.200105</td>\n",
       "      <td>1.500051e+09</td>\n",
       "      <td>robot</td>\n",
       "      <td>0.141984</td>\n",
       "    </tr>\n",
       "    <tr>\n",
       "      <th>...</th>\n",
       "      <td>...</td>\n",
       "      <td>...</td>\n",
       "      <td>...</td>\n",
       "      <td>...</td>\n",
       "      <td>...</td>\n",
       "      <td>...</td>\n",
       "      <td>...</td>\n",
       "    </tr>\n",
       "    <tr>\n",
       "      <th>1081</th>\n",
       "      <td>14</td>\n",
       "      <td>1106</td>\n",
       "      <td>screen</td>\n",
       "      <td>0.100012</td>\n",
       "      <td>1.500052e+09</td>\n",
       "      <td>robot</td>\n",
       "      <td>9.743358</td>\n",
       "    </tr>\n",
       "    <tr>\n",
       "      <th>1082</th>\n",
       "      <td>14</td>\n",
       "      <td>1107</td>\n",
       "      <td>screen</td>\n",
       "      <td>0.700130</td>\n",
       "      <td>1.500052e+09</td>\n",
       "      <td>robot</td>\n",
       "      <td>12.343449</td>\n",
       "    </tr>\n",
       "    <tr>\n",
       "      <th>1083</th>\n",
       "      <td>14</td>\n",
       "      <td>1108</td>\n",
       "      <td>screen</td>\n",
       "      <td>1.900110</td>\n",
       "      <td>1.500052e+09</td>\n",
       "      <td>robot</td>\n",
       "      <td>13.143455</td>\n",
       "    </tr>\n",
       "    <tr>\n",
       "      <th>1084</th>\n",
       "      <td>14</td>\n",
       "      <td>1109</td>\n",
       "      <td>screen</td>\n",
       "      <td>0.200094</td>\n",
       "      <td>1.500052e+09</td>\n",
       "      <td>robot</td>\n",
       "      <td>15.143565</td>\n",
       "    </tr>\n",
       "    <tr>\n",
       "      <th>1085</th>\n",
       "      <td>14</td>\n",
       "      <td>1110</td>\n",
       "      <td>screen</td>\n",
       "      <td>0.200015</td>\n",
       "      <td>1.500052e+09</td>\n",
       "      <td>robot</td>\n",
       "      <td>31.443560</td>\n",
       "    </tr>\n",
       "  </tbody>\n",
       "</table>\n",
       "<p>192 rows × 7 columns</p>\n",
       "</div>"
      ],
      "text/plain": [
       "      day  index   object  duration         start initiator        lag\n",
       "894    14    919  contact  3.699973  1.500051e+09     robot   0.641798\n",
       "895    14    920  contact  9.399909  1.500051e+09     robot   4.441726\n",
       "896    14    921   screen  0.400106  1.500051e+09     robot   0.542044\n",
       "897    14    922   screen  0.399849  1.500051e+09     robot   5.542161\n",
       "898    14    923   screen  0.200105  1.500051e+09     robot   0.141984\n",
       "...   ...    ...      ...       ...           ...       ...        ...\n",
       "1081   14   1106   screen  0.100012  1.500052e+09     robot   9.743358\n",
       "1082   14   1107   screen  0.700130  1.500052e+09     robot  12.343449\n",
       "1083   14   1108   screen  1.900110  1.500052e+09     robot  13.143455\n",
       "1084   14   1109   screen  0.200094  1.500052e+09     robot  15.143565\n",
       "1085   14   1110   screen  0.200015  1.500052e+09     robot  31.443560\n",
       "\n",
       "[192 rows x 7 columns]"
      ]
     },
     "execution_count": 48,
     "metadata": {},
     "output_type": "execute_result"
    }
   ],
   "source": [
    "df_cr_w1[df_cr_w1['day'] == unique_days_w1[3]]"
   ]
  },
  {
   "cell_type": "code",
   "execution_count": 32,
   "metadata": {},
   "outputs": [],
   "source": [
    "df_cr_w1[df_cr_w1['day'] == unique_days_w1[3]].to_csv('test.csv')"
   ]
  },
  {
   "cell_type": "code",
   "execution_count": 53,
   "metadata": {},
   "outputs": [],
   "source": [
    "def separate_by_day(df_week, unique_days):\n",
    "    dfs_days = []\n",
    "    for day in unique_days:\n",
    "        df_day = df_week[df_week['day']==day]\n",
    "        epoch_start = df_day['start'].min()\n",
    "        df_day.insert(0, 'epoch', df_day['start'].apply(lambda x: x - epoch_start))\n",
    "        df_day.insert(0, 'timestamp', df_day['start'].apply(lambda x: str(int((x - epoch_start)/60)) + ':' + str(int((x - epoch_start)%60))))\n",
    "        df_day = df_day[(np.abs(stats.zscore(df_day['epoch'])) < 3)]\n",
    "        df_day = df_day[(np.abs(stats.zscore(df_day['lag'])) < 3)]\n",
    "        dfs_days.append(df_day)\n",
    "    return dfs_days"
   ]
  },
  {
   "cell_type": "code",
   "execution_count": 54,
   "metadata": {},
   "outputs": [],
   "source": [
    "dfs_cr_w1 = separate_by_day(df_cr_w1, unique_days_w1)\n",
    "dfs_cr_w2 = separate_by_day(df_cr_w2, unique_days_w2)\n",
    "dfs_cr_w3 = separate_by_day(df_cr_w3, unique_days_w3)\n",
    "dfs_cr_w4 = separate_by_day(df_cr_w4, unique_days_w4)"
   ]
  },
  {
   "cell_type": "code",
   "execution_count": 56,
   "metadata": {},
   "outputs": [],
   "source": [
    "dfs_cr_w1[3].to_csv('test.csv')"
   ]
  },
  {
   "cell_type": "code",
   "execution_count": 13,
   "metadata": {},
   "outputs": [],
   "source": [
    "from scipy.stats import ttest_ind\n",
    "from sklearn.linear_model import LinearRegression\n",
    "from sklearn.preprocessing import StandardScaler"
   ]
  },
  {
   "cell_type": "code",
   "execution_count": 22,
   "metadata": {},
   "outputs": [
    {
     "name": "stdout",
     "output_type": "stream",
     "text": [
      "score=0.052, coef=0.022, intercept=21.225\n"
     ]
    },
    {
     "data": {
      "image/png": "[encoded data removed]",
      "text/plain": [
       "<Figure size 640x480 with 1 Axes>"
      ]
     },
     "metadata": {},
     "output_type": "display_data"
    }
   ],
   "source": [
    "# example plot for a given day\n",
    "\n",
    "X = np.array(dfs_cr_w1[1][dfs_cr_w1[1]['initiator'] == 'robot']['epoch']).reshape(-1, 1)\n",
    "y = np.array(dfs_cr_w1[1][dfs_cr_w1[1]['initiator'] == 'robot']['lag'])\n",
    "\n",
    "reg = LinearRegression().fit(X, y)\n",
    "print('score=%.3f, coef=%.3f, intercept=%.3f' % (reg.score(X, y), reg.coef_, reg.intercept_))\n",
    "\n",
    "plt.scatter(X, y, color='red')\n",
    "plt.plot(X, reg.predict(X), color='blue')\n",
    "plt.show()"
   ]
  },
  {
   "cell_type": "code",
   "execution_count": 23,
   "metadata": {},
   "outputs": [
    {
     "name": "stdout",
     "output_type": "stream",
     "text": [
      "\n",
      "WEEK 1:\n",
      "day=0, score=1.00000, coef=1.00000, intercept=-210.402, linear?=True\n",
      "day=1, score=0.05173, coef=0.02193, intercept=21.225, linear?=False\n",
      "day=2, score=0.97185, coef=0.90161, intercept=-120.677, linear?=True\n",
      "day=3, score=0.67428, coef=0.78599, intercept=-51.058, linear?=True\n",
      "\tt=4.657, p=0.0000057665*\n",
      "\n",
      "WEEK 2:\n",
      "day=0, score=0.10624, coef=-0.02208, intercept=12.671, linear?=False\n",
      "day=1, score=0.05258, coef=0.01856, intercept=14.622, linear?=False\n",
      "day=2, score=0.13819, coef=-0.00048, intercept=46.453, linear?=False\n",
      "day=3, score=0.47000, coef=0.10330, intercept=-20.635, linear?=False\n",
      "\tt=7.996, p=0.0000000000*\n",
      "\n",
      "WEEK 3:\n",
      "day=0, score=0.00802, coef=-0.01579, intercept=34.278, linear?=False\n",
      "day=1, score=0.07730, coef=-0.00142, intercept=127.251, linear?=False\n",
      "day=2, score=0.18320, coef=0.06893, intercept=3.217, linear?=False\n",
      "day=3, score=0.25649, coef=0.18286, intercept=11.885, linear?=False\n",
      "day=4, score=0.04114, coef=0.01882, intercept=16.645, linear?=False\n",
      "day=5, score=0.05893, coef=0.01863, intercept=14.250, linear?=False\n",
      "\tt=1.242, p=0.2143666453\n",
      "\n",
      "WEEK 4:\n",
      "day=0, score=1.00000, coef=1.00000, intercept=1.052, linear?=True\n",
      "day=1, score=0.41685, coef=-0.09999, intercept=74.946, linear?=False\n",
      "day=2, score=0.00077, coef=-0.00233, intercept=27.698, linear?=False\n",
      "day=3, score=0.00179, coef=0.00635, intercept=28.596, linear?=False\n",
      "day=4, score=0.01040, coef=-0.00621, intercept=28.436, linear?=False\n",
      "day=5, score=1.00000, coef=1.00000, intercept=3.607, linear?=True\n",
      "day=6, score=0.14735, coef=-0.01589, intercept=18.532, linear?=False\n",
      "day=7, score=0.21371, coef=0.04010, intercept=-0.202, linear?=False\n",
      "day=8, score=0.00396, coef=-0.00716, intercept=11.959, linear?=False\n",
      "day=9, score=0.00256, coef=0.00621, intercept=31.409, linear?=False\n",
      "\tt=2.203, p=0.0280271803*\n"
     ]
    }
   ],
   "source": [
    "def linear_regression_by_day(df_days):\n",
    "    d = 0\n",
    "    for df_day in df_days:\n",
    "        X = np.array(df_day[df_day['initiator'] == 'robot']['epoch']).reshape(-1, 1)\n",
    "        y = np.array(df_day[df_day['initiator'] == 'robot']['lag'])\n",
    "\n",
    "        reg = LinearRegression().fit(X, y)\n",
    "        linear = reg.coef_ > 0.6\n",
    "        print('day=%d, score=%.5f, coef=%.5f, intercept=%.3f, linear?=%s' % (d, reg.score(X, y), reg.coef_, reg.intercept_, linear[0]))\n",
    "        d = d + 1\n",
    "\n",
    "def ttest_between(p1, p2):\n",
    "    y1 = np.array(p1[p1['initiator'] == 'robot']['lag'])\n",
    "    y2 = np.array(p2[p2['initiator'] == 'robot']['lag'])\n",
    "\n",
    "    stat, p = ttest_ind(y2, y1)\n",
    "    significance = '*' if p <= 0.05 else ''\n",
    "    print('\\tt=%.3f, p=%.10f%s' % (stat, p, significance))\n",
    "\n",
    "print('\\nWEEK 1:')\n",
    "linear_regression_by_day(dfs_cr_w1)\n",
    "ttest_between(dfs_cr_w1[0], dfs_cr_w1[-1])\n",
    "\n",
    "print('\\nWEEK 2:')\n",
    "linear_regression_by_day(dfs_cr_w2)\n",
    "ttest_between(dfs_cr_w2[0], dfs_cr_w2[-1])\n",
    "\n",
    "print('\\nWEEK 3:')\n",
    "linear_regression_by_day(dfs_cr_w3)\n",
    "ttest_between(dfs_cr_w3[0], dfs_cr_w3[-1])\n",
    "\n",
    "print('\\nWEEK 4:')\n",
    "linear_regression_by_day(dfs_cr_w4)\n",
    "ttest_between(dfs_cr_w4[0], dfs_cr_w4[-1])"
   ]
  },
  {
   "cell_type": "code",
   "execution_count": 24,
   "metadata": {},
   "outputs": [
    {
     "data": {
      "image/png": "[encoded data removed]",
      "text/plain": [
       "<Figure size 640x480 with 1 Axes>"
      ]
     },
     "metadata": {},
     "output_type": "display_data"
    }
   ],
   "source": [
    "fig = plt.figure()\n",
    "ax1 = fig.add_subplot(111)\n",
    "\n",
    "counter = 0\n",
    "for df_day in dfs_cr_w1:\n",
    "    X = np.array(df_day[df_day['initiator'] == 'robot']['epoch']).reshape(-1, 1)\n",
    "    y = np.array(df_day[df_day['initiator'] == 'robot']['lag'])\n",
    "    ax1.scatter(X, y, s=10, marker=\"s\", label='day ' + str(counter))\n",
    "    counter = counter + 1\n",
    "    \n",
    "plt.legend(loc='upper right');\n",
    "plt.show()"
   ]
  },
  {
   "cell_type": "code",
   "execution_count": null,
   "metadata": {},
   "outputs": [],
   "source": []
  }
 ],
 "metadata": {
  "kernelspec": {
   "display_name": "Python 3",
   "language": "python",
   "name": "python3"
  },
  "language_info": {
   "codemirror_mode": {
    "name": "ipython",
    "version": 3
   },
   "file_extension": ".py",
   "mimetype": "text/x-python",
   "name": "python",
   "nbconvert_exporter": "python",
   "pygments_lexer": "ipython3",
   "version": "3.8.5"
  }
 },
 "nbformat": 4,
 "nbformat_minor": 4
}
